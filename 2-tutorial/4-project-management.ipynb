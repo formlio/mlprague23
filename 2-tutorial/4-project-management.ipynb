{
 "cells": [
  {
   "cell_type": "markdown",
   "id": "e99c9d5b-7558-4a55-b4d9-b07797976eba",
   "metadata": {
    "slideshow": {
     "slide_type": "slide"
    },
    "tags": []
   },
   "source": [
    "# Project Resources Management\n",
    "\n",
    "Objective:\n",
    "\n",
    "> Learning how ML solutions and their lifecycles can be managed as software projects.\n",
    "\n",
    "Principles:\n",
    "\n",
    "1. Project resources are organized to facilitate development, collaboration, and maintainability.\n",
    "2. **Development lifecycle** handles all the project development phases leading to a model release. \n",
    "3. **Model registry** represents the persistence layer holding the published project artifacts at rest.\n",
    "4. **Production lifecycle** takes care of all the necessary model operations after its release."
   ]
  },
  {
   "cell_type": "markdown",
   "id": "dfdbaead-2b0a-47b1-8ef4-40108ea8a2e2",
   "metadata": {
    "slideshow": {
     "slide_type": "slide"
    },
    "tags": []
   },
   "source": [
    "## Project Setup\n",
    "\n",
    "ForML based solutions are standard Python projects typically with [the following minimal structure](https://docs.forml.io/en/latest/project.html):\n",
    "\n",
    "| Component          | Location                 |\n",
    "|--------------------|--------------------------|\n",
    "| Project Descriptor | `pyproject.toml`         |\n",
    "| Dependencies       | `pyproject.toml`         |\n",
    "| Data Requirements  | `<module>/source.py`     |\n",
    "| Evaluation Spec    | `<module>/evaluation.py` |\n",
    "| Model Pipeline     | `<module>/pipeline.py`   |\n",
    "| Tests              | `tests/`                 |\n",
    "\n",
    "Additional typical components not used directly by ForML (see for example [Cookiecutter Datascience](https://drivendata.github.io/cookiecutter-data-science/)):\n",
    "* `data/`\n",
    "* `docs/`\n",
    "* `notebooks/`\n",
    "* CI/CD descriptors"
   ]
  },
  {
   "cell_type": "markdown",
   "id": "3f4c9ff7-4e07-4f68-8e05-1729823a1323",
   "metadata": {
    "slideshow": {
     "slide_type": "slide"
    },
    "tags": []
   },
   "source": [
    "### Starting a New Project\n",
    "\n",
    "For the sake of this tutorial, let's start a new project called `dummy`:"
   ]
  },
  {
   "cell_type": "code",
   "execution_count": 1,
   "id": "595d86e8-c2de-4103-b79e-182975a4d44b",
   "metadata": {
    "tags": []
   },
   "outputs": [],
   "source": [
    "! forml project --path .. init dummy"
   ]
  },
  {
   "cell_type": "code",
   "execution_count": null,
   "id": "9b3d8217-410e-4e04-8f2d-cc6fb6eeac5a",
   "metadata": {
    "tags": [
     "clear"
    ]
   },
   "outputs": [],
   "source": [
    "%cd ../dummy"
   ]
  },
  {
   "cell_type": "code",
   "execution_count": null,
   "id": "a3be25f9-7b65-4030-8e08-e63a5e0a8200",
   "metadata": {
    "tags": [
     "clear"
    ]
   },
   "outputs": [],
   "source": [
    "! tree ."
   ]
  },
  {
   "cell_type": "markdown",
   "id": "74c4b98a-a660-4a6c-a69c-fda3d424b6f8",
   "metadata": {
    "slideshow": {
     "slide_type": "subslide"
    },
    "tags": []
   },
   "source": [
    "ForML is adopting the standard Python `pyproject.toml` descriptor:"
   ]
  },
  {
   "cell_type": "code",
   "execution_count": null,
   "id": "2ad5aadf-ab76-4be4-b10e-5431d8b1c3cc",
   "metadata": {
    "tags": [
     "clear"
    ]
   },
   "outputs": [],
   "source": [
    "from IPython import display\n",
    "display.Code('pyproject.toml')"
   ]
  },
  {
   "cell_type": "markdown",
   "id": "d17fa424-77d1-4895-b773-e7c13dd4afef",
   "metadata": {},
   "source": [
    "Let's keep our _Dummy_ project under version control:"
   ]
  },
  {
   "cell_type": "code",
   "execution_count": null,
   "id": "b942eb6a-6435-4c78-b23d-f2b02abcd980",
   "metadata": {
    "tags": [
     "clear"
    ]
   },
   "outputs": [],
   "source": [
    "! git init .\n",
    "! git add ."
   ]
  },
  {
   "cell_type": "markdown",
   "id": "81643370-eb70-428f-b04a-4746f3d80ae4",
   "metadata": {
    "slideshow": {
     "slide_type": "slide"
    },
    "tags": []
   },
   "source": [
    "### Filling-in the Project Components"
   ]
  },
  {
   "cell_type": "markdown",
   "id": "2ed01d6c-55dd-48b4-a713-4c795a2dba16",
   "metadata": {},
   "source": [
    "#### Data Requirements\n",
    "\n",
    "Let's define the [dummy/source.py](../dummy/dummy/source.py):\n",
    "\n",
    "1. Open the [dummy/source.py](../dummy/dummy/source.py) component.\n",
    "2. Update it with the final query DSL used previously in the chapter [2-task-dependency-management](2-task-dependency-management.ipynb#Operators):\n",
    "```python\n",
    "from forml import project\n",
    "from forml.pipeline import payload\n",
    "\n",
    "from dummycatalog import Foo\n",
    "\n",
    "FEATURES = Foo.select(Foo.Level, Foo.Value)\n",
    "OUTCOMES = Foo.Label\n",
    "\n",
    "SOURCE = project.Source.query(FEATURES, OUTCOMES) >> payload.ToPandas()\n",
    "\n",
    "project.setup(SOURCE)\n",
    "```\n",
    "4. **SAVE THE [dummy/source.py](dummy/source.py) FILE!**"
   ]
  },
  {
   "cell_type": "code",
   "execution_count": 6,
   "id": "35e3d97e-b61f-45d1-8281-e2765c584547",
   "metadata": {
    "tags": []
   },
   "outputs": [],
   "source": [
    "! git add dummy/source.py"
   ]
  },
  {
   "cell_type": "markdown",
   "id": "8d75d18a-5faf-4f4d-822e-4997bfda5bf1",
   "metadata": {
    "slideshow": {
     "slide_type": "subslide"
    },
    "tags": []
   },
   "source": [
    "#### Evaluation\n",
    "\n",
    "Let's configure the [dummy/evaluation.py](../dummy/dummy/evaluation.py):\n",
    "\n",
    "1. Open the [dummy/evaluation.py](../dummy/dummy/evaluation.py) component.\n",
    "2. Update it with the evaluation descriptor shown previously in the chapter [3-evaluation](3-evaluation.ipynb#Cross-validation-Method):\n",
    "```python\n",
    "from sklearn import metrics\n",
    "from sklearn import model_selection\n",
    "\n",
    "from forml import evaluation, project\n",
    "\n",
    "EVALUATION = project.Evaluation(\n",
    "    evaluation.Function(metrics.log_loss),\n",
    "    evaluation.CrossVal(\n",
    "        crossvalidator=model_selection.StratifiedKFold(\n",
    "            n_splits=3, shuffle=True, random_state=42\n",
    "        )\n",
    "    ),\n",
    ")\n",
    "\n",
    "project.setup(EVALUATION)\n",
    "```\n",
    "4. **SAVE THE [dummy/evaluation.py](dummy/evaluation.py) FILE!**"
   ]
  },
  {
   "cell_type": "code",
   "execution_count": 7,
   "id": "b91806e8-1793-4df8-a221-bcd05e9b9ebf",
   "metadata": {
    "tags": []
   },
   "outputs": [],
   "source": [
    "! git add dummy/evaluation.py"
   ]
  },
  {
   "cell_type": "markdown",
   "id": "d2e64344-4c51-4f51-b2a5-1ad4149aeb97",
   "metadata": {
    "slideshow": {
     "slide_type": "subslide"
    },
    "tags": []
   },
   "source": [
    "#### Pipeline\n",
    "\n",
    "Let's setup all the [dummy/pipeline.py](../dummy/dummy/pipeline.py) workflow:\n",
    "\n",
    "1. Open the [dummy/pipeline.py](../dummy/dummy/pipeline.py) component.\n",
    "2. Update it with all the actors, operators, and their composition as explored previously in chapter [2-task-dependency-management](2-task-dependency-management.ipynb).\n",
    "3. Save the file!\n",
    "\n",
    "```python\n",
    "import typing\n",
    "\n",
    "import pandas\n",
    "from imblearn import over_sampling\n",
    "\n",
    "from forml import project, flow\n",
    "from forml.pipeline import payload, wrap\n",
    "\n",
    "with wrap.importer():\n",
    "    from sklearn.linear_model import LogisticRegression\n",
    "\n",
    "\n",
    "@wrap.Actor.apply\n",
    "def OrdActor(data: pandas.DataFrame, *, column: str) -> pandas.Series:\n",
    "    return data[column].apply(lambda v: ord(v[0].lower()))\n",
    "\n",
    "\n",
    "@wrap.Actor.train\n",
    "def CenterActor(\n",
    "    state: typing.Optional[float],\n",
    "    data: pandas.DataFrame,\n",
    "    labels: pandas.Series,\n",
    "    *,\n",
    "    column: str\n",
    ") -> float:\n",
    "    return data[column].mean()\n",
    "\n",
    "\n",
    "@CenterActor.apply\n",
    "def CenterActor(\n",
    "    state: float, data: pandas.DataFrame, *, column: str\n",
    ") -> pandas.DataFrame:\n",
    "    return data[column] - state\n",
    "\n",
    "\n",
    "@wrap.Actor.train\n",
    "def MinMax(\n",
    "    state: typing.Optional[tuple[float, float]],\n",
    "    data: pandas.DataFrame,\n",
    "    labels: pandas.Series,\n",
    "    *,\n",
    "    column: str\n",
    ") -> tuple[float, float]:\n",
    "    min_ = data[column].min()\n",
    "    return min_, data[column].max() - min_\n",
    "\n",
    "\n",
    "@wrap.Operator.mapper\n",
    "@MinMax.apply\n",
    "def MinMax(\n",
    "    state: tuple[float, float], data: pandas.DataFrame, *, column: str\n",
    ") -> pandas.DataFrame:\n",
    "    data[column] = (data[column] - state[0]) / state[1]\n",
    "    return data\n",
    "\n",
    "\n",
    "@wrap.Actor.apply\n",
    "def OverSampler(\n",
    "    features: pandas.DataFrame,\n",
    "    labels: pandas.Series,\n",
    "    *,\n",
    "    random_state: typing.Optional[int] = None\n",
    "):\n",
    "    \"\"\"Stateless actor  with two input and two output ports for oversampling the features/labels of the minor class.\"\"\"\n",
    "    return over_sampling.RandomOverSampler(random_state=random_state).fit_resample(\n",
    "        features, labels\n",
    "    )\n",
    "\n",
    "\n",
    "class Balancer(flow.Operator):\n",
    "    \"\"\"Balancer operator inserting the provided sampler into the ``train`` & ``label`` paths.\"\"\"\n",
    "\n",
    "    def __init__(self, sampler: flow.Builder = OverSampler.builder(random_state=42)):\n",
    "        self._sampler = sampler\n",
    "\n",
    "    def compose(self, scope: flow.Composable) -> flow.Trunk:\n",
    "        left = scope.expand()\n",
    "        sampler = flow.Worker(self._sampler, 2, 2)\n",
    "        sampler[0].subscribe(left.train.publisher)\n",
    "        new_features = flow.Future()\n",
    "        new_features[0].subscribe(sampler[0])\n",
    "        sampler[1].subscribe(left.label.publisher)\n",
    "        new_labels = flow.Future()\n",
    "        new_labels[0].subscribe(sampler[1])\n",
    "        return left.use(\n",
    "            train=left.train.extend(tail=new_features),\n",
    "            label=left.label.extend(tail=new_labels),\n",
    "        )\n",
    "\n",
    "\n",
    "PIPELINE = (\n",
    "    Balancer()\n",
    "    >> payload.MapReduce(\n",
    "        OrdActor.builder(column=\"Level\"), CenterActor.builder(column=\"Value\")\n",
    "    )\n",
    "    >> MinMax(column=\"Level\")\n",
    "    >> LogisticRegression(random_state=42)\n",
    ")\n",
    "\n",
    "project.setup(PIPELINE)\n",
    "```"
   ]
  },
  {
   "cell_type": "code",
   "execution_count": 8,
   "id": "aa24746c-9db1-49f4-81ab-66f1a5e37e5a",
   "metadata": {
    "tags": []
   },
   "outputs": [],
   "source": [
    "! git add dummy/pipeline.py"
   ]
  },
  {
   "cell_type": "markdown",
   "id": "5dfd3420-ad42-467f-9de1-e3c7780e02cc",
   "metadata": {
    "slideshow": {
     "slide_type": "subslide"
    },
    "tags": []
   },
   "source": [
    "#### Dependencies\n",
    "\n",
    "Let's add the explicit dependencies used in this project into the [pyproject.toml](../dummy/pyproject.toml):\n",
    "\n",
    "1. Open the [pyproject.toml](../dummy/pyproject.toml).\n",
    "2. Update it with the code below adding the new dependency of `imbalanced-learn==0.10.1`:\n",
    "```toml\n",
    "[project]\n",
    "name = \"dummy\"\n",
    "version = \"0.1.dev1\"\n",
    "dependencies = [\n",
    "    \"forml==0.93\",\n",
    "    \"imbalanced-learn==0.10.1\"\n",
    "]\n",
    "\n",
    "[tool.forml]\n",
    "package = \"dummy\"\n",
    "```\n",
    "3. **SAVE THE [pyproject.toml](pyproject.toml) FILE!**"
   ]
  },
  {
   "cell_type": "code",
   "execution_count": 9,
   "id": "f277cfcb-a2d7-4c11-a055-4ae64bc52c15",
   "metadata": {
    "tags": []
   },
   "outputs": [],
   "source": [
    "! git add pyproject.toml"
   ]
  },
  {
   "cell_type": "markdown",
   "id": "72016884-1b52-4c64-9e49-5d9e3fc0c53b",
   "metadata": {
    "slideshow": {
     "slide_type": "slide"
    },
    "tags": []
   },
   "source": [
    "### Adding Unit Test for our Balancer Operator"
   ]
  },
  {
   "cell_type": "code",
   "execution_count": 10,
   "id": "40ba3093-1162-4235-aa2e-7b745bf6c64b",
   "metadata": {
    "tags": []
   },
   "outputs": [],
   "source": [
    "! touch tests/test_pipeline.py"
   ]
  },
  {
   "cell_type": "markdown",
   "id": "00b0b0d0-b8a1-4e49-93b6-7d3708c12bd6",
   "metadata": {},
   "source": [
    "Edit the created [test_pipeline.py](../dummy/tests/test_pipeline.py) and implement the unit test:\n",
    "\n",
    "1. Open the [test_pipeline.py](../dummy/tests/test_pipeline.py).\n",
    "2. Update it with the code below providing the `TestBalancer` unit test implementation based on the chapter [2-task-dependency-management](2-task-dependency-management.ipynb):\n",
    "```python\n",
    "from forml import testing\n",
    "\n",
    "from dummy import pipeline\n",
    "\n",
    "class TestBalancer(testing.operator(pipeline.Balancer)):\n",
    "    \"\"\"Balancer unit tests.\"\"\"\n",
    "\n",
    "    default_oversample = (\n",
    "        testing.Case()\n",
    "        .train([[1], [1], [0]], [1, 1, 0])\n",
    "        .returns([[1], [1], [0], [0]], labels=[1, 1, 0, 0])\n",
    "    )\n",
    "```\n",
    "3. **SAVE THE [test_pipeline.py](../dummy/tests/test_pipeline.py) FILE!**"
   ]
  },
  {
   "cell_type": "code",
   "execution_count": 11,
   "id": "7676fe8b-ab15-47a4-8ab7-d25f30b51a0a",
   "metadata": {
    "tags": []
   },
   "outputs": [],
   "source": [
    "! git add tests/test_pipeline.py"
   ]
  },
  {
   "cell_type": "markdown",
   "id": "e5bac9a5-f30d-468d-b10a-df4090bf1d43",
   "metadata": {
    "slideshow": {
     "slide_type": "slide"
    },
    "tags": []
   },
   "source": [
    "## Development Lifecycle\n",
    "\n",
    "The [development lifecycle](https://docs.forml.io/en/latest/lifecycle.html#development-life-cycle) covers all the project development phases leading to a model release. "
   ]
  },
  {
   "cell_type": "markdown",
   "id": "d9ca44d2-871f-42f6-ae8a-e4ff4128c38d",
   "metadata": {},
   "source": [
    "### Visualising the Train DAG"
   ]
  },
  {
   "cell_type": "code",
   "execution_count": 12,
   "id": "3b32d463-964a-4b18-a2bf-8eb5b1981934",
   "metadata": {
    "tags": []
   },
   "outputs": [
    {
     "name": "stdout",
     "output_type": "stream",
     "text": [
      "running train\n"
     ]
    }
   ],
   "source": [
    "! forml project train -R graphviz"
   ]
  },
  {
   "cell_type": "markdown",
   "id": "2ae554af-0452-443d-97e2-300c98f93626",
   "metadata": {
    "tags": []
   },
   "source": [
    "This produces an SVG file under [dummy/forml.dot.svg](./img/train.svg) visualizing the given train workflow:"
   ]
  },
  {
   "cell_type": "markdown",
   "id": "d9cf8873-d663-4ead-b553-e926da3d0889",
   "metadata": {
    "tags": []
   },
   "source": [
    "_dummy/forml.dot.svg_:\n",
    "[![train flow](img/train.svg)](img/train.svg)"
   ]
  },
  {
   "cell_type": "markdown",
   "id": "e0d1c436-157c-487a-b8ed-082b3c59f304",
   "metadata": {
    "slideshow": {
     "slide_type": "slide"
    },
    "tags": []
   },
   "source": [
    "### Performing Development Evaluation"
   ]
  },
  {
   "cell_type": "code",
   "execution_count": null,
   "id": "402fa096-17eb-49e4-9b99-8e5be6b9a8a2",
   "metadata": {
    "tags": [
     "clear"
    ]
   },
   "outputs": [],
   "source": [
    "! forml project eval"
   ]
  },
  {
   "cell_type": "markdown",
   "id": "c2eeface-27ff-435c-a37c-7e46a723f6e3",
   "metadata": {
    "tags": []
   },
   "source": [
    "### Running Tests"
   ]
  },
  {
   "cell_type": "code",
   "execution_count": null,
   "id": "4beec46f-a5e4-43e2-97f1-43c78b599d6d",
   "metadata": {
    "tags": [
     "clear"
    ]
   },
   "outputs": [],
   "source": [
    "! forml project test"
   ]
  },
  {
   "cell_type": "markdown",
   "id": "51b33c05-d88b-4a01-acbb-ad46aba26ee0",
   "metadata": {
    "slideshow": {
     "slide_type": "slide"
    },
    "tags": []
   },
   "source": [
    "### Releasing\n",
    "\n",
    "Once we are happy with the achieved results (good evaluation metric, unit tests passing), we can proceed to release the model version.\n",
    "\n",
    "Let's start by committing and tagging the project codebase:"
   ]
  },
  {
   "cell_type": "code",
   "execution_count": null,
   "id": "ba1da617-572b-43a5-b3b3-f3c21189149e",
   "metadata": {
    "tags": [
     "clear"
    ]
   },
   "outputs": [],
   "source": [
    "! git commit -m 'Released 0.1.dev1'\n",
    "! git tag 0.1.dev1"
   ]
  },
  {
   "cell_type": "markdown",
   "id": "964ba2ef-3d52-477c-8906-2ac0118c5e37",
   "metadata": {
    "slideshow": {
     "slide_type": "subslide"
    },
    "tags": []
   },
   "source": [
    "Now we can kick off the release process to package the model artifact and publish it into the model registry:"
   ]
  },
  {
   "cell_type": "code",
   "execution_count": null,
   "id": "ae1f4438-5d1b-421f-b707-1013c0cface6",
   "metadata": {
    "tags": [
     "clear"
    ]
   },
   "outputs": [],
   "source": [
    "! forml project release"
   ]
  },
  {
   "cell_type": "markdown",
   "id": "bdbcf446-10f3-49f3-9b52-68bd3be43eb2",
   "metadata": {
    "slideshow": {
     "slide_type": "slide"
    },
    "tags": []
   },
   "source": [
    "## Model Registry\n",
    "\n",
    "[Model registry](https://docs.forml.io/en/latest/registry.html) serves as a crucial interface for managing published models throughout the production lifecycle. It can be provided through a number of different implementations.\n",
    "\n",
    "The registry has a tree hierarchy with levels of `project` / `release` / `generation`:"
   ]
  },
  {
   "cell_type": "code",
   "execution_count": null,
   "id": "cbc89b06-4b4f-4e93-b57c-96be3c21340b",
   "metadata": {
    "tags": [
     "clear"
    ]
   },
   "outputs": [],
   "source": [
    "! forml model list"
   ]
  },
  {
   "cell_type": "code",
   "execution_count": null,
   "id": "77b96f68-3979-4758-9935-0dc4d73119f9",
   "metadata": {
    "tags": [
     "clear"
    ]
   },
   "outputs": [],
   "source": [
    "! forml model list dummy"
   ]
  },
  {
   "cell_type": "code",
   "execution_count": 19,
   "id": "e0a5dfcf-f4dc-4bcf-b5fe-439557213b7a",
   "metadata": {
    "tags": []
   },
   "outputs": [],
   "source": [
    "! forml model list dummy 0.1.dev1"
   ]
  },
  {
   "cell_type": "code",
   "execution_count": null,
   "id": "040a7052-9cd6-4d71-b6e2-7e73390235cd",
   "metadata": {
    "tags": [
     "clear"
    ]
   },
   "outputs": [],
   "source": [
    "! tree /opt/forml/assets/registry/"
   ]
  },
  {
   "cell_type": "markdown",
   "id": "b7812ffd-a492-4b32-ba1d-ae646ed34d4a",
   "metadata": {
    "slideshow": {
     "slide_type": "slide"
    },
    "tags": []
   },
   "source": [
    "## Production Lifecycle\n",
    "\n",
    "The [production lifecycle](https://docs.forml.io/en/latest/lifecycle.html#production-life-cycle) takes care of all the necessary model operations after its release."
   ]
  },
  {
   "cell_type": "markdown",
   "id": "da27b00a-be2b-4085-a6e8-650b33563f54",
   "metadata": {},
   "source": [
    "### Model Training"
   ]
  },
  {
   "cell_type": "code",
   "execution_count": 21,
   "id": "2c972a6b-4c21-4db9-a1fa-50fdb87467b4",
   "metadata": {
    "tags": []
   },
   "outputs": [],
   "source": [
    "! forml model train dummy"
   ]
  },
  {
   "cell_type": "code",
   "execution_count": null,
   "id": "cac57853-40fb-4b6f-8645-d379434e3416",
   "metadata": {
    "tags": [
     "clear"
    ]
   },
   "outputs": [],
   "source": [
    "! forml model list dummy 0.1.dev1"
   ]
  },
  {
   "cell_type": "code",
   "execution_count": null,
   "id": "40985bb0-8b2c-427b-b719-ab35b1678c98",
   "metadata": {
    "tags": [
     "clear"
    ]
   },
   "outputs": [],
   "source": [
    "! tree /opt/forml/assets/registry/"
   ]
  },
  {
   "cell_type": "markdown",
   "id": "2258188d-69a6-4400-8c74-1c3d726ed79b",
   "metadata": {
    "slideshow": {
     "slide_type": "slide"
    },
    "tags": []
   },
   "source": [
    "### Followup Steps\n",
    "\n",
    "We will leave the remaining steps of the production lifecycle to the final chapter [3-solution](../3-solution) which works with a real dataset."
   ]
  }
 ],
 "metadata": {
  "kernelspec": {
   "display_name": "Python 3 (ipykernel)",
   "language": "python",
   "name": "python3"
  },
  "language_info": {
   "codemirror_mode": {
    "name": "ipython",
    "version": 3
   },
   "file_extension": ".py",
   "mimetype": "text/x-python",
   "name": "python",
   "nbconvert_exporter": "python",
   "pygments_lexer": "ipython3",
   "version": "3.10.11"
  }
 },
 "nbformat": 4,
 "nbformat_minor": 5
}

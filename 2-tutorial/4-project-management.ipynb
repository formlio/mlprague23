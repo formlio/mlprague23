{
 "cells": [
  {
   "cell_type": "markdown",
   "id": "e99c9d5b-7558-4a55-b4d9-b07797976eba",
   "metadata": {
    "slideshow": {
     "slide_type": "slide"
    },
    "tags": []
   },
   "source": [
    "# Project Resources Management\n",
    "\n",
    "Objective:\n",
    "\n",
    "> Learning how ML solutions and their lifecycles can be managed as software projects.\n",
    "\n",
    "Principles:\n",
    "\n",
    "1. Project resources are organized to facilitate development, collaboration and maintainability.\n",
    "2. **Development lifecycle** handles all the project development phases leading to a model release. \n",
    "3. **Model registry** represents the persistence layer holding the published project artifacts at rest.\n",
    "4. **Production lifecycle** takes care of all the necessary model operations after its release."
   ]
  },
  {
   "cell_type": "markdown",
   "id": "dfdbaead-2b0a-47b1-8ef4-40108ea8a2e2",
   "metadata": {
    "slideshow": {
     "slide_type": "slide"
    },
    "tags": []
   },
   "source": [
    "## Project Setup\n",
    "\n",
    "ForML based solutions are standard Python projects typically with [the following minimal structure](https://docs.forml.io/en/latest/project.html):\n",
    "\n",
    "| Component          | Location                 |\n",
    "|--------------------|--------------------------|\n",
    "| Project Descriptor | `pyproject.toml`         |\n",
    "| Dependencies       | `pyproject.toml`         |\n",
    "| Data Requirements  | `<module>/source.py`     |\n",
    "| Evaluation Spec    | `<module>/evaluation.py` |\n",
    "| Model Pipeline     | `<module>/pipeline.py`   |\n",
    "| Tests              | `tests/`                 |\n",
    "\n",
    "Additional typical components not used directly by ForML (see for example [Cookiecutter Datascience](https://drivendata.github.io/cookiecutter-data-science/)):\n",
    "* `data/`\n",
    "* `docs/`\n",
    "* `notebooks/`\n",
    "* CI/CD descriptors"
   ]
  },
  {
   "cell_type": "markdown",
   "id": "3f4c9ff7-4e07-4f68-8e05-1729823a1323",
   "metadata": {
    "slideshow": {
     "slide_type": "slide"
    },
    "tags": []
   },
   "source": [
    "### Starting a New Project\n",
    "\n",
    "For the sake of this tutorial, let's start a new project called `dummy`:"
   ]
  },
  {
   "cell_type": "code",
   "execution_count": 1,
   "id": "595d86e8-c2de-4103-b79e-182975a4d44b",
   "metadata": {
    "tags": []
   },
   "outputs": [],
   "source": [
    "! forml project init dummy"
   ]
  },
  {
   "cell_type": "code",
   "execution_count": 2,
   "id": "9b3d8217-410e-4e04-8f2d-cc6fb6eeac5a",
   "metadata": {
    "tags": []
   },
   "outputs": [
    {
     "name": "stdout",
     "output_type": "stream",
     "text": [
      "/opt/forml/workspace/2-tutorial/dummy\n"
     ]
    }
   ],
   "source": [
    "%cd dummy"
   ]
  },
  {
   "cell_type": "code",
   "execution_count": 3,
   "id": "a3be25f9-7b65-4030-8e08-e63a5e0a8200",
   "metadata": {
    "tags": []
   },
   "outputs": [
    {
     "name": "stdout",
     "output_type": "stream",
     "text": [
      "\u001b[01;34m.\u001b[00m\n",
      "├── \u001b[01;34mdummy\u001b[00m\n",
      "│   ├── __init__.py\n",
      "│   ├── evaluation.py\n",
      "│   ├── pipeline.py\n",
      "│   └── source.py\n",
      "├── pyproject.toml\n",
      "└── \u001b[01;34mtests\u001b[00m\n",
      "    └── __init__.py\n",
      "\n",
      "2 directories, 6 files\n"
     ]
    }
   ],
   "source": [
    "! tree ."
   ]
  },
  {
   "cell_type": "markdown",
   "id": "74c4b98a-a660-4a6c-a69c-fda3d424b6f8",
   "metadata": {
    "slideshow": {
     "slide_type": "subslide"
    },
    "tags": []
   },
   "source": [
    "ForML is adopting the standard Python `pyproject.toml` descriptor:"
   ]
  },
  {
   "cell_type": "code",
   "execution_count": 4,
   "id": "2ad5aadf-ab76-4be4-b10e-5431d8b1c3cc",
   "metadata": {
    "tags": []
   },
   "outputs": [
    {
     "data": {
      "text/html": [
       "<style>pre { line-height: 125%; }\n",
       "td.linenos .normal { color: inherit; background-color: transparent; padding-left: 5px; padding-right: 5px; }\n",
       "span.linenos { color: inherit; background-color: transparent; padding-left: 5px; padding-right: 5px; }\n",
       "td.linenos .special { color: #000000; background-color: #ffffc0; padding-left: 5px; padding-right: 5px; }\n",
       "span.linenos.special { color: #000000; background-color: #ffffc0; padding-left: 5px; padding-right: 5px; }\n",
       ".output_html .hll { background-color: #ffffcc }\n",
       ".output_html { background: #f8f8f8; }\n",
       ".output_html .c { color: #3D7B7B; font-style: italic } /* Comment */\n",
       ".output_html .err { border: 1px solid #FF0000 } /* Error */\n",
       ".output_html .k { color: #008000; font-weight: bold } /* Keyword */\n",
       ".output_html .o { color: #666666 } /* Operator */\n",
       ".output_html .ch { color: #3D7B7B; font-style: italic } /* Comment.Hashbang */\n",
       ".output_html .cm { color: #3D7B7B; font-style: italic } /* Comment.Multiline */\n",
       ".output_html .cp { color: #9C6500 } /* Comment.Preproc */\n",
       ".output_html .cpf { color: #3D7B7B; font-style: italic } /* Comment.PreprocFile */\n",
       ".output_html .c1 { color: #3D7B7B; font-style: italic } /* Comment.Single */\n",
       ".output_html .cs { color: #3D7B7B; font-style: italic } /* Comment.Special */\n",
       ".output_html .gd { color: #A00000 } /* Generic.Deleted */\n",
       ".output_html .ge { font-style: italic } /* Generic.Emph */\n",
       ".output_html .gr { color: #E40000 } /* Generic.Error */\n",
       ".output_html .gh { color: #000080; font-weight: bold } /* Generic.Heading */\n",
       ".output_html .gi { color: #008400 } /* Generic.Inserted */\n",
       ".output_html .go { color: #717171 } /* Generic.Output */\n",
       ".output_html .gp { color: #000080; font-weight: bold } /* Generic.Prompt */\n",
       ".output_html .gs { font-weight: bold } /* Generic.Strong */\n",
       ".output_html .gu { color: #800080; font-weight: bold } /* Generic.Subheading */\n",
       ".output_html .gt { color: #0044DD } /* Generic.Traceback */\n",
       ".output_html .kc { color: #008000; font-weight: bold } /* Keyword.Constant */\n",
       ".output_html .kd { color: #008000; font-weight: bold } /* Keyword.Declaration */\n",
       ".output_html .kn { color: #008000; font-weight: bold } /* Keyword.Namespace */\n",
       ".output_html .kp { color: #008000 } /* Keyword.Pseudo */\n",
       ".output_html .kr { color: #008000; font-weight: bold } /* Keyword.Reserved */\n",
       ".output_html .kt { color: #B00040 } /* Keyword.Type */\n",
       ".output_html .m { color: #666666 } /* Literal.Number */\n",
       ".output_html .s { color: #BA2121 } /* Literal.String */\n",
       ".output_html .na { color: #687822 } /* Name.Attribute */\n",
       ".output_html .nb { color: #008000 } /* Name.Builtin */\n",
       ".output_html .nc { color: #0000FF; font-weight: bold } /* Name.Class */\n",
       ".output_html .no { color: #880000 } /* Name.Constant */\n",
       ".output_html .nd { color: #AA22FF } /* Name.Decorator */\n",
       ".output_html .ni { color: #717171; font-weight: bold } /* Name.Entity */\n",
       ".output_html .ne { color: #CB3F38; font-weight: bold } /* Name.Exception */\n",
       ".output_html .nf { color: #0000FF } /* Name.Function */\n",
       ".output_html .nl { color: #767600 } /* Name.Label */\n",
       ".output_html .nn { color: #0000FF; font-weight: bold } /* Name.Namespace */\n",
       ".output_html .nt { color: #008000; font-weight: bold } /* Name.Tag */\n",
       ".output_html .nv { color: #19177C } /* Name.Variable */\n",
       ".output_html .ow { color: #AA22FF; font-weight: bold } /* Operator.Word */\n",
       ".output_html .w { color: #bbbbbb } /* Text.Whitespace */\n",
       ".output_html .mb { color: #666666 } /* Literal.Number.Bin */\n",
       ".output_html .mf { color: #666666 } /* Literal.Number.Float */\n",
       ".output_html .mh { color: #666666 } /* Literal.Number.Hex */\n",
       ".output_html .mi { color: #666666 } /* Literal.Number.Integer */\n",
       ".output_html .mo { color: #666666 } /* Literal.Number.Oct */\n",
       ".output_html .sa { color: #BA2121 } /* Literal.String.Affix */\n",
       ".output_html .sb { color: #BA2121 } /* Literal.String.Backtick */\n",
       ".output_html .sc { color: #BA2121 } /* Literal.String.Char */\n",
       ".output_html .dl { color: #BA2121 } /* Literal.String.Delimiter */\n",
       ".output_html .sd { color: #BA2121; font-style: italic } /* Literal.String.Doc */\n",
       ".output_html .s2 { color: #BA2121 } /* Literal.String.Double */\n",
       ".output_html .se { color: #AA5D1F; font-weight: bold } /* Literal.String.Escape */\n",
       ".output_html .sh { color: #BA2121 } /* Literal.String.Heredoc */\n",
       ".output_html .si { color: #A45A77; font-weight: bold } /* Literal.String.Interpol */\n",
       ".output_html .sx { color: #008000 } /* Literal.String.Other */\n",
       ".output_html .sr { color: #A45A77 } /* Literal.String.Regex */\n",
       ".output_html .s1 { color: #BA2121 } /* Literal.String.Single */\n",
       ".output_html .ss { color: #19177C } /* Literal.String.Symbol */\n",
       ".output_html .bp { color: #008000 } /* Name.Builtin.Pseudo */\n",
       ".output_html .fm { color: #0000FF } /* Name.Function.Magic */\n",
       ".output_html .vc { color: #19177C } /* Name.Variable.Class */\n",
       ".output_html .vg { color: #19177C } /* Name.Variable.Global */\n",
       ".output_html .vi { color: #19177C } /* Name.Variable.Instance */\n",
       ".output_html .vm { color: #19177C } /* Name.Variable.Magic */\n",
       ".output_html .il { color: #666666 } /* Literal.Number.Integer.Long */</style><div class=\"highlight\"><pre><span></span><span class=\"c1\"># Dummy project.</span>\n",
       "<span class=\"c1\">#</span>\n",
       "<span class=\"c1\"># Generated on 2023-05-31 04:20:30.693934 by forml using ForML 0.93.</span>\n",
       "\n",
       "<span class=\"k\">[project]</span>\n",
       "<span class=\"n\">name</span><span class=\"w\"> </span><span class=\"o\">=</span><span class=\"w\"> </span><span class=\"s\">&quot;dummy&quot;</span>\n",
       "<span class=\"n\">version</span><span class=\"w\"> </span><span class=\"o\">=</span><span class=\"w\"> </span><span class=\"s\">&quot;0.1.dev1&quot;</span>\n",
       "<span class=\"n\">dependencies</span><span class=\"w\"> </span><span class=\"o\">=</span><span class=\"w\"> </span><span class=\"p\">[</span>\n",
       "<span class=\"w\">    </span><span class=\"s\">&quot;forml==0.93&quot;</span>\n",
       "<span class=\"p\">]</span>\n",
       "\n",
       "\n",
       "<span class=\"k\">[tool.forml]</span>\n",
       "<span class=\"n\">package</span><span class=\"w\"> </span><span class=\"o\">=</span><span class=\"w\"> </span><span class=\"s\">&quot;dummy&quot;</span>\n",
       "</pre></div>\n"
      ],
      "text/latex": [
       "\\begin{Verbatim}[commandchars=\\\\\\{\\}]\n",
       "\\PY{c+c1}{\\PYZsh{} Dummy project.}\n",
       "\\PY{c+c1}{\\PYZsh{}}\n",
       "\\PY{c+c1}{\\PYZsh{} Generated on 2023\\PYZhy{}05\\PYZhy{}31 04:20:30.693934 by forml using ForML 0.93.}\n",
       "\n",
       "\\PY{k}{[project]}\n",
       "\\PY{n}{name}\\PY{+w}{ }\\PY{o}{=}\\PY{+w}{ }\\PY{l+s}{\\PYZdq{}dummy\\PYZdq{}}\n",
       "\\PY{n}{version}\\PY{+w}{ }\\PY{o}{=}\\PY{+w}{ }\\PY{l+s}{\\PYZdq{}0.1.dev1\\PYZdq{}}\n",
       "\\PY{n}{dependencies}\\PY{+w}{ }\\PY{o}{=}\\PY{+w}{ }\\PY{p}{[}\n",
       "\\PY{+w}{    }\\PY{l+s}{\\PYZdq{}forml==0.93\\PYZdq{}}\n",
       "\\PY{p}{]}\n",
       "\n",
       "\n",
       "\\PY{k}{[tool.forml]}\n",
       "\\PY{n}{package}\\PY{+w}{ }\\PY{o}{=}\\PY{+w}{ }\\PY{l+s}{\\PYZdq{}dummy\\PYZdq{}}\n",
       "\\end{Verbatim}\n"
      ],
      "text/plain": [
       "# Dummy project.\n",
       "#\n",
       "# Generated on 2023-05-31 04:20:30.693934 by forml using ForML 0.93.\n",
       "\n",
       "[project]\n",
       "name = \"dummy\"\n",
       "version = \"0.1.dev1\"\n",
       "dependencies = [\n",
       "    \"forml==0.93\"\n",
       "]\n",
       "\n",
       "\n",
       "[tool.forml]\n",
       "package = \"dummy\""
      ]
     },
     "execution_count": 4,
     "metadata": {},
     "output_type": "execute_result"
    }
   ],
   "source": [
    "from IPython import display\n",
    "display.Code('pyproject.toml')"
   ]
  },
  {
   "cell_type": "markdown",
   "id": "d17fa424-77d1-4895-b773-e7c13dd4afef",
   "metadata": {},
   "source": [
    "Let's keep our _Dummy_ project under version control:"
   ]
  },
  {
   "cell_type": "code",
   "execution_count": 5,
   "id": "b942eb6a-6435-4c78-b23d-f2b02abcd980",
   "metadata": {
    "tags": []
   },
   "outputs": [
    {
     "name": "stdout",
     "output_type": "stream",
     "text": [
      "Initialized empty Git repository in /opt/forml/workspace/2-tutorial/dummy/.git/\n"
     ]
    }
   ],
   "source": [
    "! git init .\n",
    "! git add ."
   ]
  },
  {
   "cell_type": "markdown",
   "id": "81643370-eb70-428f-b04a-4746f3d80ae4",
   "metadata": {
    "slideshow": {
     "slide_type": "slide"
    },
    "tags": []
   },
   "source": [
    "### Filling-in the Project Components"
   ]
  },
  {
   "cell_type": "markdown",
   "id": "2ed01d6c-55dd-48b4-a713-4c795a2dba16",
   "metadata": {},
   "source": [
    "#### Data Requirements\n",
    "\n",
    "Let's define the [dummy/source.py](dummy/dummy/source.py):\n",
    "\n",
    "1. Open the [dummy/source.py](dummy/dummy/source.py) component.\n",
    "2. Update it with the final query DSL used previously in the chapter [2-task-dependency-management](2-task-dependency-management.ipynb#Operators):\n",
    "```python\n",
    "from forml import project\n",
    "from forml.pipeline import payload\n",
    "\n",
    "from dummycatalog import Foo\n",
    "\n",
    "FEATURES = Foo.select(Foo.Level, Foo.Value)\n",
    "OUTCOMES = Foo.Label\n",
    "\n",
    "SOURCE = project.Source.query(FEATURES, OUTCOMES) >> payload.ToPandas()\n",
    "\n",
    "project.setup(SOURCE)\n",
    "```\n",
    "4. **SAVE THE [dummy/source.py](dummy/source.py) FILE!**"
   ]
  },
  {
   "cell_type": "code",
   "execution_count": 6,
   "id": "35e3d97e-b61f-45d1-8281-e2765c584547",
   "metadata": {
    "tags": []
   },
   "outputs": [],
   "source": [
    "! git add dummy/source.py"
   ]
  },
  {
   "cell_type": "markdown",
   "id": "8d75d18a-5faf-4f4d-822e-4997bfda5bf1",
   "metadata": {
    "slideshow": {
     "slide_type": "subslide"
    },
    "tags": []
   },
   "source": [
    "#### Evaluation\n",
    "\n",
    "Let's configure the [dummy/evaluation.py](dummy/dummy/evaluation.py):\n",
    "\n",
    "1. Open the [dummy/evaluation.py](dummy/dummy/evaluation.py) component.\n",
    "2. Update it with the evaluation descriptor shown previously in the chapter [3-evaluation](3-evaluation.ipynb#Cross-validation-Method):\n",
    "```python\n",
    "from sklearn import metrics\n",
    "from sklearn import model_selection\n",
    "\n",
    "from forml import evaluation, project\n",
    "\n",
    "EVALUATION = project.Evaluation(\n",
    "    evaluation.Function(metrics.log_loss),\n",
    "    evaluation.CrossVal(\n",
    "        crossvalidator=model_selection.StratifiedKFold(\n",
    "            n_splits=3, shuffle=True, random_state=42\n",
    "        )\n",
    "    ),\n",
    ")\n",
    "\n",
    "project.setup(EVALUATION)\n",
    "```\n",
    "4. **SAVE THE [dummy/evaluation.py](dummy/evaluation.py) FILE!**"
   ]
  },
  {
   "cell_type": "code",
   "execution_count": 7,
   "id": "b91806e8-1793-4df8-a221-bcd05e9b9ebf",
   "metadata": {
    "tags": []
   },
   "outputs": [],
   "source": [
    "! git add dummy/evaluation.py"
   ]
  },
  {
   "cell_type": "markdown",
   "id": "d2e64344-4c51-4f51-b2a5-1ad4149aeb97",
   "metadata": {
    "slideshow": {
     "slide_type": "subslide"
    },
    "tags": []
   },
   "source": [
    "#### Pipeline\n",
    "\n",
    "Let's setup all the [dummy/pipeline.py](dummy/dummy/pipeline.py) workflow:\n",
    "\n",
    "1. Open the [dummy/pipeline.py](dummy/dummy/pipeline.py) component.\n",
    "2. Update it with all the actors, operators and their composition as explored previously in the chapter [2-task-dependency-management](2-task-dependency-management.ipynb).\n",
    "3. Save the file!\n",
    "\n",
    "```python\n",
    "import typing\n",
    "\n",
    "import pandas\n",
    "from imblearn import over_sampling\n",
    "\n",
    "from forml import project, flow\n",
    "from forml.pipeline import payload, wrap\n",
    "\n",
    "with wrap.importer():\n",
    "    from sklearn.linear_model import LogisticRegression\n",
    "\n",
    "\n",
    "@wrap.Actor.apply\n",
    "def OrdActor(data: pandas.DataFrame, *, column: str) -> pandas.Series:\n",
    "    return data[column].apply(lambda v: ord(v[0].lower()))\n",
    "\n",
    "\n",
    "@wrap.Actor.train\n",
    "def CenterActor(\n",
    "    state: typing.Optional[float],\n",
    "    data: pandas.DataFrame,\n",
    "    labels: pandas.Series,\n",
    "    *,\n",
    "    column: str\n",
    ") -> float:\n",
    "    return data[column].mean()\n",
    "\n",
    "\n",
    "@CenterActor.apply\n",
    "def CenterActor(\n",
    "    state: float, data: pandas.DataFrame, *, column: str\n",
    ") -> pandas.DataFrame:\n",
    "    return data[column] - state\n",
    "\n",
    "\n",
    "@wrap.Actor.train\n",
    "def MinMax(\n",
    "    state: typing.Optional[tuple[float, float]],\n",
    "    data: pandas.DataFrame,\n",
    "    labels: pandas.Series,\n",
    "    *,\n",
    "    column: str\n",
    ") -> tuple[float, float]:\n",
    "    min_ = data[column].min()\n",
    "    return min_, data[column].max() - min_\n",
    "\n",
    "\n",
    "@wrap.Operator.mapper\n",
    "@MinMax.apply\n",
    "def MinMax(\n",
    "    state: tuple[float, float], data: pandas.DataFrame, *, column: str\n",
    ") -> pandas.DataFrame:\n",
    "    data[column] = (data[column] - state[0]) / state[1]\n",
    "    return data\n",
    "\n",
    "\n",
    "@wrap.Actor.apply\n",
    "def OverSampler(\n",
    "    features: pandas.DataFrame,\n",
    "    labels: pandas.Series,\n",
    "    *,\n",
    "    random_state: typing.Optional[int] = None\n",
    "):\n",
    "    \"\"\"Stateless actor  with two input and two output ports for oversampling the features/labels of the minor class.\"\"\"\n",
    "    return over_sampling.RandomOverSampler(random_state=random_state).fit_resample(\n",
    "        features, labels\n",
    "    )\n",
    "\n",
    "\n",
    "class Balancer(flow.Operator):\n",
    "    \"\"\"Balancer operator inserting the provided sampler into the ``train`` & ``label`` paths.\"\"\"\n",
    "\n",
    "    def __init__(self, sampler: flow.Builder = OverSampler.builder(random_state=42)):\n",
    "        self._sampler = sampler\n",
    "\n",
    "    def compose(self, scope: flow.Composable) -> flow.Trunk:\n",
    "        left = scope.expand()\n",
    "        sampler = flow.Worker(self._sampler, 2, 2)\n",
    "        sampler[0].subscribe(left.train.publisher)\n",
    "        new_features = flow.Future()\n",
    "        new_features[0].subscribe(sampler[0])\n",
    "        sampler[1].subscribe(left.label.publisher)\n",
    "        new_labels = flow.Future()\n",
    "        new_labels[0].subscribe(sampler[1])\n",
    "        return left.use(\n",
    "            train=left.train.extend(tail=new_features),\n",
    "            label=left.label.extend(tail=new_labels),\n",
    "        )\n",
    "\n",
    "\n",
    "PIPELINE = (\n",
    "    Balancer()\n",
    "    >> payload.MapReduce(\n",
    "        OrdActor.builder(column=\"Level\"), CenterActor.builder(column=\"Value\")\n",
    "    )\n",
    "    >> MinMax(column=\"Level\")\n",
    "    >> LogisticRegression(random_state=42)\n",
    ")\n",
    "\n",
    "project.setup(PIPELINE)\n",
    "```"
   ]
  },
  {
   "cell_type": "code",
   "execution_count": 8,
   "id": "aa24746c-9db1-49f4-81ab-66f1a5e37e5a",
   "metadata": {
    "tags": []
   },
   "outputs": [],
   "source": [
    "! git add dummy/pipeline.py"
   ]
  },
  {
   "cell_type": "markdown",
   "id": "5dfd3420-ad42-467f-9de1-e3c7780e02cc",
   "metadata": {
    "slideshow": {
     "slide_type": "subslide"
    },
    "tags": []
   },
   "source": [
    "#### Dependencies\n",
    "\n",
    "Let's add the explicit dependencies used in this project into the [pyproject.toml](dummy/pyproject.toml):\n",
    "\n",
    "1. Open the [pyproject.toml](dummy/pyproject.toml).\n",
    "2. Update it with the code below adding the new dependency of `imbalanced-learn==0.10.1`:\n",
    "```toml\n",
    "[project]\n",
    "name = \"dummy\"\n",
    "version = \"0.1.dev1\"\n",
    "dependencies = [\n",
    "    \"forml==0.93\",\n",
    "    \"imbalanced-learn==0.10.1\"\n",
    "]\n",
    "\n",
    "[tool.forml]\n",
    "package = \"dummy\"\n",
    "```\n",
    "3. **SAVE THE [pyproject.toml](pyproject.toml) FILE!**"
   ]
  },
  {
   "cell_type": "code",
   "execution_count": 9,
   "id": "f277cfcb-a2d7-4c11-a055-4ae64bc52c15",
   "metadata": {
    "tags": []
   },
   "outputs": [],
   "source": [
    "! git add pyproject.toml"
   ]
  },
  {
   "cell_type": "markdown",
   "id": "72016884-1b52-4c64-9e49-5d9e3fc0c53b",
   "metadata": {
    "slideshow": {
     "slide_type": "slide"
    },
    "tags": []
   },
   "source": [
    "### Adding Unit Test for our Balancer Operator"
   ]
  },
  {
   "cell_type": "code",
   "execution_count": 10,
   "id": "40ba3093-1162-4235-aa2e-7b745bf6c64b",
   "metadata": {
    "tags": []
   },
   "outputs": [],
   "source": [
    "! touch tests/test_pipeline.py"
   ]
  },
  {
   "cell_type": "markdown",
   "id": "00b0b0d0-b8a1-4e49-93b6-7d3708c12bd6",
   "metadata": {},
   "source": [
    "Edit the created [test_pipeline.py](dummy/tests/test_pipeline.py) and implement the unit test:\n",
    "\n",
    "1. Open the [test_pipeline.py](dummy/tests/test_pipeline.py).\n",
    "2. Update it with the code below providing the `TestBalancer` unit test implementation based on the chapter [2-task-dependency-management](2-task-dependency-management.ipynb):\n",
    "```python\n",
    "from forml import testing\n",
    "\n",
    "from dummy import pipeline\n",
    "\n",
    "class TestBalancer(testing.operator(pipeline.Balancer)):\n",
    "    \"\"\"Balancer unit tests.\"\"\"\n",
    "\n",
    "    default_oversample = (\n",
    "        testing.Case()\n",
    "        .train([[1], [1], [0]], [1, 1, 0])\n",
    "        .returns([[1], [1], [0], [0]], labels=[1, 1, 0, 0])\n",
    "    )\n",
    "```\n",
    "3. **SAVE THE [test_pipeline.py](dummy/tests/test_pipeline.py) FILE!**"
   ]
  },
  {
   "cell_type": "code",
   "execution_count": 11,
   "id": "7676fe8b-ab15-47a4-8ab7-d25f30b51a0a",
   "metadata": {
    "tags": []
   },
   "outputs": [],
   "source": [
    "! git add tests/test_pipeline.py"
   ]
  },
  {
   "cell_type": "markdown",
   "id": "e5bac9a5-f30d-468d-b10a-df4090bf1d43",
   "metadata": {
    "slideshow": {
     "slide_type": "slide"
    },
    "tags": []
   },
   "source": [
    "## Development Lifecycle\n",
    "\n",
    "[Development lifecycle](https://docs.forml.io/en/latest/lifecycle.html#development-life-cycle) covers all the project development phases leading to a model release. "
   ]
  },
  {
   "cell_type": "markdown",
   "id": "d9ca44d2-871f-42f6-ae8a-e4ff4128c38d",
   "metadata": {},
   "source": [
    "### Visualising the Train DAG"
   ]
  },
  {
   "cell_type": "code",
   "execution_count": 12,
   "id": "3b32d463-964a-4b18-a2bf-8eb5b1981934",
   "metadata": {
    "tags": []
   },
   "outputs": [
    {
     "name": "stdout",
     "output_type": "stream",
     "text": [
      "running train\n"
     ]
    }
   ],
   "source": [
    "! forml project train -R graphviz"
   ]
  },
  {
   "cell_type": "markdown",
   "id": "2ae554af-0452-443d-97e2-300c98f93626",
   "metadata": {
    "tags": []
   },
   "source": [
    "This produces a SVG file under [dummy/forml.dot.svg](./img/train.svg) visualizing the given train workflow:"
   ]
  },
  {
   "cell_type": "markdown",
   "id": "d9cf8873-d663-4ead-b553-e926da3d0889",
   "metadata": {
    "tags": []
   },
   "source": [
    "_dummy/forml.dot.svg_:\n",
    "[![train flow](img/train.svg)](img/train.svg)"
   ]
  },
  {
   "cell_type": "markdown",
   "id": "e0d1c436-157c-487a-b8ed-082b3c59f304",
   "metadata": {
    "slideshow": {
     "slide_type": "slide"
    },
    "tags": []
   },
   "source": [
    "### Performing Development Evaluation"
   ]
  },
  {
   "cell_type": "code",
   "execution_count": 13,
   "id": "402fa096-17eb-49e4-9b99-8e5be6b9a8a2",
   "metadata": {
    "tags": []
   },
   "outputs": [
    {
     "name": "stdout",
     "output_type": "stream",
     "text": [
      "running eval\n",
      "0.3772729843470399\n"
     ]
    }
   ],
   "source": [
    "! forml project eval"
   ]
  },
  {
   "cell_type": "markdown",
   "id": "c2eeface-27ff-435c-a37c-7e46a723f6e3",
   "metadata": {
    "tags": []
   },
   "source": [
    "### Running Tests"
   ]
  },
  {
   "cell_type": "code",
   "execution_count": 14,
   "id": "4beec46f-a5e4-43e2-97f1-43c78b599d6d",
   "metadata": {
    "tags": []
   },
   "outputs": [
    {
     "name": "stdout",
     "output_type": "stream",
     "text": [
      "running test\n",
      "running egg_info\n",
      "creating dummy.egg-info\n",
      "writing dummy.egg-info/PKG-INFO\n",
      "writing dependency_links to dummy.egg-info/dependency_links.txt\n",
      "writing requirements to dummy.egg-info/requires.txt\n",
      "writing top-level names to dummy.egg-info/top_level.txt\n",
      "writing manifest file 'dummy.egg-info/SOURCES.txt'\n",
      "reading manifest file 'dummy.egg-info/SOURCES.txt'\n",
      "writing manifest file 'dummy.egg-info/SOURCES.txt'\n",
      "running build_ext\n",
      "test_default_oversample (tests.test_pipeline.TestBalancer)\n",
      "Test of Default Oversample ... ok\n",
      "\n",
      "----------------------------------------------------------------------\n",
      "Ran 1 test in 2.195s\n",
      "\n",
      "OK\n"
     ]
    }
   ],
   "source": [
    "! forml project test"
   ]
  },
  {
   "cell_type": "markdown",
   "id": "51b33c05-d88b-4a01-acbb-ad46aba26ee0",
   "metadata": {
    "slideshow": {
     "slide_type": "slide"
    },
    "tags": []
   },
   "source": [
    "### Releasing\n",
    "\n",
    "Once we are happy with the achieved results (good evaluation metric, unit tests passing), we can proceed to releasing the model version.\n",
    "\n",
    "Let's start by committing and tagging the project codebase:"
   ]
  },
  {
   "cell_type": "code",
   "execution_count": 15,
   "id": "ba1da617-572b-43a5-b3b3-f3c21189149e",
   "metadata": {
    "tags": []
   },
   "outputs": [
    {
     "name": "stdout",
     "output_type": "stream",
     "text": [
      "[main (root-commit) 86a56dd] Released 0.1.dev1\n",
      " 8 files changed, 158 insertions(+)\n",
      " create mode 100644 .gitignore\n",
      " create mode 100644 dummy/__init__.py\n",
      " create mode 100644 dummy/evaluation.py\n",
      " create mode 100644 dummy/pipeline.py\n",
      " create mode 100644 dummy/source.py\n",
      " create mode 100644 pyproject.toml\n",
      " create mode 100644 tests/__init__.py\n",
      " create mode 100644 tests/test_pipeline.py\n"
     ]
    }
   ],
   "source": [
    "! git commit -m 'Released 0.1.dev1'\n",
    "! git tag 0.1.dev1"
   ]
  },
  {
   "cell_type": "markdown",
   "id": "964ba2ef-3d52-477c-8906-2ac0118c5e37",
   "metadata": {
    "slideshow": {
     "slide_type": "subslide"
    },
    "tags": []
   },
   "source": [
    "Now we can kick off the release process to package the model artifact and publish it into the model registry:"
   ]
  },
  {
   "cell_type": "code",
   "execution_count": 16,
   "id": "ae1f4438-5d1b-421f-b707-1013c0cface6",
   "metadata": {
    "tags": []
   },
   "outputs": [
    {
     "name": "stdout",
     "output_type": "stream",
     "text": [
      "running bdist_4ml\n",
      "Collecting forml==0.93\n",
      "  Using cached forml-0.93-py3-none-any.whl (283 kB)\n",
      "Collecting imbalanced-learn==0.10.1\n",
      "  Using cached imbalanced_learn-0.10.1-py3-none-any.whl (226 kB)\n",
      "Collecting click (from forml==0.93)\n",
      "  Using cached click-8.1.3-py3-none-any.whl (96 kB)\n",
      "Collecting cloudpickle (from forml==0.93)\n",
      "  Using cached cloudpickle-2.2.1-py3-none-any.whl (25 kB)\n",
      "Collecting jinja2 (from forml==0.93)\n",
      "  Using cached Jinja2-3.1.2-py3-none-any.whl (133 kB)\n",
      "Collecting numpy (from forml==0.93)\n",
      "  Using cached numpy-1.24.3-cp310-cp310-manylinux_2_17_x86_64.manylinux2014_x86_64.whl (17.3 MB)\n",
      "Collecting packaging>=20.0 (from forml==0.93)\n",
      "  Using cached packaging-23.1-py3-none-any.whl (48 kB)\n",
      "Collecting pandas (from forml==0.93)\n",
      "  Using cached pandas-2.0.2-cp310-cp310-manylinux_2_17_x86_64.manylinux2014_x86_64.whl (12.3 MB)\n",
      "Collecting pip (from forml==0.93)\n",
      "  Using cached pip-23.1.2-py3-none-any.whl (2.1 MB)\n",
      "Collecting scikit-learn (from forml==0.93)\n",
      "  Using cached scikit_learn-1.2.2-cp310-cp310-manylinux_2_17_x86_64.manylinux2014_x86_64.whl (9.6 MB)\n",
      "Collecting setuptools (from forml==0.93)\n",
      "  Using cached setuptools-67.8.0-py3-none-any.whl (1.1 MB)\n",
      "Collecting toml (from forml==0.93)\n",
      "  Using cached toml-0.10.2-py2.py3-none-any.whl (16 kB)\n",
      "Collecting tomli (from forml==0.93)\n",
      "  Using cached tomli-2.0.1-py3-none-any.whl (12 kB)\n",
      "Collecting scipy>=1.3.2 (from imbalanced-learn==0.10.1)\n",
      "  Using cached scipy-1.10.1-cp310-cp310-manylinux_2_17_x86_64.manylinux2014_x86_64.whl (34.4 MB)\n",
      "Collecting joblib>=1.1.1 (from imbalanced-learn==0.10.1)\n",
      "  Using cached joblib-1.2.0-py3-none-any.whl (297 kB)\n",
      "Collecting threadpoolctl>=2.0.0 (from imbalanced-learn==0.10.1)\n",
      "  Using cached threadpoolctl-3.1.0-py3-none-any.whl (14 kB)\n",
      "Collecting MarkupSafe>=2.0 (from jinja2->forml==0.93)\n",
      "  Using cached MarkupSafe-2.1.2-cp310-cp310-manylinux_2_17_x86_64.manylinux2014_x86_64.whl (25 kB)\n",
      "Collecting python-dateutil>=2.8.2 (from pandas->forml==0.93)\n",
      "  Using cached python_dateutil-2.8.2-py2.py3-none-any.whl (247 kB)\n",
      "Collecting pytz>=2020.1 (from pandas->forml==0.93)\n",
      "  Using cached pytz-2023.3-py2.py3-none-any.whl (502 kB)\n",
      "Collecting tzdata>=2022.1 (from pandas->forml==0.93)\n",
      "  Using cached tzdata-2023.3-py2.py3-none-any.whl (341 kB)\n",
      "Collecting six>=1.5 (from python-dateutil>=2.8.2->pandas->forml==0.93)\n",
      "  Using cached six-1.16.0-py2.py3-none-any.whl (11 kB)\n",
      "Installing collected packages: pytz, tzdata, tomli, toml, threadpoolctl, six, setuptools, pip, packaging, numpy, MarkupSafe, joblib, cloudpickle, click, scipy, python-dateutil, jinja2, scikit-learn, pandas, imbalanced-learn, forml\n",
      "Successfully installed MarkupSafe-2.1.2 click-8.1.3 cloudpickle-2.2.1 forml-0.93 imbalanced-learn-0.10.1 jinja2-3.1.2 joblib-1.2.0 numpy-1.24.3 packaging-23.1 pandas-2.0.2 pip-23.1.2 python-dateutil-2.8.2 pytz-2023.3 scikit-learn-1.2.2 scipy-1.10.1 setuptools-67.8.0 six-1.16.0 threadpoolctl-3.1.0 toml-0.10.2 tomli-2.0.1 tzdata-2023.3\n",
      "running upload\n"
     ]
    }
   ],
   "source": [
    "! forml project release"
   ]
  },
  {
   "cell_type": "markdown",
   "id": "bdbcf446-10f3-49f3-9b52-68bd3be43eb2",
   "metadata": {
    "slideshow": {
     "slide_type": "slide"
    },
    "tags": []
   },
   "source": [
    "## Model Registry\n",
    "\n",
    "[Model registry](https://docs.forml.io/en/latest/registry.html) serves as a crucial interface for managing published models throughout the production lifecycle. It can be provided through a number of different implementations.\n",
    "\n",
    "The registry has a tree hierarchy with levels of `project` / `release` / `generation`:"
   ]
  },
  {
   "cell_type": "code",
   "execution_count": 17,
   "id": "cbc89b06-4b4f-4e93-b57c-96be3c21340b",
   "metadata": {
    "tags": []
   },
   "outputs": [
    {
     "name": "stdout",
     "output_type": "stream",
     "text": [
      "dummy  \n"
     ]
    }
   ],
   "source": [
    "! forml model list"
   ]
  },
  {
   "cell_type": "code",
   "execution_count": 18,
   "id": "77b96f68-3979-4758-9935-0dc4d73119f9",
   "metadata": {
    "tags": []
   },
   "outputs": [
    {
     "name": "stdout",
     "output_type": "stream",
     "text": [
      "0.1.dev1  \n"
     ]
    }
   ],
   "source": [
    "! forml model list dummy"
   ]
  },
  {
   "cell_type": "code",
   "execution_count": 19,
   "id": "e0a5dfcf-f4dc-4bcf-b5fe-439557213b7a",
   "metadata": {
    "tags": []
   },
   "outputs": [],
   "source": [
    "! forml model list dummy 0.1.dev1"
   ]
  },
  {
   "cell_type": "code",
   "execution_count": 20,
   "id": "040a7052-9cd6-4d71-b6e2-7e73390235cd",
   "metadata": {
    "tags": []
   },
   "outputs": [
    {
     "name": "stdout",
     "output_type": "stream",
     "text": [
      "\u001b[01;34m/opt/forml/assets/registry/\u001b[00m\n",
      "└── \u001b[01;34mdummy\u001b[00m\n",
      "    └── \u001b[01;34m0.1.dev1\u001b[00m\n",
      "        └── package.4ml\n",
      "\n",
      "2 directories, 1 file\n"
     ]
    }
   ],
   "source": [
    "! tree /opt/forml/assets/registry/"
   ]
  },
  {
   "cell_type": "markdown",
   "id": "b7812ffd-a492-4b32-ba1d-ae646ed34d4a",
   "metadata": {
    "slideshow": {
     "slide_type": "slide"
    },
    "tags": []
   },
   "source": [
    "## Production Lifecycle\n",
    "\n",
    "[Production lifecycle](https://docs.forml.io/en/latest/lifecycle.html#production-life-cycle) takes care of all the necessary model operations after its release."
   ]
  },
  {
   "cell_type": "markdown",
   "id": "da27b00a-be2b-4085-a6e8-650b33563f54",
   "metadata": {},
   "source": [
    "### Model Training"
   ]
  },
  {
   "cell_type": "code",
   "execution_count": 21,
   "id": "2c972a6b-4c21-4db9-a1fa-50fdb87467b4",
   "metadata": {
    "tags": []
   },
   "outputs": [],
   "source": [
    "! forml model train dummy"
   ]
  },
  {
   "cell_type": "code",
   "execution_count": 22,
   "id": "cac57853-40fb-4b6f-8645-d379434e3416",
   "metadata": {
    "tags": []
   },
   "outputs": [
    {
     "name": "stdout",
     "output_type": "stream",
     "text": [
      "1  \n"
     ]
    }
   ],
   "source": [
    "! forml model list dummy 0.1.dev1"
   ]
  },
  {
   "cell_type": "code",
   "execution_count": 23,
   "id": "40985bb0-8b2c-427b-b719-ab35b1678c98",
   "metadata": {
    "tags": []
   },
   "outputs": [
    {
     "name": "stdout",
     "output_type": "stream",
     "text": [
      "\u001b[01;34m/opt/forml/assets/registry/\u001b[00m\n",
      "└── \u001b[01;34mdummy\u001b[00m\n",
      "    └── \u001b[01;34m0.1.dev1\u001b[00m\n",
      "        ├── \u001b[01;34m1\u001b[00m\n",
      "        │   ├── 21c560d1-dac8-41f0-b5bd-246e76e00bd6.bin\n",
      "        │   ├── 4da96680-dcd0-44f9-b8f6-74d8b7d12360.bin\n",
      "        │   ├── 643066e9-aad2-41f5-bd8f-73fdf736d1b8.bin\n",
      "        │   └── tag.toml\n",
      "        └── package.4ml\n",
      "\n",
      "3 directories, 5 files\n"
     ]
    }
   ],
   "source": [
    "! tree /opt/forml/assets/registry/"
   ]
  },
  {
   "cell_type": "markdown",
   "id": "2258188d-69a6-4400-8c74-1c3d726ed79b",
   "metadata": {
    "slideshow": {
     "slide_type": "slide"
    },
    "tags": []
   },
   "source": [
    "### Followup Steps\n",
    "\n",
    "We will leave the remaining steps of the production lifecycle to the final chapter [3-solution](../3-solution) which works with a real dataset."
   ]
  }
 ],
 "metadata": {
  "kernelspec": {
   "display_name": "Python 3 (ipykernel)",
   "language": "python",
   "name": "python3"
  },
  "language_info": {
   "codemirror_mode": {
    "name": "ipython",
    "version": 3
   },
   "file_extension": ".py",
   "mimetype": "text/x-python",
   "name": "python",
   "nbconvert_exporter": "python",
   "pygments_lexer": "ipython3",
   "version": "3.10.11"
  }
 },
 "nbformat": 4,
 "nbformat_minor": 5
}

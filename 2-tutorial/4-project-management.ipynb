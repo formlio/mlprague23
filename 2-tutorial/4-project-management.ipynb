{
 "cells": [
  {
   "cell_type": "markdown",
   "id": "e99c9d5b-7558-4a55-b4d9-b07797976eba",
   "metadata": {},
   "source": [
    "Tutorial: Project Management\n",
    "============================\n",
    "\n",
    "Objective:\n",
    "\n",
    "> TODO\n",
    "\n",
    "Principles:\n",
    "\n",
    "1. TODO\n",
    "2. TODO\n",
    "3. TODO"
   ]
  },
  {
   "cell_type": "markdown",
   "id": "dfdbaead-2b0a-47b1-8ef4-40108ea8a2e2",
   "metadata": {},
   "source": [
    "Project Setup\n",
    "-------------"
   ]
  },
  {
   "cell_type": "markdown",
   "id": "3f4c9ff7-4e07-4f68-8e05-1729823a1323",
   "metadata": {},
   "source": [
    "### Initializing New Project"
   ]
  },
  {
   "cell_type": "code",
   "execution_count": 1,
   "id": "595d86e8-c2de-4103-b79e-182975a4d44b",
   "metadata": {
    "tags": []
   },
   "outputs": [],
   "source": [
    "! forml project init dummy\n",
    "! git init dummy"
   ]
  },
  {
   "cell_type": "markdown",
   "id": "81643370-eb70-428f-b04a-4746f3d80ae4",
   "metadata": {},
   "source": [
    "### Filling-in Project Components\n",
    "* `source.py`\n",
    "* `evaluation.py`\n",
    "* `pipeline.py`"
   ]
  },
  {
   "cell_type": "markdown",
   "id": "00b0b0d0-b8a1-4e49-93b6-7d3708c12bd6",
   "metadata": {},
   "source": [
    "### Implementing Unit Test for our Stateful Operator"
   ]
  },
  {
   "cell_type": "markdown",
   "id": "e5bac9a5-f30d-468d-b10a-df4090bf1d43",
   "metadata": {},
   "source": [
    "Development Lifecycle\n",
    "---------------------"
   ]
  },
  {
   "cell_type": "markdown",
   "id": "d9ca44d2-871f-42f6-ae8a-e4ff4128c38d",
   "metadata": {},
   "source": [
    "### Visualising Train/Eval DAG"
   ]
  },
  {
   "cell_type": "markdown",
   "id": "e0d1c436-157c-487a-b8ed-082b3c59f304",
   "metadata": {},
   "source": [
    "### Performing Training/Evaluation"
   ]
  },
  {
   "cell_type": "markdown",
   "id": "c2eeface-27ff-435c-a37c-7e46a723f6e3",
   "metadata": {},
   "source": [
    "### Running Tests"
   ]
  },
  {
   "cell_type": "markdown",
   "id": "51b33c05-d88b-4a01-acbb-ad46aba26ee0",
   "metadata": {},
   "source": [
    "### Releasing\n",
    "Exploring the artifact..."
   ]
  },
  {
   "cell_type": "markdown",
   "id": "bdbcf446-10f3-49f3-9b52-68bd3be43eb2",
   "metadata": {},
   "source": [
    "Production Lifecycle\n",
    "--------------------"
   ]
  },
  {
   "cell_type": "markdown",
   "id": "da27b00a-be2b-4085-a6e8-650b33563f54",
   "metadata": {},
   "source": [
    "### Model Training"
   ]
  },
  {
   "cell_type": "markdown",
   "id": "26381056-3632-4e31-b726-b17e72f8216c",
   "metadata": {},
   "source": [
    "### Applying Model (Predict)"
   ]
  },
  {
   "cell_type": "markdown",
   "id": "67c2deab-bffd-4808-9079-8f35ac6e1694",
   "metadata": {},
   "source": [
    "### Evaluating Predictions"
   ]
  },
  {
   "cell_type": "markdown",
   "id": "02793fa1-24b5-4000-bc41-ffe7acdfd340",
   "metadata": {},
   "source": [
    "### Training Refresh"
   ]
  }
 ],
 "metadata": {
  "kernelspec": {
   "display_name": "Python 3 (ipykernel)",
   "language": "python",
   "name": "python3"
  },
  "language_info": {
   "codemirror_mode": {
    "name": "ipython",
    "version": 3
   },
   "file_extension": ".py",
   "mimetype": "text/x-python",
   "name": "python",
   "nbconvert_exporter": "python",
   "pygments_lexer": "ipython3",
   "version": "3.10.11"
  }
 },
 "nbformat": 4,
 "nbformat_minor": 5
}

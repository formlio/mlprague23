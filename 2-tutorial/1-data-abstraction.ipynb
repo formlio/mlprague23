{
 "cells": [
  {
   "cell_type": "markdown",
   "id": "71ac14c9-f311-4119-beb9-0827be94b0af",
   "metadata": {},
   "source": [
    "Tutorial: Data Abstraction\n",
    "==========================\n",
    "\n",
    "Objective:\n",
    "\n",
    "> Learning how to specify project data source requirements independently of actual data to improve portability while maintaining reproducibility.\n",
    "\n",
    "Principles:\n",
    "\n",
    "1. Projects are decoupled from physical data sources through their _Schemas_.\n",
    "2. If capable, the runtime platform resolves project data requirements using one of its configured _feeds_.\n",
    "3. This tutorial workspace is provided with two dummy schemas (see the local [tutorial.py](tutorial.py) module): `tutorial.Dummy` \n",
    "4. This tutorial platform is configured with a feed capable of resolving data for these schemas.\n"
   ]
  },
  {
   "cell_type": "code",
   "execution_count": 1,
   "id": "42fefd1d-369a-424b-90f9-1943d3dc19f7",
   "metadata": {
    "tags": []
   },
   "outputs": [],
   "source": [
    "from datetime import datetime, date\n",
    "\n",
    "from forml.project import Source\n",
    "from forml.pipeline.payload import ToPandas\n",
    "\n",
    "from tutorial import Dummy"
   ]
  },
  {
   "cell_type": "markdown",
   "id": "5c21fa90-fc50-443d-a87c-dbce13a6ebb4",
   "metadata": {},
   "source": [
    "Basic Loading of the Dummy Dataset\n",
    "----------------------------------\n",
    "When submitting a workflow "
   ]
  },
  {
   "cell_type": "code",
   "execution_count": 2,
   "id": "24cbf0d6-a0e8-4707-8abd-5002cec38d47",
   "metadata": {
    "tags": []
   },
   "outputs": [
    {
     "name": "stderr",
     "output_type": "stream",
     "text": [
      "INFO: 2023-05-10 13:40:09,443: lazy: Loading Dummy\n"
     ]
    },
    {
     "data": {
      "text/html": [
       "<div>\n",
       "<style scoped>\n",
       "    .dataframe tbody tr th:only-of-type {\n",
       "        vertical-align: middle;\n",
       "    }\n",
       "\n",
       "    .dataframe tbody tr th {\n",
       "        vertical-align: top;\n",
       "    }\n",
       "\n",
       "    .dataframe thead th {\n",
       "        text-align: right;\n",
       "    }\n",
       "</style>\n",
       "<table border=\"1\" class=\"dataframe\">\n",
       "  <thead>\n",
       "    <tr style=\"text-align: right;\">\n",
       "      <th></th>\n",
       "      <th>Title</th>\n",
       "      <th>Key</th>\n",
       "      <th>Target</th>\n",
       "      <th>Timestamp</th>\n",
       "    </tr>\n",
       "  </thead>\n",
       "  <tbody>\n",
       "    <tr>\n",
       "      <th>0</th>\n",
       "      <td>alpha</td>\n",
       "      <td>27</td>\n",
       "      <td>0.314</td>\n",
       "      <td>2021-05-11 17:12:24</td>\n",
       "    </tr>\n",
       "    <tr>\n",
       "      <th>1</th>\n",
       "      <td>beta</td>\n",
       "      <td>11</td>\n",
       "      <td>-1.120</td>\n",
       "      <td>2020-11-03 01:24:56</td>\n",
       "    </tr>\n",
       "  </tbody>\n",
       "</table>\n",
       "</div>"
      ],
      "text/plain": [
       "   Title  Key  Target           Timestamp\n",
       "0  alpha   27   0.314 2021-05-11 17:12:24\n",
       "1   beta   11  -1.120 2020-11-03 01:24:56"
      ]
     },
     "execution_count": 2,
     "metadata": {},
     "output_type": "execute_result"
    }
   ],
   "source": [
    "STATEMENT = Dummy\n",
    "\n",
    "SOURCE = Source.query(STATEMENT)\n",
    "PIPELINE = ToPandas()\n",
    "\n",
    "SOURCE.bind(PIPELINE).launcher.apply()"
   ]
  },
  {
   "cell_type": "markdown",
   "id": "36a7e391-ff0d-4f9d-abcb-6af55baa9aaf",
   "metadata": {
    "tags": []
   },
   "source": [
    "Using Advanced Query DSL to Refine the Data Requirements\n",
    "--------------------------------------------------------\n",
    "The `SOURCE` instance returned by `Source.query` supports an advanced [Query DSL Syntax](https://docs.forml.io/en/latest/dsl/query/syntax.html) interpreted by the platform:\n",
    "\n",
    "* column (expression) projection ([.select()](https://docs.forml.io/en/latest/dsl/query/design.html#forml.io.dsl.Queryable.select) method)\n",
    "* expression-based filtering ([.where()](https://docs.forml.io/en/latest/dsl/query/design.html#forml.io.dsl.Queryable.where) method)\n",
    "* aggregation ([.groupby()](https://docs.forml.io/en/latest/dsl/query/design.html#forml.io.dsl.Queryable.groupby) method)\n",
    "* joining multiple schemas ([.*_join()](https://docs.forml.io/en/latest/dsl/query/design.html#forml.io.dsl.Origin.inner_join) methods)\n",
    "* and more..."
   ]
  },
  {
   "cell_type": "markdown",
   "id": "dbe8640a-ee65-473e-b743-0cbccc3e6817",
   "metadata": {},
   "source": [
    "### Exercise: Extend the Basic Dummy Dataset Loading to Select Just the Title, Key and Timestamp Columns\n",
    "\n",
    "Hints:\n",
    "* use the ([Dummy.select()](https://docs.forml.io/en/latest/dsl/query/design.html#forml.io.dsl.Queryable.select) method)\n",
    "* schema columns are referenced using the syntax of `Schema.ColumnName`"
   ]
  },
  {
   "cell_type": "code",
   "execution_count": 3,
   "id": "4e4e28f4-ff31-4af5-a73e-1741a3a79ee0",
   "metadata": {
    "tags": []
   },
   "outputs": [
    {
     "name": "stderr",
     "output_type": "stream",
     "text": [
      "INFO: 2023-05-10 13:40:15,669: lazy: Loading Dummy\n"
     ]
    },
    {
     "data": {
      "text/html": [
       "<div>\n",
       "<style scoped>\n",
       "    .dataframe tbody tr th:only-of-type {\n",
       "        vertical-align: middle;\n",
       "    }\n",
       "\n",
       "    .dataframe tbody tr th {\n",
       "        vertical-align: top;\n",
       "    }\n",
       "\n",
       "    .dataframe thead th {\n",
       "        text-align: right;\n",
       "    }\n",
       "</style>\n",
       "<table border=\"1\" class=\"dataframe\">\n",
       "  <thead>\n",
       "    <tr style=\"text-align: right;\">\n",
       "      <th></th>\n",
       "      <th>Title</th>\n",
       "      <th>Key</th>\n",
       "      <th>Timestamp</th>\n",
       "    </tr>\n",
       "  </thead>\n",
       "  <tbody>\n",
       "    <tr>\n",
       "      <th>0</th>\n",
       "      <td>alpha</td>\n",
       "      <td>27</td>\n",
       "      <td>2021-05-11 17:12:24</td>\n",
       "    </tr>\n",
       "    <tr>\n",
       "      <th>1</th>\n",
       "      <td>beta</td>\n",
       "      <td>11</td>\n",
       "      <td>2020-11-03 01:24:56</td>\n",
       "    </tr>\n",
       "  </tbody>\n",
       "</table>\n",
       "</div>"
      ],
      "text/plain": [
       "   Title  Key           Timestamp\n",
       "0  alpha   27 2021-05-11 17:12:24\n",
       "1   beta   11 2020-11-03 01:24:56"
      ]
     },
     "execution_count": 3,
     "metadata": {},
     "output_type": "execute_result"
    }
   ],
   "source": [
    "STATEMENT = Dummy.select(\n",
    "    Dummy.Title,\n",
    "    Dummy.Key,\n",
    "    Dummy.Timestamp\n",
    ")\n",
    "\n",
    "SOURCE = Source.query(STATEMENT)\n",
    "PIPELINE = ToPandas()\n",
    "\n",
    "SOURCE.bind(PIPELINE).launcher.apply()"
   ]
  },
  {
   "cell_type": "markdown",
   "id": "ee967a38-0b98-4435-aaf0-d94f34d653f4",
   "metadata": {},
   "source": [
    "### Exercise: Extend the STATEMENT to Filter Just Rows with Timestamp After 2021-1-1\n",
    "\n",
    "Hints: \n",
    "* use the ([Dummy.where()](https://docs.forml.io/en/latest/dsl/query/design.html#forml.io.dsl.Queryable.where) method)\n",
    "* native Python operators and literals (e.g. integers, strings, but also `datetime` instances) can be used directly on Schema columns to compose expressions"
   ]
  },
  {
   "cell_type": "code",
   "execution_count": 4,
   "id": "f3ae60ab-2108-47fc-9b7b-cdbf9c80d551",
   "metadata": {
    "tags": []
   },
   "outputs": [
    {
     "name": "stderr",
     "output_type": "stream",
     "text": [
      "INFO: 2023-05-10 13:40:21,014: lazy: Loading Dummy\n"
     ]
    },
    {
     "data": {
      "text/html": [
       "<div>\n",
       "<style scoped>\n",
       "    .dataframe tbody tr th:only-of-type {\n",
       "        vertical-align: middle;\n",
       "    }\n",
       "\n",
       "    .dataframe tbody tr th {\n",
       "        vertical-align: top;\n",
       "    }\n",
       "\n",
       "    .dataframe thead th {\n",
       "        text-align: right;\n",
       "    }\n",
       "</style>\n",
       "<table border=\"1\" class=\"dataframe\">\n",
       "  <thead>\n",
       "    <tr style=\"text-align: right;\">\n",
       "      <th></th>\n",
       "      <th>Title</th>\n",
       "      <th>Key</th>\n",
       "      <th>Timestamp</th>\n",
       "    </tr>\n",
       "  </thead>\n",
       "  <tbody>\n",
       "    <tr>\n",
       "      <th>0</th>\n",
       "      <td>alpha</td>\n",
       "      <td>27</td>\n",
       "      <td>2021-05-11 17:12:24</td>\n",
       "    </tr>\n",
       "  </tbody>\n",
       "</table>\n",
       "</div>"
      ],
      "text/plain": [
       "   Title  Key           Timestamp\n",
       "0  alpha   27 2021-05-11 17:12:24"
      ]
     },
     "execution_count": 4,
     "metadata": {},
     "output_type": "execute_result"
    }
   ],
   "source": [
    "STATEMENT = Dummy.select(\n",
    "    Dummy.Title,\n",
    "    Dummy.Key,\n",
    "    Dummy.Timestamp\n",
    ").where(Dummy.Timestamp > datetime(2021, 1, 1))\n",
    "\n",
    "SOURCE = Source.query(STATEMENT)\n",
    "PIPELINE = ToPandas()\n",
    "\n",
    "SOURCE.bind(PIPELINE).launcher.apply()"
   ]
  },
  {
   "cell_type": "markdown",
   "id": "c2e5df36-df5f-4eb2-bbca-5f62bf0d176d",
   "metadata": {},
   "source": [
    "### Exercise: Extend the STATEMENT to Join the Dummy Schema with...using the `Dummy.Key == ...`\n",
    "\n",
    "Hints: \n",
    "* use the ([Dummy.inner_join()](https://docs.forml.io/en/latest/dsl/query/design.html#forml.io.dsl.Origin.inner_join) method)"
   ]
  },
  {
   "cell_type": "code",
   "execution_count": null,
   "id": "31fc1e03-dcaf-4690-990c-55e6168f1fbc",
   "metadata": {},
   "outputs": [],
   "source": []
  }
 ],
 "metadata": {
  "kernelspec": {
   "display_name": "Python 3 (ipykernel)",
   "language": "python",
   "name": "python3"
  },
  "language_info": {
   "codemirror_mode": {
    "name": "ipython",
    "version": 3
   },
   "file_extension": ".py",
   "mimetype": "text/x-python",
   "name": "python",
   "nbconvert_exporter": "python",
   "pygments_lexer": "ipython3",
   "version": "3.10.11"
  }
 },
 "nbformat": 4,
 "nbformat_minor": 5
}

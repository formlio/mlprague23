{
 "cells": [
  {
   "cell_type": "markdown",
   "id": "c3d6cc5e-f019-417b-83ef-c1da772ea8fa",
   "metadata": {},
   "source": [
    "Tutorial: Evaluation\n",
    "====================\n",
    "\n",
    "Objective:\n",
    "\n",
    "> TODO\n",
    "\n",
    "Principles:\n",
    "\n",
    "1. TODO\n",
    "2. TODO\n",
    "3. TODO"
   ]
  },
  {
   "cell_type": "markdown",
   "id": "64846413-8b83-4ad5-93b4-ef83bdad0a46",
   "metadata": {},
   "source": [
    "Method\n",
    "------"
   ]
  },
  {
   "cell_type": "markdown",
   "id": "04bacf64-7065-46d0-b99d-2f7a3ac0b9ea",
   "metadata": {},
   "source": [
    "### Holdout"
   ]
  },
  {
   "cell_type": "markdown",
   "id": "b8e0ae6c-0868-4165-9287-4bc7404a276f",
   "metadata": {},
   "source": [
    "### Cross-validation"
   ]
  }
 ],
 "metadata": {
  "kernelspec": {
   "display_name": "Python 3 (ipykernel)",
   "language": "python",
   "name": "python3"
  },
  "language_info": {
   "codemirror_mode": {
    "name": "ipython",
    "version": 3
   },
   "file_extension": ".py",
   "mimetype": "text/x-python",
   "name": "python",
   "nbconvert_exporter": "python",
   "pygments_lexer": "ipython3",
   "version": "3.10.11"
  }
 },
 "nbformat": 4,
 "nbformat_minor": 5
}

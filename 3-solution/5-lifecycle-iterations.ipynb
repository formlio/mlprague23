{
 "cells": [
  {
   "cell_type": "markdown",
   "id": "5601b2da-8275-47c9-bb28-7adaff749641",
   "metadata": {},
   "source": [
    "Solution: Lifecycle Iterations\n",
    "=============================="
   ]
  },
  {
   "cell_type": "markdown",
   "id": "59adf854-1b30-4b80-8142-9eb05a545bd8",
   "metadata": {},
   "source": [
    "### Monitoring"
   ]
  },
  {
   "cell_type": "code",
   "execution_count": 8,
   "id": "41bd4294-b599-45dd-84bf-738886c0e434",
   "metadata": {
    "tags": []
   },
   "outputs": [
    {
     "name": "stdout",
     "output_type": "stream",
     "text": [
      "Setting default log level to \"WARN\".\n",
      "To adjust logging level use sc.setLogLevel(newLevel). For SparkR, use setLogLevel(newLevel).\n",
      "23/05/14 20:19:12 WARN NativeCodeLoader: Unable to load native-hadoop library for your platform... using builtin-java classes where applicable\n",
      "23/05/14 20:19:14 WARN TaskSetManager: Stage 0 contains a task of very large size (6213 KiB). The maximum recommended task size is 1000 KiB.\n",
      "23/05/14 20:19:14 WARN TaskSetManager: Stage 1 contains a task of very large size (76732 KiB). The maximum recommended task size is 1000 KiB.\n",
      "23/05/14 20:19:22 WARN TaskSetManager: Stage 3 contains a task of very large size (89853 KiB). The maximum recommended task size is 1000 KiB.\n",
      "23/05/14 20:19:23 WARN TaskSetManager: Stage 5 contains a task of very large size (97663 KiB). The maximum recommended task size is 1000 KiB.\n",
      "23/05/14 20:19:24 WARN TaskSetManager: Stage 6 contains a task of very large size (6238 KiB). The maximum recommended task size is 1000 KiB.\n",
      "23/05/14 20:19:24 WARN TaskSetManager: Stage 7 contains a task of very large size (76732 KiB). The maximum recommended task size is 1000 KiB.\n",
      "23/05/14 20:19:28 WARN TaskSetManager: Stage 9 contains a task of very large size (89853 KiB). The maximum recommended task size is 1000 KiB.\n",
      "23/05/14 20:19:29 WARN TaskSetManager: Stage 11 contains a task of very large size (97663 KiB). The maximum recommended task size is 1000 KiB.\n",
      "23/05/14 20:19:30 WARN TaskSetManager: Stage 12 contains a task of very large size (3913 KiB). The maximum recommended task size is 1000 KiB.\n",
      "23/05/14 20:19:30 WARN TaskSetManager: Stage 13 contains a task of very large size (3913 KiB). The maximum recommended task size is 1000 KiB.\n",
      "23/05/14 20:19:31 WARN TaskSetManager: Stage 14 contains a task of very large size (371418 KiB). The maximum recommended task size is 1000 KiB.\n",
      "23/05/14 20:19:33 WARN TaskSetManager: Stage 15 contains a task of very large size (97663 KiB). The maximum recommended task size is 1000 KiB.\n",
      "23/05/14 20:19:43 WARN TaskSetManager: Stage 16 contains a task of very large size (375499 KiB). The maximum recommended task size is 1000 KiB.\n",
      "23/05/14 20:19:44 WARN TaskSetManager: Stage 17 contains a task of very large size (97663 KiB). The maximum recommended task size is 1000 KiB.\n",
      "23/05/14 20:19:53 WARN TaskSetManager: Stage 18 contains a task of very large size (3913 KiB). The maximum recommended task size is 1000 KiB.\n",
      "23/05/14 20:19:53 WARN TaskSetManager: Stage 19 contains a task of very large size (3913 KiB). The maximum recommended task size is 1000 KiB.\n",
      "23/05/14 20:19:53 WARN TaskSetManager: Stage 20 contains a task of very large size (3913 KiB). The maximum recommended task size is 1000 KiB.\n",
      "23/05/14 20:19:53 WARN TaskSetManager: Stage 21 contains a task of very large size (3913 KiB). The maximum recommended task size is 1000 KiB.\n",
      "23/05/14 20:19:53 WARN TaskSetManager: Stage 23 contains a task of very large size (7820 KiB). The maximum recommended task size is 1000 KiB.\n",
      "23/05/14 20:19:54 WARN TaskSetManager: Stage 24 contains a task of very large size (76732 KiB). The maximum recommended task size is 1000 KiB.\n",
      "23/05/14 20:19:54 WARN TaskSetManager: Stage 25 contains a task of very large size (3913 KiB). The maximum recommended task size is 1000 KiB.\n",
      "0.42055726255809206\n",
      "INFO: 2023-05-14 20:19:56,141: clientserver: Closing down clientserver connection\n"
     ]
    }
   ],
   "source": [
    "! forml model -R spark eval --lower '2014-10-21 03:00:00' forml-solution-avazuctr"
   ]
  },
  {
   "cell_type": "markdown",
   "id": "1de5a10c-e968-4447-8e64-173565a56f75",
   "metadata": {},
   "source": [
    "### Model Refreshing"
   ]
  },
  {
   "cell_type": "code",
   "execution_count": null,
   "id": "75171aca-730c-4193-9ed1-1b71ac07890b",
   "metadata": {},
   "outputs": [],
   "source": [
    "! forml model train --lower '2014-10-21 03:00:00' forml-solution-avazuctr"
   ]
  },
  {
   "cell_type": "code",
   "execution_count": 2,
   "id": "f8334fca-bbb4-45ac-9c4b-38f5ec08a6cc",
   "metadata": {
    "tags": []
   },
   "outputs": [
    {
     "name": "stdout",
     "output_type": "stream",
     "text": [
      "1  2  \n"
     ]
    }
   ],
   "source": [
    "! forml model list forml-solution-avazuctr 0.1.dev1"
   ]
  },
  {
   "cell_type": "code",
   "execution_count": 3,
   "id": "7fef671b-501b-4433-8410-e31da3398c11",
   "metadata": {
    "tags": []
   },
   "outputs": [
    {
     "name": "stdout",
     "output_type": "stream",
     "text": [
      "[{\"c0\":0.1754190328}]"
     ]
    }
   ],
   "source": [
    "! curl -H 'Content-Type: application/json' -d '[{ \\\n",
    "    \"hour\": \"2014-10-21 03:00:00\", \\\n",
    "    \"C1\": \"1002\", \\\n",
    "    \"banner_pos\": \"0\", \\\n",
    "    \"site_id\": \"887a4754\", \\\n",
    "    \"site_domain\": \"e3d9ca35\", \\\n",
    "    \"site_category\": \"50e219e0\", \\\n",
    "    \"app_id\": \"ecad2386\", \\\n",
    "    \"app_domain\": \"7801e8d9\", \\\n",
    "    \"app_category\": \"07d7df22\", \\\n",
    "    \"device_id\": \"0e79d423\", \\\n",
    "    \"device_ip\": \"9f423918\", \\\n",
    "    \"device_model\": \"fc10a0d3\", \\\n",
    "    \"device_type\": \"0\", \\\n",
    "    \"device_conn_type\": \"0\", \\\n",
    "    \"C14\": \"22701\", \\\n",
    "    \"C15\": \"320\", \\\n",
    "    \"C16\": \"50\", \\\n",
    "    \"C17\": \"2624\", \\\n",
    "    \"C18\": \"0\", \\\n",
    "    \"C19\": \"35\", \\\n",
    "    \"C20\": \"-1\", \\\n",
    "    \"C21\": \"221\" \\\n",
    "}]' http://127.0.0.1:8000/forml-solution-avazuctr"
   ]
  },
  {
   "cell_type": "code",
   "execution_count": null,
   "id": "b6b6ef41-889d-42a4-aabb-c3682c9d27ab",
   "metadata": {},
   "outputs": [],
   "source": [
    "### New Release\n",
    "...removing useless columns"
   ]
  }
 ],
 "metadata": {
  "kernelspec": {
   "display_name": "Python 3 (ipykernel)",
   "language": "python",
   "name": "python3"
  },
  "language_info": {
   "codemirror_mode": {
    "name": "ipython",
    "version": 3
   },
   "file_extension": ".py",
   "mimetype": "text/x-python",
   "name": "python",
   "nbconvert_exporter": "python",
   "pygments_lexer": "ipython3",
   "version": "3.10.11"
  }
 },
 "nbformat": 4,
 "nbformat_minor": 5
}

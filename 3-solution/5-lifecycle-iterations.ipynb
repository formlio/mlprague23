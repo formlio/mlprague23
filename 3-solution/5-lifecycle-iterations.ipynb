{
 "cells": [
  {
   "cell_type": "markdown",
   "id": "5601b2da-8275-47c9-bb28-7adaff749641",
   "metadata": {
    "slideshow": {
     "slide_type": "slide"
    },
    "tags": []
   },
   "source": [
    "# Production Lifecycle Iterations\n",
    "\n",
    "Let's now explore the options for any iterations in the production lifecycle."
   ]
  },
  {
   "cell_type": "code",
   "execution_count": null,
   "id": "69f04ad8-84ba-4ba7-b849-880dc8f24e59",
   "metadata": {
    "slideshow": {
     "slide_type": "skip"
    },
    "tags": [
     "clear"
    ]
   },
   "outputs": [],
   "source": [
    "%cd ../forml-solution-avazuctr"
   ]
  },
  {
   "cell_type": "markdown",
   "id": "c3eafcc6-a72d-45c7-83b8-8668c0def76a",
   "metadata": {},
   "source": [
    "## Monitoring the Serving Performance\n",
    "\n",
    "The foremost action is monitoring the serving performance by evaluating the predictions against the eventually obtained true outcomes:"
   ]
  },
  {
   "cell_type": "code",
   "execution_count": 2,
   "id": "5a7db147-e5ab-4b54-8ce9-d4ccf704b95c",
   "metadata": {
    "tags": []
   },
   "outputs": [
    {
     "name": "stdout",
     "output_type": "stream",
     "text": [
      "0.38597474427877504\n"
     ]
    }
   ],
   "source": [
    "... # Evaluate the forml-solution-avazuctr serving performance of predictions made after '2014-10-21 03:00:00'"
   ]
  },
  {
   "cell_type": "markdown",
   "id": "1de5a10c-e968-4447-8e64-173565a56f75",
   "metadata": {
    "slideshow": {
     "slide_type": "slide"
    },
    "tags": []
   },
   "source": [
    "## Model Refreshing (Update)\n",
    "\n",
    "As time goes, the model is going to start indicating drift. Updating it with the recent data should be part of the regular process. With ForML, this involves producing new _generation_ of the model:"
   ]
  },
  {
   "cell_type": "code",
   "execution_count": 3,
   "id": "75171aca-730c-4193-9ed1-1b71ac07890b",
   "metadata": {
    "tags": []
   },
   "outputs": [],
   "source": [
    "... # Train a new generation of forml-solution-avazuctr 0.1 on data between '2014-10-21 03:00:00' and '2014-10-21 05:00:00' "
   ]
  },
  {
   "cell_type": "code",
   "execution_count": null,
   "id": "f8334fca-bbb4-45ac-9c4b-38f5ec08a6cc",
   "metadata": {
    "tags": [
     "clear"
    ]
   },
   "outputs": [],
   "source": [
    "! forml model list forml-solution-avazuctr 0.1"
   ]
  },
  {
   "cell_type": "markdown",
   "id": "b2433c6f-b90a-4010-b303-c5a40a9141d8",
   "metadata": {
    "slideshow": {
     "slide_type": "subslide"
    },
    "tags": []
   },
   "source": [
    "Wait for the _serving gateway_ to pick up the newer model (given its default `latest` strategy) and try a new request:"
   ]
  },
  {
   "cell_type": "code",
   "execution_count": 5,
   "id": "7fef671b-501b-4433-8410-e31da3398c11",
   "metadata": {
    "tags": []
   },
   "outputs": [
    {
     "name": "stdout",
     "output_type": "stream",
     "text": [
      "[{\"c0\":0.1343483272}]"
     ]
    }
   ],
   "source": [
    "! curl -H 'Content-Type: application/json' -d '[{ \\\n",
    "    \"hour\": \"2014-10-21 05:00:00\", \\\n",
    "    \"banner_pos\": \"0\", \\\n",
    "    \"site_id\": \"887a4754\", \"site_domain\": \"e3d9ca35\", \\\n",
    "    \"site_category\": \"50e219e0\", \\\n",
    "    \"app_id\": \"ecad2386\", \"app_domain\": \"7801e8d9\", \\\n",
    "    \"app_category\": \"07d7df22\", \\\n",
    "    \"device_id\": \"0e79d423\", \"device_ip\": \"9f423918\", \\\n",
    "    \"device_model\": \"fc10a0d3\", \\\n",
    "    \"device_type\": \"0\", \"device_conn_type\": \"0\", \\\n",
    "    \"C1\": \"1002\", \"C14\": \"22701\", \"C15\": \"320\", \"C16\": \"50\", \\\n",
    "    \"C17\": \"2624\", \"C18\": \"0\", \"C19\": \"35\", \"C20\": \"-1\", \"C21\": \"221\" \\\n",
    "}]' http://127.0.0.1:8000/forml-solution-avazuctr"
   ]
  },
  {
   "cell_type": "markdown",
   "id": "41a27ac5-2873-41aa-9b3e-5c49129705e7",
   "metadata": {},
   "source": [
    "The performance monitoring for the next period would then go like this:"
   ]
  },
  {
   "cell_type": "code",
   "execution_count": null,
   "id": "7419baa6-1ceb-4173-a889-9aee43bcac69",
   "metadata": {
    "tags": [
     "clear"
    ]
   },
   "outputs": [],
   "source": [
    "! forml model eval forml-solution-avazuctr \\\n",
    "    --lower '2014-10-21 05:00:00'"
   ]
  },
  {
   "cell_type": "markdown",
   "id": "50ed91d4-a50b-4fed-8450-03cb368e33f1",
   "metadata": {
    "slideshow": {
     "slide_type": "slide"
    },
    "tags": []
   },
   "source": [
    "## New Model Release (Upgrade)\n",
    "\n",
    "There can be a number of reasons why just refreshing the model might not bring the required improvements and a true gain would only be possible through a conceptually new version of the (logical) model (i.e. its code). This involves a new development iteration(s) and eventually a new release of the model.\n",
    "\n",
    "We will demonstrate this process by an attempt to simplify the model by removing some of the not-so-useful columns."
   ]
  },
  {
   "cell_type": "markdown",
   "id": "971a875c-ebde-4c38-9c8e-b4f3635f2634",
   "metadata": {},
   "source": [
    "Let's tap into our pipeline just after the `TargetEncoder` to be able to analyze that data:"
   ]
  },
  {
   "cell_type": "code",
   "execution_count": 7,
   "id": "43fb7147-2db8-4840-8081-1db60fc8a0af",
   "metadata": {
    "tags": []
   },
   "outputs": [],
   "source": [
    "from forml import project\n",
    "from forml.pipeline import payload, wrap\n",
    "from avazuctr import pipeline\n",
    "\n",
    "with wrap.importer():\n",
    "    from category_encoders import TargetEncoder\n",
    "\n",
    "PROJECT = project.open(path=\".\", package=\"avazuctr\")\n",
    "trainset = PROJECT.components.source.bind(\n",
    "    TargetEncoder(cols=pipeline.CATEGORICAL_COLUMNS)\n",
    ").launcher.train()"
   ]
  },
  {
   "cell_type": "markdown",
   "id": "ef12a3f9-e5c1-4c46-bb5c-d6b5c1cda575",
   "metadata": {
    "slideshow": {
     "slide_type": "subslide"
    },
    "tags": []
   },
   "source": [
    "Now we can simply calculate the pairwise feature correlations and filter anything above 0.9:"
   ]
  },
  {
   "cell_type": "code",
   "execution_count": null,
   "id": "99fb3774-d131-4b72-b237-0baa8ff4f0e3",
   "metadata": {
    "tags": [
     "clear"
    ]
   },
   "outputs": [],
   "source": [
    "import pandas\n",
    "corr = trainset.features.corr()\n",
    "corr[corr > 0.90].dropna(thresh=2).dropna(thresh=2, axis=1)"
   ]
  },
  {
   "cell_type": "markdown",
   "id": "a620df36-6881-4cb7-bd08-bd25bb7e4662",
   "metadata": {
    "slideshow": {
     "slide_type": "slide"
    },
    "tags": []
   },
   "source": [
    "### Removing the Redundant Features\n",
    "\n",
    "We see strong correlations between the following features:\n",
    "* `device_type` and `C1`\n",
    "* `site_domain` and `site_id`\n",
    "* `C14` and `C17` and `C21`\n",
    "* `C15` and `C16`\n",
    "\n",
    "Let's update our [avazuctr/source.py](../forml-solution-avazuctr/avazuctr/source.py) and [avazuctr/pipeline.py](../forml-solution-avazuctr/avazuctr/pipeline.py) to keep only the first feature from each of the sets:\n",
    "\n",
    "#### Updating source.py"
   ]
  },
  {
   "cell_type": "markdown",
   "id": "855a0e1d-70d2-484e-a3b4-2479a4c20a82",
   "metadata": {
    "tags": []
   },
   "source": [
    "1. Open the [avazuctr/source.py](../forml-solution-avazuctr/avazuctr/source.py) component.\n",
    "2. Edit the `FEATURES` sequence to remove the `device_type`, `site_domain`, `C15`, `C17`, and `C21` features.\n",
    "3. **SAVE THE [avazuctr/source.py](../forml-solution-avazuctr/avazuctr/source.py) FILE!**"
   ]
  },
  {
   "cell_type": "code",
   "execution_count": 9,
   "id": "fbd23c6d-5711-4bb3-8e73-9206108643e3",
   "metadata": {
    "tags": []
   },
   "outputs": [],
   "source": [
    "! git add avazuctr/source.py"
   ]
  },
  {
   "cell_type": "markdown",
   "id": "8ed8cae7-0f32-4d85-86d0-e85bd298c468",
   "metadata": {
    "slideshow": {
     "slide_type": "subslide"
    },
    "tags": []
   },
   "source": [
    "#### Updating pipeline.py\n",
    "1. Open the [avazuctr/pipeline.py](../forml-solution-avazuctr/avazuctr/pipeline.py) component.\n",
    "2. Edit the`CATEGORICAL_COLUMNS` sequence to remove the `device_type`, `site_domain`, `C15`, `C17`, and `C21` features.\n",
    "3. **SAVE THE [avazuctr/pipeline.py](../forml-solution-avazuctr/avazuctr/pipeline.py) FILE!**"
   ]
  },
  {
   "cell_type": "code",
   "execution_count": 10,
   "id": "d94c354f-5233-4fb5-85ce-eebef4689368",
   "metadata": {
    "tags": []
   },
   "outputs": [],
   "source": [
    "! git add avazuctr/pipeline.py"
   ]
  },
  {
   "cell_type": "markdown",
   "id": "73b71449-3d55-4881-9afa-be9fb1c38e6c",
   "metadata": {},
   "source": [
    "Now we can evaluate the impact of this change:"
   ]
  },
  {
   "cell_type": "code",
   "execution_count": null,
   "id": "033a474a-304d-4372-a679-84c7300d8c0f",
   "metadata": {
    "tags": [
     "clear"
    ]
   },
   "outputs": [],
   "source": [
    "! forml project eval"
   ]
  },
  {
   "cell_type": "markdown",
   "id": "4d3e2d13-6b76-4c6b-9750-99c783a67e83",
   "metadata": {},
   "source": [
    "This even comes with a slightly improved loss!"
   ]
  },
  {
   "cell_type": "markdown",
   "id": "c00d8def-8cc7-4c1a-afca-f54badad1845",
   "metadata": {
    "slideshow": {
     "slide_type": "slide"
    },
    "tags": []
   },
   "source": [
    "### Releasing the New Model\n",
    "\n",
    "Incrementing Project Version:\n",
    "\n",
    "1. Open the [pyproject.toml](../forml-solution-avazuctr/pyproject.toml).\n",
    "2. Edit the `version` setting it to `0.2`:\n",
    "```toml\n",
    "version = \"0.2\"\n",
    "```\n",
    "3. **SAVE THE [pyproject.toml](../forml-solution-avazuctr/pyproject.toml) FILE!**"
   ]
  },
  {
   "cell_type": "code",
   "execution_count": 12,
   "id": "d8264d60-8946-4955-8deb-e861c882523d",
   "metadata": {
    "tags": []
   },
   "outputs": [],
   "source": [
    "! git add pyproject.toml"
   ]
  },
  {
   "cell_type": "markdown",
   "id": "a278de15-6c08-498a-af93-7b6d9d270387",
   "metadata": {},
   "source": [
    "Commit and tag the code:"
   ]
  },
  {
   "cell_type": "code",
   "execution_count": null,
   "id": "8158488a-614d-48a3-bbb7-946d564f2965",
   "metadata": {
    "tags": [
     "clear"
    ]
   },
   "outputs": [],
   "source": [
    "! git commit -m 'Released 0.2'\n",
    "! git tag 0.2"
   ]
  },
  {
   "cell_type": "markdown",
   "id": "e8a42ccd-c547-4712-b808-bbe669a6e1cb",
   "metadata": {
    "slideshow": {
     "slide_type": "subslide"
    },
    "tags": []
   },
   "source": [
    "Kick off the packaging and model publishing:"
   ]
  },
  {
   "cell_type": "code",
   "execution_count": null,
   "id": "20ca92b5-d048-433e-947f-4b31c56a1c3c",
   "metadata": {
    "tags": [
     "clear"
    ]
   },
   "outputs": [],
   "source": [
    "! forml project release"
   ]
  },
  {
   "cell_type": "markdown",
   "id": "30662368-2235-4380-955b-b430b8e42a6d",
   "metadata": {
    "slideshow": {
     "slide_type": "subslide"
    },
    "tags": []
   },
   "source": [
    "We should now see the new release in the registry:"
   ]
  },
  {
   "cell_type": "code",
   "execution_count": null,
   "id": "ab8028b0-f668-4bab-8f25-d3f9e0057e2a",
   "metadata": {
    "tags": [
     "clear"
    ]
   },
   "outputs": [],
   "source": [
    "! forml model list forml-solution-avazuctr"
   ]
  },
  {
   "cell_type": "markdown",
   "id": "9d5d125c-d5d6-4e75-b019-4b954defa663",
   "metadata": {},
   "source": [
    "Let's train first generation model of this new release:"
   ]
  },
  {
   "cell_type": "code",
   "execution_count": 16,
   "id": "3d61518c-cdca-4560-9ff5-2c0df3c183ea",
   "metadata": {
    "tags": []
   },
   "outputs": [],
   "source": [
    "... # Train first generation of forml-solution-avazuctr 0.2 on data before '2014-10-21 03:00:00'"
   ]
  },
  {
   "cell_type": "code",
   "execution_count": null,
   "id": "8604b67f-f7a8-4591-bf67-8ada1ed5e142",
   "metadata": {
    "tags": [
     "clear"
    ]
   },
   "outputs": [],
   "source": [
    "! forml model list forml-solution-avazuctr 0.2"
   ]
  },
  {
   "cell_type": "code",
   "execution_count": 18,
   "id": "1f95995c-5a4a-4cf0-955d-8418b1dfe4bd",
   "metadata": {
    "slideshow": {
     "slide_type": "subslide"
    },
    "tags": []
   },
   "outputs": [
    {
     "name": "stdout",
     "output_type": "stream",
     "text": [
      "[{\"c0\":0.2057745536}]"
     ]
    }
   ],
   "source": [
    "! curl -H 'Content-Type: application/json' -d '[{ \\\n",
    "    \"hour\": \"2014-10-21 03:00:00\", \\\n",
    "    \"banner_pos\": \"0\", \\\n",
    "    \"site_id\": \"887a4754\", \"site_domain\": \"e3d9ca35\", \\\n",
    "    \"site_category\": \"50e219e0\", \\\n",
    "    \"app_id\": \"ecad2386\", \"app_domain\": \"7801e8d9\", \\\n",
    "    \"app_category\": \"07d7df22\", \\\n",
    "    \"device_id\": \"0e79d423\", \"device_ip\": \"9f423918\", \\\n",
    "    \"device_model\": \"fc10a0d3\", \\\n",
    "    \"device_type\": \"0\", \"device_conn_type\": \"0\", \\\n",
    "    \"C1\": \"1002\", \"C14\": \"22701\", \"C15\": \"320\", \"C16\": \"50\", \\\n",
    "    \"C17\": \"2624\", \"C18\": \"0\", \"C19\": \"35\", \"C20\": \"-1\", \"C21\": \"221\" \\\n",
    "}]' http://127.0.0.1:8000/forml-solution-avazuctr"
   ]
  },
  {
   "cell_type": "code",
   "execution_count": 19,
   "id": "18662c2a-e3bc-4d63-b3f1-510dc02fbbda",
   "metadata": {
    "tags": []
   },
   "outputs": [
    {
     "name": "stdout",
     "output_type": "stream",
     "text": [
      "0.3866724370765236\n"
     ]
    }
   ],
   "source": [
    "! forml model eval forml-solution-avazuctr \\\n",
    "    --lower '2014-10-21 03:00:00'"
   ]
  },
  {
   "cell_type": "markdown",
   "id": "ee195a6a-766a-42e1-9282-227f5f97d9cd",
   "metadata": {
    "slideshow": {
     "slide_type": "slide"
    },
    "tags": []
   },
   "source": [
    "## A/B Testing Multiple Models\n",
    "\n",
    "Since we now have multiple model instances in our registry, we might want to change the selection strategy from the default _latest_ to for example A/B testing. It takes only slight tweaking of the application descriptor.\n",
    "\n",
    "Let's change the strategy so that the models get selected according to the following plan (`target` is the weight this model should end up being selected with):\n",
    "\n",
    "| Release | Generation | Target |\n",
    "|---------|------------|--------|\n",
    "| `0.1`   | `1`        | 3      |\n",
    "| `0.1`   | `2`        | 5      |\n",
    "| `0.2`   | `1`        | 2      |"
   ]
  },
  {
   "cell_type": "markdown",
   "id": "81f02712-18df-4f43-969d-0b4fd5879da8",
   "metadata": {
    "slideshow": {
     "slide_type": "subslide"
    },
    "tags": []
   },
   "source": [
    "Now, add the generic application descriptor code to the [application.py](../forml-solution-avazuctr/application.py):\n",
    "\n",
    "1. Open the [application.py](../forml-solution-avazuctr/application.py) component.\n",
    "2. Update it with the following code defining the `ABTest` selector strategy:\n",
    "```python\n",
    "from forml import application\n",
    "\n",
    "selector = (\n",
    "    application.ABTest.compare(\n",
    "        project=\"forml-solution-avazuctr\",\n",
    "        release=\"0.1\",\n",
    "        generation=1,\n",
    "        target=3,                                    # variant A 30%\n",
    "    )\n",
    "    .over(generation=2, target=5)                    # variant B 50%\n",
    "    .against(release=\"0.2\", generation=1, target=2)  # variant C 20%\n",
    ")\n",
    "\n",
    "application.setup(\n",
    "    application.Generic(\"forml-solution-avazuctr\", selector)\n",
    ")\n",
    "```\n",
    "3. **SAVE THE [application.py](../forml-solution-avazuctr/application.py) FILE!**"
   ]
  },
  {
   "cell_type": "code",
   "execution_count": 20,
   "id": "b37efd74-2ec5-465f-9276-56b7e4591d58",
   "metadata": {
    "tags": []
   },
   "outputs": [],
   "source": [
    "! git add application.py"
   ]
  },
  {
   "cell_type": "markdown",
   "id": "ed138fca-7928-4e93-a05d-4c6bf091b775",
   "metadata": {
    "slideshow": {
     "slide_type": "subslide"
    },
    "tags": []
   },
   "source": [
    "### Redeploying the Application"
   ]
  },
  {
   "cell_type": "code",
   "execution_count": 21,
   "id": "aae6263d-c8da-491e-bab1-b91b26447edc",
   "metadata": {
    "tags": []
   },
   "outputs": [],
   "source": [
    "... # Redeploy the application descriptor application.py"
   ]
  },
  {
   "cell_type": "markdown",
   "id": "11b5ca5e-788d-4478-9194-414327d9f59a",
   "metadata": {},
   "source": [
    "> **!Restart the serving gateway!**\n",
    "\n",
    "Make a few requests and watch the `x-forml-instance` header showing the model:"
   ]
  },
  {
   "cell_type": "code",
   "execution_count": 22,
   "id": "3e58a272-021f-4998-815f-1e6d478e5546",
   "metadata": {
    "tags": []
   },
   "outputs": [
    {
     "name": "stdout",
     "output_type": "stream",
     "text": [
      "< x-forml-instance: dispatch-registry-forml-solution-avazuctr-0.1-2\n",
      "[{\"c0\":0.1364936214}]"
     ]
    }
   ],
   "source": [
    "! curl -s -v -H 'Content-Type: application/json' -d '[{ \\\n",
    "    \"hour\": \"2014-10-21 03:00:00\", \\\n",
    "    \"banner_pos\": \"0\", \\\n",
    "    \"site_id\": \"887a4754\", \"site_domain\": \"e3d9ca35\", \\\n",
    "    \"site_category\": \"50e219e0\", \\\n",
    "    \"app_id\": \"ecad2386\", \"app_domain\": \"7801e8d9\", \\\n",
    "    \"app_category\": \"07d7df22\", \\\n",
    "    \"device_id\": \"0e79d423\", \"device_ip\": \"9f423918\", \\\n",
    "    \"device_model\": \"fc10a0d3\", \\\n",
    "    \"device_type\": \"0\", \"device_conn_type\": \"0\", \\\n",
    "    \"C1\": \"1002\", \"C14\": \"22701\", \"C15\": \"320\", \"C16\": \"50\", \\\n",
    "    \"C17\": \"2624\", \"C18\": \"0\", \"C19\": \"35\", \"C20\": \"-1\", \"C21\": \"221\" \\\n",
    "}]' http://127.0.0.1:8000/forml-solution-avazuctr \\\n",
    "    2> >(grep x-forml-instance)"
   ]
  }
 ],
 "metadata": {
  "kernelspec": {
   "display_name": "Python 3 (ipykernel)",
   "language": "python",
   "name": "python3"
  },
  "language_info": {
   "codemirror_mode": {
    "name": "ipython",
    "version": 3
   },
   "file_extension": ".py",
   "mimetype": "text/x-python",
   "name": "python",
   "nbconvert_exporter": "python",
   "pygments_lexer": "ipython3",
   "version": "3.10.11"
  }
 },
 "nbformat": 4,
 "nbformat_minor": 5
}

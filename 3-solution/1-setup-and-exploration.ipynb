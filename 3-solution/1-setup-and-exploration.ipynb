{
 "cells": [
  {
   "cell_type": "markdown",
   "id": "faef8aa9-712a-4b85-bcb5-92d56397e52f",
   "metadata": {
    "slideshow": {
     "slide_type": "slide"
    },
    "tags": []
   },
   "source": [
    "# CTR Prediction Solution\n",
    "\n",
    "* [Avazu CTR Prediction](https://www.kaggle.com/c/avazu-ctr-prediction) dataset from the 2014 Kaggle competition\n",
    "* 11 days of anonymized bid requests, 24 columns - timestamp, click, slot properties, device properties, C?? attributes\n",
    "* we are going to use a subset of 500.000 requests (pre-cached for our exact queries - otherwise needs credentials)\n",
    "* this is only a couple of hours of data - not even a full day (the model won't be able to properly capture temporal features)\n",
    "* not doing datascience\n",
    "* using [Openschema catalog](https://openschema.readthedocs.io/en/latest/_auto/_auto/openschema.kaggle.Avazu.html)\n"
   ]
  },
  {
   "cell_type": "markdown",
   "id": "37843cad-1342-4a36-94ae-dbac555d4083",
   "metadata": {
    "slideshow": {
     "slide_type": "slide"
    },
    "tags": []
   },
   "source": [
    "## Project Setup\n",
    "\n",
    "Let's start by setting up the project skeleton and the main components."
   ]
  },
  {
   "cell_type": "markdown",
   "id": "4704aa20-8f59-4b93-a0e4-a6435998a79f",
   "metadata": {},
   "source": [
    "### Starting New Project\n",
    "\n",
    "We are going to initialize new ForML project with the following parameters:\n",
    "\n",
    "* the project name will be `forml-solution-avazuctr`\n",
    "* but we want the Python package to be called just `avazuctr`\n",
    "* setting the initial project version to `0.1`\n",
    "* anticipated dependency requirements are `openschema` and `pandas`"
   ]
  },
  {
   "cell_type": "code",
   "execution_count": 1,
   "id": "060c3051-eef1-4d12-aebe-089c8b2bc2a5",
   "metadata": {
    "tags": []
   },
   "outputs": [],
   "source": [
    "! forml project --path .. init \"forml-solution-avazuctr\" \\\n",
    "    --version \"0.1\" \\\n",
    "    --package \"avazuctr\" \\\n",
    "    --requirements=\"openschema==0.7,pandas==2.0.1\""
   ]
  },
  {
   "cell_type": "code",
   "execution_count": null,
   "id": "60374d96-607b-49d9-bcad-2d5a6cc5f50b",
   "metadata": {
    "slideshow": {
     "slide_type": "subslide"
    },
    "tags": [
     "clear"
    ]
   },
   "outputs": [],
   "source": [
    "! tree ../forml-solution-avazuctr"
   ]
  },
  {
   "cell_type": "code",
   "execution_count": null,
   "id": "deea2de2-c614-4417-979e-3725ab9a0f0a",
   "metadata": {
    "tags": [
     "clear"
    ]
   },
   "outputs": [],
   "source": [
    "%cd ../forml-solution-avazuctr"
   ]
  },
  {
   "cell_type": "markdown",
   "id": "f94353f2-5e42-47dc-8aac-5e5162bf5c82",
   "metadata": {},
   "source": [
    "Going to keep the project under version control from the beginning:"
   ]
  },
  {
   "cell_type": "code",
   "execution_count": null,
   "id": "1222da46-67c0-4753-8f60-e9398c3498f1",
   "metadata": {
    "tags": [
     "clear"
    ]
   },
   "outputs": [],
   "source": [
    "! git init .\n",
    "! git add ."
   ]
  },
  {
   "cell_type": "markdown",
   "id": "808904d6-5bc8-43f1-b797-d7435f3b6a50",
   "metadata": {
    "slideshow": {
     "slide_type": "slide"
    },
    "tags": []
   },
   "source": [
    "### Defining Project Source\n",
    "\n",
    "We use the [Openschema catalog](https://openschema.readthedocs.io/en/latest/_auto/_auto/openschema.kaggle.Avazu.html) to specify the data requirements.\n",
    "\n",
    "The schema contains the following set of fields (see the [schema page](https://openschema.readthedocs.io/en/latest/_auto/_auto/openschema.kaggle.Avazu.html) for their descriptions):"
   ]
  },
  {
   "cell_type": "code",
   "execution_count": null,
   "id": "c46d8c57-e2b1-4f01-81e2-570108d0a883",
   "metadata": {
    "tags": [
     "clear"
    ]
   },
   "outputs": [],
   "source": [
    "from openschema import kaggle\n",
    "\n",
    "print([f.name for f in kaggle.Avazu.schema])"
   ]
  },
  {
   "cell_type": "markdown",
   "id": "c3a1aa5f-fe18-440a-8605-36458fce7317",
   "metadata": {
    "slideshow": {
     "slide_type": "subslide"
    },
    "tags": []
   },
   "source": [
    "Let's define the [avazuctr/source.py](../forml-solution-avazuctr/avazuctr/source.py) by using this schema:\n",
    "\n",
    "1. Open the [avazuctr/source.py](../forml-solution-avazuctr/avazuctr/source.py) component.\n",
    "2. Select the required `FEATURES` (excluding `id`, `device_ip`, and `device_id`):\n",
    "```python\n",
    "from openschema import kaggle as schema\n",
    "from forml import project\n",
    "from forml.pipeline import payload\n",
    "\n",
    "# Listing the feature columns\n",
    "FEATURES = (\n",
    "    schema.Avazu.hour,\n",
    "    schema.Avazu.C1,\n",
    "    schema.Avazu.banner_pos,\n",
    "    schema.Avazu.site_id,\n",
    "    schema.Avazu.site_domain,\n",
    "    schema.Avazu.site_category,\n",
    "    schema.Avazu.app_id,\n",
    "    schema.Avazu.app_domain,\n",
    "    schema.Avazu.app_category,\n",
    "    schema.Avazu.device_model,\n",
    "    schema.Avazu.device_type,\n",
    "    schema.Avazu.device_conn_type,\n",
    "    schema.Avazu.C14,\n",
    "    schema.Avazu.C15,\n",
    "    schema.Avazu.C16,\n",
    "    schema.Avazu.C17,\n",
    "    schema.Avazu.C18,\n",
    "    schema.Avazu.C19,\n",
    "    schema.Avazu.C20,\n",
    "    schema.Avazu.C21,\n",
    ")\n",
    "```"
   ]
  },
  {
   "cell_type": "markdown",
   "id": "51746e56-92c7-457e-826b-053f13175b90",
   "metadata": {
    "slideshow": {
     "slide_type": "subslide"
    },
    "tags": []
   },
   "source": [
    "3. Point `OUTCOMES` to `schema.Avazu.click`.\n",
    "4. For continuous data (timeseries) we also need to point ForML to the time dimension to allow for incremental processing - here the `schema.Avazu.hour`.\n",
    "5. Compose the source query with the familiar `payload.ToPandas`:\n",
    "```python\n",
    "OUTCOMES = schema.Avazu.click\n",
    "ORDINAL = schema.Avazu.hour\n",
    "\n",
    "STATEMENT = ... # Write a statement to select just the listed FEATURES, order it by schema.Avazu.hour and limit it to just 500.000 rows\n",
    "\n",
    "# Setting up the source descriptor:\n",
    "SOURCE = (\n",
    "    project.Source.query(STATEMENT, OUTCOMES, ordinal=ORDINAL)\n",
    "    >> payload.ToPandas()\n",
    ")\n",
    "\n",
    "# Registering the descriptor\n",
    "project.setup(SOURCE)\n",
    "```\n",
    "6. **SAVE THE [avazuctr/source.py](../forml-solution-avazuctr/avazuctr/source.py) FILE!**"
   ]
  },
  {
   "cell_type": "code",
   "execution_count": 6,
   "id": "55a89b4a-9f9a-4be5-920b-d169855a7dce",
   "metadata": {
    "tags": []
   },
   "outputs": [],
   "source": [
    "! git add avazuctr/source.py"
   ]
  },
  {
   "cell_type": "markdown",
   "id": "cbc4d974-b44f-4111-97aa-89c5434e800c",
   "metadata": {
    "slideshow": {
     "slide_type": "slide"
    },
    "tags": []
   },
   "source": [
    "### Defining Evaluation Metric\n",
    "\n",
    "The generated [avazuctr/evaluation.py](../forml-solution-avazuctr/avazuctr/evaluation.py) contains some default evaluation logic (calculating accuracy using 20% holdout). Let's modify the file changing the metric to `logloss`:\n",
    "\n",
    "1. Open the [avazuctr/evaluation.py](../forml-solution-avazuctr/avazuctr/evaluation.py) component.\n",
    "2. Update it with the code below specifying the `logloss` metric:\n",
    "```python\n",
    "from forml import evaluation, project\n",
    "from sklearn import metrics\n",
    "\n",
    "# Using LogLoss on a 20% holdout dataset:\n",
    "EVALUATION = project.Evaluation(\n",
    "    evaluation.Function(metrics.log_loss),\n",
    "    evaluation.HoldOut(test_size=0.2, stratify=True, random_state=42),\n",
    ")\n",
    "\n",
    "# Registering the descriptor\n",
    "project.setup(EVALUATION)\n",
    "```\n",
    "3. **SAVE THE [avazuctr/evaluation.py](../forml-solution-avazuctr/avazuctr/evaluation.py) FILE!**"
   ]
  },
  {
   "cell_type": "code",
   "execution_count": 7,
   "id": "c0e8eccc-b190-415a-95de-d37dee999eac",
   "metadata": {
    "tags": []
   },
   "outputs": [],
   "source": [
    "! git add avazuctr/evaluation.py"
   ]
  },
  {
   "cell_type": "markdown",
   "id": "2dc797e8-daeb-4126-bb32-88f945caff02",
   "metadata": {
    "slideshow": {
     "slide_type": "slide"
    },
    "tags": []
   },
   "source": [
    "## Exploration\n",
    "\n",
    "We can now interactively use our project skeleton to peek into the data:"
   ]
  },
  {
   "cell_type": "code",
   "execution_count": null,
   "id": "7afcfe11-2cd5-4a46-89c6-a397a5235f45",
   "metadata": {
    "tags": [
     "clear"
    ]
   },
   "outputs": [],
   "source": [
    "from forml import project\n",
    "PROJECT = project.open(path='.', package='avazuctr')\n",
    "PROJECT.launcher.apply()"
   ]
  },
  {
   "cell_type": "markdown",
   "id": "9792854a-2021-4a1b-90a0-5bc80a7c35da",
   "metadata": {
    "slideshow": {
     "slide_type": "subslide"
    },
    "tags": []
   },
   "source": [
    "Launching it in the _train mode_ allows us to explore the trainset:"
   ]
  },
  {
   "cell_type": "code",
   "execution_count": null,
   "id": "150242cf-0fce-4e0d-be78-226ddd8add94",
   "metadata": {
    "tags": [
     "clear"
    ]
   },
   "outputs": [],
   "source": [
    "trainset = PROJECT.launcher.train()\n",
    "trainset.features.isnull().sum()"
   ]
  },
  {
   "cell_type": "code",
   "execution_count": null,
   "id": "964ff62e-22ae-41e4-8702-2ba7ad2fb974",
   "metadata": {
    "slideshow": {
     "slide_type": "subslide"
    },
    "tags": [
     "clear"
    ]
   },
   "outputs": [],
   "source": [
    "trainset.features.describe()"
   ]
  },
  {
   "cell_type": "code",
   "execution_count": null,
   "id": "381195dc-6e48-42c6-830c-0447d855385d",
   "metadata": {
    "tags": [
     "clear"
    ]
   },
   "outputs": [],
   "source": [
    "trainset.labels.value_counts()"
   ]
  },
  {
   "cell_type": "markdown",
   "id": "f9247d88-cb49-4bb5-a0af-04f187355682",
   "metadata": {
    "slideshow": {
     "slide_type": "slide"
    },
    "tags": []
   },
   "source": [
    "## Informal Base Pipeline\n",
    "\n",
    "Let's now put together some minimal feature engineering to fit our base model.\n",
    "\n",
    "### Extracting Time Features\n",
    "\n",
    "We implement a simple stateless for extracting temporal features from the `hour` timestamp:"
   ]
  },
  {
   "cell_type": "code",
   "execution_count": 12,
   "id": "abb8df0a-fd72-48cf-9613-1f21a234d7d4",
   "metadata": {
    "tags": []
   },
   "outputs": [],
   "source": [
    "import pandas\n",
    "from forml.pipeline import wrap\n",
    "\n",
    "@wrap.Operator.mapper\n",
    "@wrap.Actor.apply\n",
    "def TimeExtractor(features: pandas.DataFrame) -> pandas.DataFrame:\n",
    "    \"\"\"Transformer extracting temporal features from the original ``hour`` column.\"\"\"\n",
    "    assert 'hour' in features.columns, 'Missing column: hour'\n",
    "    time = features['hour']\n",
    "    ...  # add to features a column `dayofweek` (hint: time.dt.dayofweek)\n",
    "    ...  # add to features a column `day` with the day (of month) number\n",
    "    ...  # replace the column `hour` with the hour (of day) number\n",
    "    ...  # add to features a column `month` with the month number\n",
    "    return features"
   ]
  },
  {
   "cell_type": "code",
   "execution_count": 13,
   "id": "d4273860-e68d-45fb-ad0e-5e73ccca3457",
   "metadata": {
    "slideshow": {
     "slide_type": "subslide"
    },
    "tags": []
   },
   "outputs": [
    {
     "data": {
      "text/html": [
       "<div>\n",
       "<style scoped>\n",
       "    .dataframe tbody tr th:only-of-type {\n",
       "        vertical-align: middle;\n",
       "    }\n",
       "\n",
       "    .dataframe tbody tr th {\n",
       "        vertical-align: top;\n",
       "    }\n",
       "\n",
       "    .dataframe thead th {\n",
       "        text-align: right;\n",
       "    }\n",
       "</style>\n",
       "<table border=\"1\" class=\"dataframe\">\n",
       "  <thead>\n",
       "    <tr style=\"text-align: right;\">\n",
       "      <th></th>\n",
       "      <th>hour</th>\n",
       "      <th>C1</th>\n",
       "      <th>banner_pos</th>\n",
       "      <th>site_id</th>\n",
       "      <th>site_domain</th>\n",
       "      <th>site_category</th>\n",
       "      <th>app_id</th>\n",
       "      <th>app_domain</th>\n",
       "      <th>app_category</th>\n",
       "      <th>device_model</th>\n",
       "      <th>...</th>\n",
       "      <th>C15</th>\n",
       "      <th>C16</th>\n",
       "      <th>C17</th>\n",
       "      <th>C18</th>\n",
       "      <th>C19</th>\n",
       "      <th>C20</th>\n",
       "      <th>C21</th>\n",
       "      <th>dayofweek</th>\n",
       "      <th>day</th>\n",
       "      <th>month</th>\n",
       "    </tr>\n",
       "  </thead>\n",
       "  <tbody>\n",
       "    <tr>\n",
       "      <th>0</th>\n",
       "      <td>0</td>\n",
       "      <td>1005</td>\n",
       "      <td>0</td>\n",
       "      <td>235ba823</td>\n",
       "      <td>f6ebf28e</td>\n",
       "      <td>f028772b</td>\n",
       "      <td>ecad2386</td>\n",
       "      <td>7801e8d9</td>\n",
       "      <td>07d7df22</td>\n",
       "      <td>0eb711ec</td>\n",
       "      <td>...</td>\n",
       "      <td>320</td>\n",
       "      <td>50</td>\n",
       "      <td>761</td>\n",
       "      <td>3</td>\n",
       "      <td>175</td>\n",
       "      <td>100075</td>\n",
       "      <td>23</td>\n",
       "      <td>4</td>\n",
       "      <td>31</td>\n",
       "      <td>10</td>\n",
       "    </tr>\n",
       "    <tr>\n",
       "      <th>1</th>\n",
       "      <td>0</td>\n",
       "      <td>1005</td>\n",
       "      <td>0</td>\n",
       "      <td>1fbe01fe</td>\n",
       "      <td>f3845767</td>\n",
       "      <td>28905ebd</td>\n",
       "      <td>ecad2386</td>\n",
       "      <td>7801e8d9</td>\n",
       "      <td>07d7df22</td>\n",
       "      <td>ecb851b2</td>\n",
       "      <td>...</td>\n",
       "      <td>320</td>\n",
       "      <td>50</td>\n",
       "      <td>2616</td>\n",
       "      <td>0</td>\n",
       "      <td>35</td>\n",
       "      <td>100083</td>\n",
       "      <td>51</td>\n",
       "      <td>4</td>\n",
       "      <td>31</td>\n",
       "      <td>10</td>\n",
       "    </tr>\n",
       "    <tr>\n",
       "      <th>2</th>\n",
       "      <td>0</td>\n",
       "      <td>1005</td>\n",
       "      <td>0</td>\n",
       "      <td>1fbe01fe</td>\n",
       "      <td>f3845767</td>\n",
       "      <td>28905ebd</td>\n",
       "      <td>ecad2386</td>\n",
       "      <td>7801e8d9</td>\n",
       "      <td>07d7df22</td>\n",
       "      <td>1f0bc64f</td>\n",
       "      <td>...</td>\n",
       "      <td>320</td>\n",
       "      <td>50</td>\n",
       "      <td>2616</td>\n",
       "      <td>0</td>\n",
       "      <td>35</td>\n",
       "      <td>100083</td>\n",
       "      <td>51</td>\n",
       "      <td>4</td>\n",
       "      <td>31</td>\n",
       "      <td>10</td>\n",
       "    </tr>\n",
       "    <tr>\n",
       "      <th>3</th>\n",
       "      <td>0</td>\n",
       "      <td>1005</td>\n",
       "      <td>0</td>\n",
       "      <td>85f751fd</td>\n",
       "      <td>c4e18dd6</td>\n",
       "      <td>50e219e0</td>\n",
       "      <td>51cedd4e</td>\n",
       "      <td>aefc06bd</td>\n",
       "      <td>0f2161f8</td>\n",
       "      <td>542422a7</td>\n",
       "      <td>...</td>\n",
       "      <td>320</td>\n",
       "      <td>50</td>\n",
       "      <td>1092</td>\n",
       "      <td>3</td>\n",
       "      <td>809</td>\n",
       "      <td>100156</td>\n",
       "      <td>61</td>\n",
       "      <td>4</td>\n",
       "      <td>31</td>\n",
       "      <td>10</td>\n",
       "    </tr>\n",
       "    <tr>\n",
       "      <th>4</th>\n",
       "      <td>0</td>\n",
       "      <td>1005</td>\n",
       "      <td>0</td>\n",
       "      <td>85f751fd</td>\n",
       "      <td>c4e18dd6</td>\n",
       "      <td>50e219e0</td>\n",
       "      <td>9c13b419</td>\n",
       "      <td>2347f47a</td>\n",
       "      <td>f95efa07</td>\n",
       "      <td>1f0bc64f</td>\n",
       "      <td>...</td>\n",
       "      <td>320</td>\n",
       "      <td>50</td>\n",
       "      <td>2667</td>\n",
       "      <td>0</td>\n",
       "      <td>47</td>\n",
       "      <td>-1</td>\n",
       "      <td>221</td>\n",
       "      <td>4</td>\n",
       "      <td>31</td>\n",
       "      <td>10</td>\n",
       "    </tr>\n",
       "    <tr>\n",
       "      <th>...</th>\n",
       "      <td>...</td>\n",
       "      <td>...</td>\n",
       "      <td>...</td>\n",
       "      <td>...</td>\n",
       "      <td>...</td>\n",
       "      <td>...</td>\n",
       "      <td>...</td>\n",
       "      <td>...</td>\n",
       "      <td>...</td>\n",
       "      <td>...</td>\n",
       "      <td>...</td>\n",
       "      <td>...</td>\n",
       "      <td>...</td>\n",
       "      <td>...</td>\n",
       "      <td>...</td>\n",
       "      <td>...</td>\n",
       "      <td>...</td>\n",
       "      <td>...</td>\n",
       "      <td>...</td>\n",
       "      <td>...</td>\n",
       "      <td>...</td>\n",
       "    </tr>\n",
       "    <tr>\n",
       "      <th>499995</th>\n",
       "      <td>4</td>\n",
       "      <td>1005</td>\n",
       "      <td>1</td>\n",
       "      <td>b7e9786d</td>\n",
       "      <td>b12b9f85</td>\n",
       "      <td>f028772b</td>\n",
       "      <td>ecad2386</td>\n",
       "      <td>7801e8d9</td>\n",
       "      <td>07d7df22</td>\n",
       "      <td>0eb711ec</td>\n",
       "      <td>...</td>\n",
       "      <td>320</td>\n",
       "      <td>50</td>\n",
       "      <td>2528</td>\n",
       "      <td>0</td>\n",
       "      <td>167</td>\n",
       "      <td>-1</td>\n",
       "      <td>221</td>\n",
       "      <td>4</td>\n",
       "      <td>31</td>\n",
       "      <td>10</td>\n",
       "    </tr>\n",
       "    <tr>\n",
       "      <th>499996</th>\n",
       "      <td>4</td>\n",
       "      <td>1005</td>\n",
       "      <td>0</td>\n",
       "      <td>85f751fd</td>\n",
       "      <td>c4e18dd6</td>\n",
       "      <td>50e219e0</td>\n",
       "      <td>9c13b419</td>\n",
       "      <td>2347f47a</td>\n",
       "      <td>f95efa07</td>\n",
       "      <td>7abbbd5c</td>\n",
       "      <td>...</td>\n",
       "      <td>320</td>\n",
       "      <td>50</td>\n",
       "      <td>2717</td>\n",
       "      <td>2</td>\n",
       "      <td>47</td>\n",
       "      <td>100233</td>\n",
       "      <td>23</td>\n",
       "      <td>4</td>\n",
       "      <td>31</td>\n",
       "      <td>10</td>\n",
       "    </tr>\n",
       "    <tr>\n",
       "      <th>499997</th>\n",
       "      <td>4</td>\n",
       "      <td>1005</td>\n",
       "      <td>0</td>\n",
       "      <td>5b08c53b</td>\n",
       "      <td>7687a86e</td>\n",
       "      <td>3e814130</td>\n",
       "      <td>ecad2386</td>\n",
       "      <td>7801e8d9</td>\n",
       "      <td>07d7df22</td>\n",
       "      <td>8a4875bd</td>\n",
       "      <td>...</td>\n",
       "      <td>300</td>\n",
       "      <td>250</td>\n",
       "      <td>2295</td>\n",
       "      <td>2</td>\n",
       "      <td>35</td>\n",
       "      <td>100075</td>\n",
       "      <td>23</td>\n",
       "      <td>4</td>\n",
       "      <td>31</td>\n",
       "      <td>10</td>\n",
       "    </tr>\n",
       "    <tr>\n",
       "      <th>499998</th>\n",
       "      <td>4</td>\n",
       "      <td>1002</td>\n",
       "      <td>0</td>\n",
       "      <td>887a4754</td>\n",
       "      <td>e3d9ca35</td>\n",
       "      <td>50e219e0</td>\n",
       "      <td>ecad2386</td>\n",
       "      <td>7801e8d9</td>\n",
       "      <td>07d7df22</td>\n",
       "      <td>fc10a0d3</td>\n",
       "      <td>...</td>\n",
       "      <td>320</td>\n",
       "      <td>50</td>\n",
       "      <td>2624</td>\n",
       "      <td>0</td>\n",
       "      <td>35</td>\n",
       "      <td>-1</td>\n",
       "      <td>221</td>\n",
       "      <td>4</td>\n",
       "      <td>31</td>\n",
       "      <td>10</td>\n",
       "    </tr>\n",
       "    <tr>\n",
       "      <th>499999</th>\n",
       "      <td>4</td>\n",
       "      <td>1005</td>\n",
       "      <td>1</td>\n",
       "      <td>5ee41ff2</td>\n",
       "      <td>17d996e6</td>\n",
       "      <td>f028772b</td>\n",
       "      <td>ecad2386</td>\n",
       "      <td>7801e8d9</td>\n",
       "      <td>07d7df22</td>\n",
       "      <td>8a4875bd</td>\n",
       "      <td>...</td>\n",
       "      <td>320</td>\n",
       "      <td>50</td>\n",
       "      <td>2599</td>\n",
       "      <td>3</td>\n",
       "      <td>167</td>\n",
       "      <td>-1</td>\n",
       "      <td>23</td>\n",
       "      <td>4</td>\n",
       "      <td>31</td>\n",
       "      <td>10</td>\n",
       "    </tr>\n",
       "  </tbody>\n",
       "</table>\n",
       "<p>500000 rows × 23 columns</p>\n",
       "</div>"
      ],
      "text/plain": [
       "        hour    C1  banner_pos   site_id site_domain site_category    app_id   \n",
       "0          0  1005           0  235ba823    f6ebf28e      f028772b  ecad2386  \\\n",
       "1          0  1005           0  1fbe01fe    f3845767      28905ebd  ecad2386   \n",
       "2          0  1005           0  1fbe01fe    f3845767      28905ebd  ecad2386   \n",
       "3          0  1005           0  85f751fd    c4e18dd6      50e219e0  51cedd4e   \n",
       "4          0  1005           0  85f751fd    c4e18dd6      50e219e0  9c13b419   \n",
       "...      ...   ...         ...       ...         ...           ...       ...   \n",
       "499995     4  1005           1  b7e9786d    b12b9f85      f028772b  ecad2386   \n",
       "499996     4  1005           0  85f751fd    c4e18dd6      50e219e0  9c13b419   \n",
       "499997     4  1005           0  5b08c53b    7687a86e      3e814130  ecad2386   \n",
       "499998     4  1002           0  887a4754    e3d9ca35      50e219e0  ecad2386   \n",
       "499999     4  1005           1  5ee41ff2    17d996e6      f028772b  ecad2386   \n",
       "\n",
       "       app_domain app_category device_model  ...  C15  C16   C17  C18  C19   \n",
       "0        7801e8d9     07d7df22     0eb711ec  ...  320   50   761    3  175  \\\n",
       "1        7801e8d9     07d7df22     ecb851b2  ...  320   50  2616    0   35   \n",
       "2        7801e8d9     07d7df22     1f0bc64f  ...  320   50  2616    0   35   \n",
       "3        aefc06bd     0f2161f8     542422a7  ...  320   50  1092    3  809   \n",
       "4        2347f47a     f95efa07     1f0bc64f  ...  320   50  2667    0   47   \n",
       "...           ...          ...          ...  ...  ...  ...   ...  ...  ...   \n",
       "499995   7801e8d9     07d7df22     0eb711ec  ...  320   50  2528    0  167   \n",
       "499996   2347f47a     f95efa07     7abbbd5c  ...  320   50  2717    2   47   \n",
       "499997   7801e8d9     07d7df22     8a4875bd  ...  300  250  2295    2   35   \n",
       "499998   7801e8d9     07d7df22     fc10a0d3  ...  320   50  2624    0   35   \n",
       "499999   7801e8d9     07d7df22     8a4875bd  ...  320   50  2599    3  167   \n",
       "\n",
       "           C20  C21  dayofweek  day  month  \n",
       "0       100075   23          4   31     10  \n",
       "1       100083   51          4   31     10  \n",
       "2       100083   51          4   31     10  \n",
       "3       100156   61          4   31     10  \n",
       "4           -1  221          4   31     10  \n",
       "...        ...  ...        ...  ...    ...  \n",
       "499995      -1  221          4   31     10  \n",
       "499996  100233   23          4   31     10  \n",
       "499997  100075   23          4   31     10  \n",
       "499998      -1  221          4   31     10  \n",
       "499999      -1   23          4   31     10  \n",
       "\n",
       "[500000 rows x 23 columns]"
      ]
     },
     "execution_count": 13,
     "metadata": {},
     "output_type": "execute_result"
    }
   ],
   "source": [
    "SOURCE = PROJECT.components.source \n",
    "...  # Bind the TimeExtractor() as our pipeline to SOURCE and launch it using Dask in apply mode"
   ]
  },
  {
   "cell_type": "markdown",
   "id": "48757738-c007-44b6-b9cb-729e7cf9d2db",
   "metadata": {
    "slideshow": {
     "slide_type": "slide"
    },
    "tags": []
   },
   "source": [
    "### Encoding Categorical Columns\n",
    "\n",
    "Let's apply the [Target encoding](https://towardsdatascience.com/dealing-with-categorical-variables-by-using-target-encoder-a0f1733a4c69) technique to all the categorical columns. We can use the [TargetEncoder](https://contrib.scikit-learn.org/category_encoders/targetencoder.html) implementation from the [Category-encoders](https://contrib.scikit-learn.org/category_encoders/) package.\n",
    "As a new dependency, we add it to the [pyproject.toml](../forml-solution-avazuctr/pyproject.toml) together with [Scikit-learn](https://scikit-learn.org/stable/index.html) which we are going to need in the next step:\n",
    "\n",
    "1. Open the [pyproject.toml](../forml-solution-avazuctr/pyproject.toml).\n",
    "2. Update it with the config below adding the new dependency of `category-encoders==2.6.0` and `scikit-learn==1.2.2`:\n",
    "```toml\n",
    "[project]\n",
    "name = \"forml-solution-avazuctr\"\n",
    "version = \"0.1\"\n",
    "dependencies = [\n",
    "    \"category-encoders==2.6.0\",\n",
    "    \"forml==0.93\",\n",
    "    \"openschema==0.7\",\n",
    "    \"pandas==2.0.1\",\n",
    "    \"scikit-learn==1.2.2\"\n",
    "]\n",
    "\n",
    "[tool.forml]\n",
    "package = \"avazuctr\"\n",
    "```\n",
    "3. **SAVE THE [pyproject.toml](../forml-solution-avazuctr/pyproject.toml) FILE!**"
   ]
  },
  {
   "cell_type": "code",
   "execution_count": 14,
   "id": "ac3099ff-d60f-4ce8-b466-2af2a805fd4e",
   "metadata": {
    "tags": []
   },
   "outputs": [],
   "source": [
    "! git add pyproject.toml"
   ]
  },
  {
   "cell_type": "markdown",
   "id": "86034913-31c9-4c8c-b135-f8bc7fb7a91b",
   "metadata": {
    "slideshow": {
     "slide_type": "subslide"
    },
    "tags": []
   },
   "source": [
    "Now we can add the encoder into our pipeline:"
   ]
  },
  {
   "cell_type": "code",
   "execution_count": 15,
   "id": "76f93995-000b-4d53-ae56-8decb4a46893",
   "metadata": {
    "tags": []
   },
   "outputs": [
    {
     "data": {
      "text/html": [
       "<div>\n",
       "<style scoped>\n",
       "    .dataframe tbody tr th:only-of-type {\n",
       "        vertical-align: middle;\n",
       "    }\n",
       "\n",
       "    .dataframe tbody tr th {\n",
       "        vertical-align: top;\n",
       "    }\n",
       "\n",
       "    .dataframe thead th {\n",
       "        text-align: right;\n",
       "    }\n",
       "</style>\n",
       "<table border=\"1\" class=\"dataframe\">\n",
       "  <thead>\n",
       "    <tr style=\"text-align: right;\">\n",
       "      <th></th>\n",
       "      <th>hour</th>\n",
       "      <th>C1</th>\n",
       "      <th>banner_pos</th>\n",
       "      <th>site_id</th>\n",
       "      <th>site_domain</th>\n",
       "      <th>site_category</th>\n",
       "      <th>app_id</th>\n",
       "      <th>app_domain</th>\n",
       "      <th>app_category</th>\n",
       "      <th>device_model</th>\n",
       "      <th>device_type</th>\n",
       "      <th>device_conn_type</th>\n",
       "      <th>C14</th>\n",
       "      <th>C15</th>\n",
       "      <th>C16</th>\n",
       "      <th>C17</th>\n",
       "      <th>C18</th>\n",
       "      <th>C19</th>\n",
       "      <th>C20</th>\n",
       "      <th>C21</th>\n",
       "    </tr>\n",
       "  </thead>\n",
       "  <tbody>\n",
       "    <tr>\n",
       "      <th>0</th>\n",
       "      <td>2014-10-21 00:00:00</td>\n",
       "      <td>0.164949</td>\n",
       "      <td>0.155877</td>\n",
       "      <td>0.211945</td>\n",
       "      <td>0.211945</td>\n",
       "      <td>0.208603</td>\n",
       "      <td>0.196316</td>\n",
       "      <td>0.190123</td>\n",
       "      <td>0.196119</td>\n",
       "      <td>0.225080</td>\n",
       "      <td>0.164528</td>\n",
       "      <td>0.124586</td>\n",
       "      <td>0.167300</td>\n",
       "      <td>0.153985</td>\n",
       "      <td>0.154188</td>\n",
       "      <td>0.208514</td>\n",
       "      <td>0.166794</td>\n",
       "      <td>0.166436</td>\n",
       "      <td>0.171947</td>\n",
       "      <td>0.208514</td>\n",
       "    </tr>\n",
       "    <tr>\n",
       "      <th>1</th>\n",
       "      <td>2014-10-21 00:00:00</td>\n",
       "      <td>0.164949</td>\n",
       "      <td>0.155877</td>\n",
       "      <td>0.211945</td>\n",
       "      <td>0.211945</td>\n",
       "      <td>0.208603</td>\n",
       "      <td>0.196316</td>\n",
       "      <td>0.190123</td>\n",
       "      <td>0.196119</td>\n",
       "      <td>0.236538</td>\n",
       "      <td>0.164528</td>\n",
       "      <td>0.169448</td>\n",
       "      <td>0.216279</td>\n",
       "      <td>0.153985</td>\n",
       "      <td>0.154188</td>\n",
       "      <td>0.208514</td>\n",
       "      <td>0.166794</td>\n",
       "      <td>0.166436</td>\n",
       "      <td>0.253048</td>\n",
       "      <td>0.208514</td>\n",
       "    </tr>\n",
       "    <tr>\n",
       "      <th>2</th>\n",
       "      <td>2014-10-21 00:00:00</td>\n",
       "      <td>0.164949</td>\n",
       "      <td>0.155877</td>\n",
       "      <td>0.211945</td>\n",
       "      <td>0.211945</td>\n",
       "      <td>0.208603</td>\n",
       "      <td>0.196316</td>\n",
       "      <td>0.190123</td>\n",
       "      <td>0.196119</td>\n",
       "      <td>0.131059</td>\n",
       "      <td>0.164528</td>\n",
       "      <td>0.169448</td>\n",
       "      <td>0.216279</td>\n",
       "      <td>0.153985</td>\n",
       "      <td>0.154188</td>\n",
       "      <td>0.208514</td>\n",
       "      <td>0.166794</td>\n",
       "      <td>0.166436</td>\n",
       "      <td>0.253048</td>\n",
       "      <td>0.208514</td>\n",
       "    </tr>\n",
       "    <tr>\n",
       "      <th>3</th>\n",
       "      <td>2014-10-21 00:00:00</td>\n",
       "      <td>0.164949</td>\n",
       "      <td>0.155877</td>\n",
       "      <td>0.211945</td>\n",
       "      <td>0.211945</td>\n",
       "      <td>0.208603</td>\n",
       "      <td>0.196316</td>\n",
       "      <td>0.190123</td>\n",
       "      <td>0.196119</td>\n",
       "      <td>0.293158</td>\n",
       "      <td>0.164528</td>\n",
       "      <td>0.169448</td>\n",
       "      <td>0.167300</td>\n",
       "      <td>0.153985</td>\n",
       "      <td>0.154188</td>\n",
       "      <td>0.208514</td>\n",
       "      <td>0.166794</td>\n",
       "      <td>0.166436</td>\n",
       "      <td>0.253048</td>\n",
       "      <td>0.208514</td>\n",
       "    </tr>\n",
       "    <tr>\n",
       "      <th>4</th>\n",
       "      <td>2014-10-21 00:00:00</td>\n",
       "      <td>0.164949</td>\n",
       "      <td>0.195663</td>\n",
       "      <td>0.036642</td>\n",
       "      <td>0.036642</td>\n",
       "      <td>0.036364</td>\n",
       "      <td>0.196316</td>\n",
       "      <td>0.190123</td>\n",
       "      <td>0.196119</td>\n",
       "      <td>0.227891</td>\n",
       "      <td>0.164528</td>\n",
       "      <td>0.169448</td>\n",
       "      <td>0.080279</td>\n",
       "      <td>0.153985</td>\n",
       "      <td>0.154188</td>\n",
       "      <td>0.074237</td>\n",
       "      <td>0.166794</td>\n",
       "      <td>0.166436</td>\n",
       "      <td>0.171947</td>\n",
       "      <td>0.086167</td>\n",
       "    </tr>\n",
       "    <tr>\n",
       "      <th>...</th>\n",
       "      <td>...</td>\n",
       "      <td>...</td>\n",
       "      <td>...</td>\n",
       "      <td>...</td>\n",
       "      <td>...</td>\n",
       "      <td>...</td>\n",
       "      <td>...</td>\n",
       "      <td>...</td>\n",
       "      <td>...</td>\n",
       "      <td>...</td>\n",
       "      <td>...</td>\n",
       "      <td>...</td>\n",
       "      <td>...</td>\n",
       "      <td>...</td>\n",
       "      <td>...</td>\n",
       "      <td>...</td>\n",
       "      <td>...</td>\n",
       "      <td>...</td>\n",
       "      <td>...</td>\n",
       "      <td>...</td>\n",
       "    </tr>\n",
       "    <tr>\n",
       "      <th>499995</th>\n",
       "      <td>2014-10-21 03:00:00</td>\n",
       "      <td>0.164949</td>\n",
       "      <td>0.155877</td>\n",
       "      <td>0.012195</td>\n",
       "      <td>0.012195</td>\n",
       "      <td>0.030204</td>\n",
       "      <td>0.196316</td>\n",
       "      <td>0.190123</td>\n",
       "      <td>0.196119</td>\n",
       "      <td>0.187754</td>\n",
       "      <td>0.164528</td>\n",
       "      <td>0.169448</td>\n",
       "      <td>0.074220</td>\n",
       "      <td>0.153985</td>\n",
       "      <td>0.154188</td>\n",
       "      <td>0.074220</td>\n",
       "      <td>0.109077</td>\n",
       "      <td>0.166436</td>\n",
       "      <td>0.150633</td>\n",
       "      <td>0.073100</td>\n",
       "    </tr>\n",
       "    <tr>\n",
       "      <th>499996</th>\n",
       "      <td>2014-10-21 03:00:00</td>\n",
       "      <td>0.164949</td>\n",
       "      <td>0.195663</td>\n",
       "      <td>0.442296</td>\n",
       "      <td>0.431840</td>\n",
       "      <td>0.195131</td>\n",
       "      <td>0.196316</td>\n",
       "      <td>0.190123</td>\n",
       "      <td>0.196119</td>\n",
       "      <td>0.127723</td>\n",
       "      <td>0.164528</td>\n",
       "      <td>0.169448</td>\n",
       "      <td>0.278302</td>\n",
       "      <td>0.153985</td>\n",
       "      <td>0.154188</td>\n",
       "      <td>0.298913</td>\n",
       "      <td>0.109077</td>\n",
       "      <td>0.230515</td>\n",
       "      <td>0.114082</td>\n",
       "      <td>0.217605</td>\n",
       "    </tr>\n",
       "    <tr>\n",
       "      <th>499997</th>\n",
       "      <td>2014-10-21 03:00:00</td>\n",
       "      <td>0.164949</td>\n",
       "      <td>0.195663</td>\n",
       "      <td>0.091357</td>\n",
       "      <td>0.092482</td>\n",
       "      <td>0.195131</td>\n",
       "      <td>0.196316</td>\n",
       "      <td>0.190123</td>\n",
       "      <td>0.196119</td>\n",
       "      <td>0.224570</td>\n",
       "      <td>0.164528</td>\n",
       "      <td>0.169448</td>\n",
       "      <td>0.123115</td>\n",
       "      <td>0.153985</td>\n",
       "      <td>0.154188</td>\n",
       "      <td>0.125073</td>\n",
       "      <td>0.109077</td>\n",
       "      <td>0.141789</td>\n",
       "      <td>0.177072</td>\n",
       "      <td>0.217605</td>\n",
       "    </tr>\n",
       "    <tr>\n",
       "      <th>499998</th>\n",
       "      <td>2014-10-21 03:00:00</td>\n",
       "      <td>0.164949</td>\n",
       "      <td>0.155877</td>\n",
       "      <td>0.211945</td>\n",
       "      <td>0.211945</td>\n",
       "      <td>0.208603</td>\n",
       "      <td>0.196316</td>\n",
       "      <td>0.190123</td>\n",
       "      <td>0.196119</td>\n",
       "      <td>0.200614</td>\n",
       "      <td>0.164528</td>\n",
       "      <td>0.169448</td>\n",
       "      <td>0.218173</td>\n",
       "      <td>0.153985</td>\n",
       "      <td>0.154188</td>\n",
       "      <td>0.208514</td>\n",
       "      <td>0.166794</td>\n",
       "      <td>0.166436</td>\n",
       "      <td>0.171947</td>\n",
       "      <td>0.208514</td>\n",
       "    </tr>\n",
       "    <tr>\n",
       "      <th>499999</th>\n",
       "      <td>2014-10-21 03:00:00</td>\n",
       "      <td>0.164949</td>\n",
       "      <td>0.155877</td>\n",
       "      <td>0.211945</td>\n",
       "      <td>0.211945</td>\n",
       "      <td>0.208603</td>\n",
       "      <td>0.196316</td>\n",
       "      <td>0.190123</td>\n",
       "      <td>0.196119</td>\n",
       "      <td>0.216730</td>\n",
       "      <td>0.164528</td>\n",
       "      <td>0.169448</td>\n",
       "      <td>0.211592</td>\n",
       "      <td>0.153985</td>\n",
       "      <td>0.154188</td>\n",
       "      <td>0.208514</td>\n",
       "      <td>0.166794</td>\n",
       "      <td>0.166436</td>\n",
       "      <td>0.253048</td>\n",
       "      <td>0.208514</td>\n",
       "    </tr>\n",
       "  </tbody>\n",
       "</table>\n",
       "<p>500000 rows × 20 columns</p>\n",
       "</div>"
      ],
      "text/plain": [
       "                      hour        C1  banner_pos   site_id  site_domain   \n",
       "0      2014-10-21 00:00:00  0.164949    0.155877  0.211945     0.211945  \\\n",
       "1      2014-10-21 00:00:00  0.164949    0.155877  0.211945     0.211945   \n",
       "2      2014-10-21 00:00:00  0.164949    0.155877  0.211945     0.211945   \n",
       "3      2014-10-21 00:00:00  0.164949    0.155877  0.211945     0.211945   \n",
       "4      2014-10-21 00:00:00  0.164949    0.195663  0.036642     0.036642   \n",
       "...                    ...       ...         ...       ...          ...   \n",
       "499995 2014-10-21 03:00:00  0.164949    0.155877  0.012195     0.012195   \n",
       "499996 2014-10-21 03:00:00  0.164949    0.195663  0.442296     0.431840   \n",
       "499997 2014-10-21 03:00:00  0.164949    0.195663  0.091357     0.092482   \n",
       "499998 2014-10-21 03:00:00  0.164949    0.155877  0.211945     0.211945   \n",
       "499999 2014-10-21 03:00:00  0.164949    0.155877  0.211945     0.211945   \n",
       "\n",
       "        site_category    app_id  app_domain  app_category  device_model   \n",
       "0            0.208603  0.196316    0.190123      0.196119      0.225080  \\\n",
       "1            0.208603  0.196316    0.190123      0.196119      0.236538   \n",
       "2            0.208603  0.196316    0.190123      0.196119      0.131059   \n",
       "3            0.208603  0.196316    0.190123      0.196119      0.293158   \n",
       "4            0.036364  0.196316    0.190123      0.196119      0.227891   \n",
       "...               ...       ...         ...           ...           ...   \n",
       "499995       0.030204  0.196316    0.190123      0.196119      0.187754   \n",
       "499996       0.195131  0.196316    0.190123      0.196119      0.127723   \n",
       "499997       0.195131  0.196316    0.190123      0.196119      0.224570   \n",
       "499998       0.208603  0.196316    0.190123      0.196119      0.200614   \n",
       "499999       0.208603  0.196316    0.190123      0.196119      0.216730   \n",
       "\n",
       "        device_type  device_conn_type       C14       C15       C16       C17   \n",
       "0          0.164528          0.124586  0.167300  0.153985  0.154188  0.208514  \\\n",
       "1          0.164528          0.169448  0.216279  0.153985  0.154188  0.208514   \n",
       "2          0.164528          0.169448  0.216279  0.153985  0.154188  0.208514   \n",
       "3          0.164528          0.169448  0.167300  0.153985  0.154188  0.208514   \n",
       "4          0.164528          0.169448  0.080279  0.153985  0.154188  0.074237   \n",
       "...             ...               ...       ...       ...       ...       ...   \n",
       "499995     0.164528          0.169448  0.074220  0.153985  0.154188  0.074220   \n",
       "499996     0.164528          0.169448  0.278302  0.153985  0.154188  0.298913   \n",
       "499997     0.164528          0.169448  0.123115  0.153985  0.154188  0.125073   \n",
       "499998     0.164528          0.169448  0.218173  0.153985  0.154188  0.208514   \n",
       "499999     0.164528          0.169448  0.211592  0.153985  0.154188  0.208514   \n",
       "\n",
       "             C18       C19       C20       C21  \n",
       "0       0.166794  0.166436  0.171947  0.208514  \n",
       "1       0.166794  0.166436  0.253048  0.208514  \n",
       "2       0.166794  0.166436  0.253048  0.208514  \n",
       "3       0.166794  0.166436  0.253048  0.208514  \n",
       "4       0.166794  0.166436  0.171947  0.086167  \n",
       "...          ...       ...       ...       ...  \n",
       "499995  0.109077  0.166436  0.150633  0.073100  \n",
       "499996  0.109077  0.230515  0.114082  0.217605  \n",
       "499997  0.109077  0.141789  0.177072  0.217605  \n",
       "499998  0.166794  0.166436  0.171947  0.208514  \n",
       "499999  0.166794  0.166436  0.253048  0.208514  \n",
       "\n",
       "[500000 rows x 20 columns]"
      ]
     },
     "execution_count": 15,
     "metadata": {},
     "output_type": "execute_result"
    }
   ],
   "source": [
    "...  # import the TargetEncoder from category_encoders under the wrap.importer() context\n",
    "\n",
    "CATEGORICAL_COLUMNS = [\n",
    "    \"C1\", \"banner_pos\", \"site_id\", \"site_domain\",\n",
    "    \"site_category\", \"app_id\", \"app_domain\", \"app_category\",\n",
    "    \"device_model\", \"device_type\", \"device_conn_type\",\n",
    "    \"C14\", \"C15\", \"C16\", \"C17\", \"C18\", \"C19\", \"C20\", \"C21\"\n",
    "]\n",
    "\n",
    "SOURCE.bind(\n",
    "    TargetEncoder(cols=CATEGORICAL_COLUMNS)\n",
    ").launcher.train().features"
   ]
  },
  {
   "cell_type": "markdown",
   "id": "fdb0c1d4-4cf7-46c6-9dd8-9ff10c693af4",
   "metadata": {
    "slideshow": {
     "slide_type": "slide"
    },
    "tags": []
   },
   "source": [
    "### Base Model Pipeline on the Fly\n",
    "Let's just append the [MinMaxScaler](https://scikit-learn.org/stable/modules/generated/sklearn.preprocessing.MinMaxScaler.html) to the pipeline and the [LogisticRegression](https://scikit-learn.org/stable/modules/generated/sklearn.linear_model.LogisticRegression.html) classifier:"
   ]
  },
  {
   "cell_type": "code",
   "execution_count": null,
   "id": "e220ee2e-42f4-4da5-b10e-392f41336e42",
   "metadata": {
    "tags": [
     "clear"
    ]
   },
   "outputs": [],
   "source": [
    "with wrap.importer():\n",
    "    from sklearn.linear_model import LogisticRegression\n",
    "    from sklearn.preprocessing import MinMaxScaler\n",
    "\n",
    "PIPELINE = (\n",
    "    TimeExtractor()\n",
    "    >> TargetEncoder(cols=CATEGORICAL_COLUMNS)\n",
    "    >> MinMaxScaler()\n",
    "    >> LogisticRegression(max_iter=200, random_state=42)\n",
    ")\n",
    "SOURCE.bind(PIPELINE).launcher(runner=\"graphviz\").train()"
   ]
  },
  {
   "cell_type": "markdown",
   "id": "9e0481b1-149f-4ea5-9d20-b0876c1aaee4",
   "metadata": {
    "slideshow": {
     "slide_type": "slide"
    },
    "tags": []
   },
   "source": [
    "### Evaluating the Pipeline\n",
    "\n",
    "Using our evaluation definition from [avazuctr/evaluation.py](../forml-solution-avazuctr/avazuctr/evaluation.py), we get the `logloss` of this our base model:"
   ]
  },
  {
   "cell_type": "code",
   "execution_count": null,
   "id": "f9062d8f-6822-4a76-937f-f859da19bf81",
   "metadata": {
    "tags": [
     "clear"
    ]
   },
   "outputs": [],
   "source": [
    "SOURCE.bind(PIPELINE, evaluation=PROJECT.components.evaluation).launcher.eval()"
   ]
  }
 ],
 "metadata": {
  "kernelspec": {
   "display_name": "Python 3 (ipykernel)",
   "language": "python",
   "name": "python3"
  },
  "language_info": {
   "codemirror_mode": {
    "name": "ipython",
    "version": 3
   },
   "file_extension": ".py",
   "mimetype": "text/x-python",
   "name": "python",
   "nbconvert_exporter": "python",
   "pygments_lexer": "ipython3",
   "version": "3.10.11"
  }
 },
 "nbformat": 4,
 "nbformat_minor": 5
}

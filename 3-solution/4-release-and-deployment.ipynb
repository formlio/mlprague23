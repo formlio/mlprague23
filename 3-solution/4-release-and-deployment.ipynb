{
 "cells": [
  {
   "cell_type": "markdown",
   "id": "dea615fc-87f9-489b-a23d-5d77fa52c6c1",
   "metadata": {
    "tags": []
   },
   "source": [
    "Solution: Release and Deployment\n",
    "================================"
   ]
  },
  {
   "cell_type": "code",
   "execution_count": 1,
   "id": "46944f7e-6177-4e0a-a2f0-abcd372a1e75",
   "metadata": {
    "tags": []
   },
   "outputs": [
    {
     "name": "stdout",
     "output_type": "stream",
     "text": [
      "/opt/forml/workspace/3-solution/forml-solution-avazuctr\n"
     ]
    }
   ],
   "source": [
    "%cd forml-solution-avazuctr"
   ]
  },
  {
   "cell_type": "markdown",
   "id": "2dcaadec-f846-4f2e-8844-27d219914484",
   "metadata": {},
   "source": [
    "Releasing\n",
    "---------\n",
    "\n",
    "Let's now release the first version of our model. As per the `version` field in the [pyproject.toml](forml-solution-avazuctr), the version number is going to be `0.1.dev1`:"
   ]
  },
  {
   "cell_type": "markdown",
   "id": "3fe492be-1ee0-4320-a93e-3aa136d92c0c",
   "metadata": {
    "tags": []
   },
   "source": [
    "### Packaging & Publishing"
   ]
  },
  {
   "cell_type": "code",
   "execution_count": 2,
   "id": "8677f9e0-f8a9-482b-9bb5-34a63bb8cb89",
   "metadata": {
    "tags": []
   },
   "outputs": [
    {
     "name": "stdout",
     "output_type": "stream",
     "text": [
      "running bdist_4ml\n",
      "Looking in indexes: https://pypi.org/simple, http://127.0.0.1:9000/\n",
      "Collecting category-encoders==2.6.0\n",
      "  Using cached category_encoders-2.6.0-py2.py3-none-any.whl (81 kB)\n",
      "Collecting imbalanced-learn==0.10.1\n",
      "  Using cached imbalanced_learn-0.10.1-py3-none-any.whl (226 kB)\n",
      "Collecting openschema==0.6.dev2\n",
      "  Downloading http://127.0.0.1:9000/openschema/openschema-0.6.dev2-py3-none-any.whl (14 kB)\n",
      "Collecting pandas==2.0.0\n",
      "  Using cached pandas-2.0.0-cp310-cp310-manylinux_2_17_x86_64.manylinux2014_x86_64.whl (12.3 MB)\n",
      "Collecting scikit-learn==1.2.2\n",
      "  Using cached scikit_learn-1.2.2-cp310-cp310-manylinux_2_17_x86_64.manylinux2014_x86_64.whl (9.6 MB)\n",
      "Collecting numpy>=1.14.0 (from category-encoders==2.6.0)\n",
      "  Using cached numpy-1.24.3-cp310-cp310-manylinux_2_17_x86_64.manylinux2014_x86_64.whl (17.3 MB)\n",
      "Collecting scipy>=1.0.0 (from category-encoders==2.6.0)\n",
      "  Using cached scipy-1.10.1-cp310-cp310-manylinux_2_17_x86_64.manylinux2014_x86_64.whl (34.4 MB)\n",
      "Collecting statsmodels>=0.9.0 (from category-encoders==2.6.0)\n",
      "  Using cached statsmodels-0.14.0-cp310-cp310-manylinux_2_17_x86_64.manylinux2014_x86_64.whl (10.1 MB)\n",
      "Collecting patsy>=0.5.1 (from category-encoders==2.6.0)\n",
      "  Using cached patsy-0.5.3-py2.py3-none-any.whl (233 kB)\n",
      "Collecting joblib>=1.1.1 (from imbalanced-learn==0.10.1)\n",
      "  Using cached joblib-1.2.0-py3-none-any.whl (297 kB)\n",
      "Collecting threadpoolctl>=2.0.0 (from imbalanced-learn==0.10.1)\n",
      "  Using cached threadpoolctl-3.1.0-py3-none-any.whl (14 kB)\n",
      "Collecting forml (from openschema==0.6.dev2)\n",
      "  Downloading http://127.0.0.1:9000/forml/forml-0.93-py3-none-any.whl (279 kB)\n",
      "\u001b[2K     \u001b[90m━━━━━━━━━━━━━━━━━━━━━━━━━━━━━━━━━━━━━\u001b[0m \u001b[32m279.3/279.3 kB\u001b[0m \u001b[31m192.8 MB/s\u001b[0m eta \u001b[36m0:00:00\u001b[0m\n",
      "\u001b[?25hCollecting python-dateutil>=2.8.2 (from pandas==2.0.0)\n",
      "  Using cached python_dateutil-2.8.2-py2.py3-none-any.whl (247 kB)\n",
      "Collecting pytz>=2020.1 (from pandas==2.0.0)\n",
      "  Using cached pytz-2023.3-py2.py3-none-any.whl (502 kB)\n",
      "Collecting tzdata>=2022.1 (from pandas==2.0.0)\n",
      "  Using cached tzdata-2023.3-py2.py3-none-any.whl (341 kB)\n",
      "Collecting six (from patsy>=0.5.1->category-encoders==2.6.0)\n",
      "  Using cached six-1.16.0-py2.py3-none-any.whl (11 kB)\n",
      "Collecting packaging>=21.3 (from statsmodels>=0.9.0->category-encoders==2.6.0)\n",
      "  Using cached packaging-23.1-py3-none-any.whl (48 kB)\n",
      "Collecting click (from forml->openschema==0.6.dev2)\n",
      "  Using cached click-8.1.3-py3-none-any.whl (96 kB)\n",
      "Collecting cloudpickle (from forml->openschema==0.6.dev2)\n",
      "  Using cached cloudpickle-2.2.1-py3-none-any.whl (25 kB)\n",
      "Collecting jinja2 (from forml->openschema==0.6.dev2)\n",
      "  Using cached Jinja2-3.1.2-py3-none-any.whl (133 kB)\n",
      "Collecting pip (from forml->openschema==0.6.dev2)\n",
      "  Using cached pip-23.1.2-py3-none-any.whl (2.1 MB)\n",
      "Collecting setuptools (from forml->openschema==0.6.dev2)\n",
      "  Using cached setuptools-67.7.2-py3-none-any.whl (1.1 MB)\n",
      "Collecting toml (from forml->openschema==0.6.dev2)\n",
      "  Using cached toml-0.10.2-py2.py3-none-any.whl (16 kB)\n",
      "Collecting tomli (from forml->openschema==0.6.dev2)\n",
      "  Using cached tomli-2.0.1-py3-none-any.whl (12 kB)\n",
      "Collecting MarkupSafe>=2.0 (from jinja2->forml->openschema==0.6.dev2)\n",
      "  Using cached MarkupSafe-2.1.2-cp310-cp310-manylinux_2_17_x86_64.manylinux2014_x86_64.whl (25 kB)\n",
      "Installing collected packages: pytz, tzdata, tomli, toml, threadpoolctl, six, setuptools, pip, packaging, numpy, MarkupSafe, joblib, cloudpickle, click, scipy, python-dateutil, patsy, jinja2, scikit-learn, pandas, statsmodels, imbalanced-learn, forml, openschema, category-encoders\n",
      "Successfully installed MarkupSafe-2.1.2 category-encoders-2.6.0 click-8.1.3 cloudpickle-2.2.1 forml-0.93 imbalanced-learn-0.10.1 jinja2-3.1.2 joblib-1.2.0 numpy-1.24.3 openschema-0.6.dev2 packaging-23.1 pandas-2.0.0 patsy-0.5.3 pip-23.1.2 python-dateutil-2.8.2 pytz-2023.3 scikit-learn-1.2.2 scipy-1.10.1 setuptools-67.7.2 six-1.16.0 statsmodels-0.14.0 threadpoolctl-3.1.0 toml-0.10.2 tomli-2.0.1 tzdata-2023.3\n",
      "running upload\n"
     ]
    }
   ],
   "source": [
    "! forml project release"
   ]
  },
  {
   "cell_type": "code",
   "execution_count": 3,
   "id": "53ee141c-533f-44e1-9985-accc9c000bc6",
   "metadata": {
    "tags": []
   },
   "outputs": [
    {
     "name": "stdout",
     "output_type": "stream",
     "text": [
      "forml-solution-avazuctr  \n"
     ]
    }
   ],
   "source": [
    "! forml model list"
   ]
  },
  {
   "cell_type": "code",
   "execution_count": 4,
   "id": "693543a0-c6d5-4f46-bfab-42bd66239c46",
   "metadata": {
    "tags": []
   },
   "outputs": [
    {
     "name": "stdout",
     "output_type": "stream",
     "text": [
      "0.1.dev1  \n"
     ]
    }
   ],
   "source": [
    "! forml model list forml-solution-avazuctr"
   ]
  },
  {
   "cell_type": "markdown",
   "id": "ed046925-cfa3-4fc0-b402-9e5a5f911cb5",
   "metadata": {},
   "source": [
    "### Training"
   ]
  },
  {
   "cell_type": "code",
   "execution_count": 5,
   "id": "49bdce5f-c022-4e88-81c1-e150e1a9643b",
   "metadata": {
    "tags": []
   },
   "outputs": [],
   "source": [
    "! forml model train --upper '2014-10-21 03:00:00' forml-solution-avazuctr"
   ]
  },
  {
   "cell_type": "code",
   "execution_count": 6,
   "id": "ec28ed64-4382-41e5-bb1f-adbdfcba2f56",
   "metadata": {
    "tags": []
   },
   "outputs": [
    {
     "name": "stdout",
     "output_type": "stream",
     "text": [
      "1  \n"
     ]
    }
   ],
   "source": [
    "! forml model list forml-solution-avazuctr 0.1.dev1"
   ]
  },
  {
   "cell_type": "markdown",
   "id": "ed60bad8-5668-426a-9f15-82196d3d49c3",
   "metadata": {},
   "source": [
    "Deployment & Serving\n",
    "--------------------"
   ]
  },
  {
   "cell_type": "code",
   "execution_count": 7,
   "id": "9baf46d6-ca28-40ee-b53d-789792d0fbcc",
   "metadata": {
    "tags": []
   },
   "outputs": [
    {
     "name": "stdout",
     "output_type": "stream",
     "text": [
      "forml-solution-avazuctr  \n"
     ]
    }
   ],
   "source": [
    "! forml application list"
   ]
  },
  {
   "cell_type": "markdown",
   "id": "cf8cee97-5939-436c-905c-f96942cdb630",
   "metadata": {},
   "source": [
    "```shell\n",
    "$ forml application serve\n",
    "```"
   ]
  },
  {
   "cell_type": "code",
   "execution_count": 8,
   "id": "2d926050-4b2f-4c08-9c69-990255146c2b",
   "metadata": {
    "tags": []
   },
   "outputs": [
    {
     "name": "stdout",
     "output_type": "stream",
     "text": [
      "Application forml-solution-avazuctr not found in Dispatch-registry"
     ]
    }
   ],
   "source": [
    "! curl -X POST http://127.0.0.1:8000/forml-solution-avazuctr"
   ]
  },
  {
   "cell_type": "markdown",
   "id": "8c419d27-a5e0-40ec-a0a0-a9f31897361a",
   "metadata": {},
   "source": [
    "### Application"
   ]
  },
  {
   "cell_type": "code",
   "execution_count": 9,
   "id": "3a45afaf-f342-464f-89b4-d8eeb8c825f1",
   "metadata": {
    "tags": []
   },
   "outputs": [],
   "source": [
    "! touch application.py"
   ]
  },
  {
   "cell_type": "markdown",
   "id": "475746e5-5d54-416e-a4b8-65e43387789c",
   "metadata": {},
   "source": [
    "Now, add the generic application descriptor code to the [application.py](forml-solution-avazuctr/application.py):\n",
    "\n",
    "1. Open the [application.py](forml-solution-avazuctr/application.py) component.\n",
    "2. Update it with the code below registering the generic application descriptor.\n",
    "3. Save the file!\n",
    "\n",
    "```python\n",
    "from forml import application\n",
    "\n",
    "application.setup(application.Generic('forml-solution-avazuctr'))\n",
    "```\n",
    "\n",
    "**SAVE THE [application.py](forml-solution-avazuctr/application.py) FILE!**"
   ]
  },
  {
   "cell_type": "code",
   "execution_count": 10,
   "id": "de3d2ac6-6893-4c58-8ccf-ed195307f453",
   "metadata": {
    "tags": []
   },
   "outputs": [
    {
     "name": "stdout",
     "output_type": "stream",
     "text": [
      "forml-solution-avazuctr  \n"
     ]
    }
   ],
   "source": [
    "! forml application put application.py\n",
    "! forml application list"
   ]
  },
  {
   "cell_type": "code",
   "execution_count": 13,
   "id": "3d08d84b-3783-4a7e-b8d3-9a293235854a",
   "metadata": {
    "tags": []
   },
   "outputs": [
    {
     "name": "stdout",
     "output_type": "stream",
     "text": [
      "[{\"c0\":0.1819638389}]"
     ]
    }
   ],
   "source": [
    "! curl -H 'Content-Type: application/json' -d '[{ \\\n",
    "    \"hour\": \"2014-10-21 03:00:00\", \\\n",
    "    \"C1\": \"1002\", \\\n",
    "    \"banner_pos\": \"0\", \\\n",
    "    \"site_id\": \"887a4754\", \\\n",
    "    \"site_domain\": \"e3d9ca35\", \\\n",
    "    \"site_category\": \"50e219e0\", \\\n",
    "    \"app_id\": \"ecad2386\", \\\n",
    "    \"app_domain\": \"7801e8d9\", \\\n",
    "    \"app_category\": \"07d7df22\", \\\n",
    "    \"device_id\": \"0e79d423\", \\\n",
    "    \"device_ip\": \"9f423918\", \\\n",
    "    \"device_model\": \"fc10a0d3\", \\\n",
    "    \"device_type\": \"0\", \\\n",
    "    \"device_conn_type\": \"0\", \\\n",
    "    \"C14\": \"22701\", \\\n",
    "    \"C15\": \"320\", \\\n",
    "    \"C16\": \"50\", \\\n",
    "    \"C17\": \"2624\", \\\n",
    "    \"C18\": \"0\", \\\n",
    "    \"C19\": \"35\", \\\n",
    "    \"C20\": \"-1\", \\\n",
    "    \"C21\": \"221\" \\\n",
    "}]' http://127.0.0.1:8000/forml-solution-avazuctr"
   ]
  }
 ],
 "metadata": {
  "kernelspec": {
   "display_name": "Python 3 (ipykernel)",
   "language": "python",
   "name": "python3"
  },
  "language_info": {
   "codemirror_mode": {
    "name": "ipython",
    "version": 3
   },
   "file_extension": ".py",
   "mimetype": "text/x-python",
   "name": "python",
   "nbconvert_exporter": "python",
   "pygments_lexer": "ipython3",
   "version": "3.10.11"
  }
 },
 "nbformat": 4,
 "nbformat_minor": 5
}

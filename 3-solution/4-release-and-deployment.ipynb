{
 "cells": [
  {
   "cell_type": "markdown",
   "id": "dea615fc-87f9-489b-a23d-5d77fa52c6c1",
   "metadata": {
    "slideshow": {
     "slide_type": "slide"
    },
    "tags": []
   },
   "source": [
    "# Release and Deployment\n",
    "\n",
    "After stepping through these development iterations and achieving **sufficient performance** and successful **test results**, we can proceed to releasing the particular version of the solution model and deploying it for inference."
   ]
  },
  {
   "cell_type": "code",
   "execution_count": 1,
   "id": "46944f7e-6177-4e0a-a2f0-abcd372a1e75",
   "metadata": {
    "slideshow": {
     "slide_type": "skip"
    },
    "tags": []
   },
   "outputs": [
    {
     "name": "stdout",
     "output_type": "stream",
     "text": [
      "/opt/forml/workspace/3-solution/forml-solution-avazuctr\n"
     ]
    }
   ],
   "source": [
    "%cd forml-solution-avazuctr"
   ]
  },
  {
   "cell_type": "markdown",
   "id": "2dcaadec-f846-4f2e-8844-27d219914484",
   "metadata": {
    "slideshow": {
     "slide_type": "slide"
    },
    "tags": []
   },
   "source": [
    "## Releasing\n",
    "\n",
    "Let's release the first version of our model. As per the `version` field in the [pyproject.toml](forml-solution-avazuctr), the version number is going to be `0.1`.\n",
    "\n",
    "Following the best practices, we first commit all the recent changes and tag it with the version number:"
   ]
  },
  {
   "cell_type": "code",
   "execution_count": 2,
   "id": "27f6c2f3-cf10-49d6-a20b-93d6a5a58d9e",
   "metadata": {
    "tags": []
   },
   "outputs": [
    {
     "name": "stdout",
     "output_type": "stream",
     "text": [
      "[main (root-commit) 096ff6a] Released 0.1\n",
      " 9 files changed, 200 insertions(+)\n",
      " create mode 100644 .gitignore\n",
      " create mode 100644 avazuctr/__init__.py\n",
      " create mode 100644 avazuctr/evaluation.py\n",
      " create mode 100644 avazuctr/pipeline.py\n",
      " create mode 100644 avazuctr/source.py\n",
      " create mode 100644 pyproject.toml\n",
      " create mode 100644 tests/__init__.py\n",
      " create mode 100644 tests/test_pipeline.py\n",
      " create mode 100644 tests/test_source.py\n"
     ]
    }
   ],
   "source": [
    "! git commit -m \"Released 0.1\"\n",
    "! git tag \"v0.1\""
   ]
  },
  {
   "cell_type": "markdown",
   "id": "3fe492be-1ee0-4320-a93e-3aa136d92c0c",
   "metadata": {
    "slideshow": {
     "slide_type": "subslide"
    },
    "tags": []
   },
   "source": [
    "### Packaging & Publishing\n",
    "\n",
    "Now we can trigger the actual packaging of the artifact and publish it to the model registry:"
   ]
  },
  {
   "cell_type": "code",
   "execution_count": 3,
   "id": "8677f9e0-f8a9-482b-9bb5-34a63bb8cb89",
   "metadata": {
    "tags": []
   },
   "outputs": [
    {
     "name": "stdout",
     "output_type": "stream",
     "text": [
      "running bdist_4ml\n",
      "Collecting category-encoders==2.6.0\n",
      "  Downloading category_encoders-2.6.0-py2.py3-none-any.whl (81 kB)\n",
      "\u001b[2K     \u001b[90m━━━━━━━━━━━━━━━━━━━━━━━━━━━━━━━━━━━━━━━\u001b[0m \u001b[32m81.2/81.2 kB\u001b[0m \u001b[31m910.0 kB/s\u001b[0m eta \u001b[36m0:00:00\u001b[0ma \u001b[36m0:00:01\u001b[0m\n",
      "\u001b[?25hCollecting forml==0.93\n",
      "  Using cached forml-0.93-py3-none-any.whl (283 kB)\n",
      "Collecting imbalanced-learn==0.10.1\n",
      "  Using cached imbalanced_learn-0.10.1-py3-none-any.whl (226 kB)\n",
      "Collecting openschema==0.7\n",
      "  Downloading openschema-0.7-py3-none-any.whl (14 kB)\n",
      "Collecting pandas==2.0.1\n",
      "  Downloading pandas-2.0.1-cp310-cp310-manylinux_2_17_x86_64.manylinux2014_x86_64.whl (12.3 MB)\n",
      "\u001b[2K     \u001b[90m━━━━━━━━━━━━━━━━━━━━━━━━━━━━━━━━━━━━━━━\u001b[0m \u001b[32m12.3/12.3 MB\u001b[0m \u001b[31m869.3 kB/s\u001b[0m eta \u001b[36m0:00:00\u001b[0m00:01\u001b[0m00:01\u001b[0m\n",
      "\u001b[?25hCollecting scikit-learn==1.2.2\n",
      "  Using cached scikit_learn-1.2.2-cp310-cp310-manylinux_2_17_x86_64.manylinux2014_x86_64.whl (9.6 MB)\n",
      "Collecting numpy>=1.14.0 (from category-encoders==2.6.0)\n",
      "  Using cached numpy-1.24.3-cp310-cp310-manylinux_2_17_x86_64.manylinux2014_x86_64.whl (17.3 MB)\n",
      "Collecting scipy>=1.0.0 (from category-encoders==2.6.0)\n",
      "  Using cached scipy-1.10.1-cp310-cp310-manylinux_2_17_x86_64.manylinux2014_x86_64.whl (34.4 MB)\n",
      "Collecting statsmodels>=0.9.0 (from category-encoders==2.6.0)\n",
      "  Downloading statsmodels-0.14.0-cp310-cp310-manylinux_2_17_x86_64.manylinux2014_x86_64.whl (10.1 MB)\n",
      "\u001b[2K     \u001b[90m━━━━━━━━━━━━━━━━━━━━━━━━━━━━━━━━━━━━━━━\u001b[0m \u001b[32m10.1/10.1 MB\u001b[0m \u001b[31m880.9 kB/s\u001b[0m eta \u001b[36m0:00:00\u001b[0m00:01\u001b[0m00:01\u001b[0m\n",
      "\u001b[?25hCollecting patsy>=0.5.1 (from category-encoders==2.6.0)\n",
      "  Downloading patsy-0.5.3-py2.py3-none-any.whl (233 kB)\n",
      "\u001b[2K     \u001b[90m━━━━━━━━━━━━━━━━━━━━━━━━━━━━━━━━━━━━━\u001b[0m \u001b[32m233.8/233.8 kB\u001b[0m \u001b[31m974.1 kB/s\u001b[0m eta \u001b[36m0:00:00\u001b[0ma \u001b[36m0:00:01\u001b[0m\n",
      "\u001b[?25hCollecting click (from forml==0.93)\n",
      "  Using cached click-8.1.3-py3-none-any.whl (96 kB)\n",
      "Collecting cloudpickle (from forml==0.93)\n",
      "  Using cached cloudpickle-2.2.1-py3-none-any.whl (25 kB)\n",
      "Collecting jinja2 (from forml==0.93)\n",
      "  Using cached Jinja2-3.1.2-py3-none-any.whl (133 kB)\n",
      "Collecting packaging>=20.0 (from forml==0.93)\n",
      "  Using cached packaging-23.1-py3-none-any.whl (48 kB)\n",
      "Collecting pip (from forml==0.93)\n",
      "  Using cached pip-23.1.2-py3-none-any.whl (2.1 MB)\n",
      "Collecting setuptools (from forml==0.93)\n",
      "  Using cached setuptools-67.8.0-py3-none-any.whl (1.1 MB)\n",
      "Collecting toml (from forml==0.93)\n",
      "  Using cached toml-0.10.2-py2.py3-none-any.whl (16 kB)\n",
      "Collecting tomli (from forml==0.93)\n",
      "  Using cached tomli-2.0.1-py3-none-any.whl (12 kB)\n",
      "Collecting joblib>=1.1.1 (from imbalanced-learn==0.10.1)\n",
      "  Using cached joblib-1.2.0-py3-none-any.whl (297 kB)\n",
      "Collecting threadpoolctl>=2.0.0 (from imbalanced-learn==0.10.1)\n",
      "  Using cached threadpoolctl-3.1.0-py3-none-any.whl (14 kB)\n",
      "Collecting python-dateutil>=2.8.2 (from pandas==2.0.1)\n",
      "  Using cached python_dateutil-2.8.2-py2.py3-none-any.whl (247 kB)\n",
      "Collecting pytz>=2020.1 (from pandas==2.0.1)\n",
      "  Using cached pytz-2023.3-py2.py3-none-any.whl (502 kB)\n",
      "Collecting tzdata>=2022.1 (from pandas==2.0.1)\n",
      "  Using cached tzdata-2023.3-py2.py3-none-any.whl (341 kB)\n",
      "Collecting six (from patsy>=0.5.1->category-encoders==2.6.0)\n",
      "  Using cached six-1.16.0-py2.py3-none-any.whl (11 kB)\n",
      "Collecting MarkupSafe>=2.0 (from jinja2->forml==0.93)\n",
      "  Using cached MarkupSafe-2.1.2-cp310-cp310-manylinux_2_17_x86_64.manylinux2014_x86_64.whl (25 kB)\n",
      "Installing collected packages: pytz, tzdata, tomli, toml, threadpoolctl, six, setuptools, pip, packaging, numpy, MarkupSafe, joblib, cloudpickle, click, scipy, python-dateutil, patsy, jinja2, scikit-learn, pandas, statsmodels, imbalanced-learn, forml, openschema, category-encoders\n",
      "Successfully installed MarkupSafe-2.1.2 category-encoders-2.6.0 click-8.1.3 cloudpickle-2.2.1 forml-0.93 imbalanced-learn-0.10.1 jinja2-3.1.2 joblib-1.2.0 numpy-1.24.3 openschema-0.7 packaging-23.1 pandas-2.0.1 patsy-0.5.3 pip-23.1.2 python-dateutil-2.8.2 pytz-2023.3 scikit-learn-1.2.2 scipy-1.10.1 setuptools-67.8.0 six-1.16.0 statsmodels-0.14.0 threadpoolctl-3.1.0 toml-0.10.2 tomli-2.0.1 tzdata-2023.3\n",
      "running upload\n"
     ]
    }
   ],
   "source": [
    "! forml project release"
   ]
  },
  {
   "cell_type": "markdown",
   "id": "20d3e3ef-7dd7-44c9-935f-1d332112d511",
   "metadata": {
    "slideshow": {
     "slide_type": "subslide"
    },
    "tags": []
   },
   "source": [
    "### Browsing the Model Registry\n",
    "\n",
    "We should now see the project in the model registry next to the previously published `dummy`:"
   ]
  },
  {
   "cell_type": "code",
   "execution_count": 4,
   "id": "53ee141c-533f-44e1-9985-accc9c000bc6",
   "metadata": {
    "tags": []
   },
   "outputs": [
    {
     "name": "stdout",
     "output_type": "stream",
     "text": [
      "dummy                    forml-solution-avazuctr  \n"
     ]
    }
   ],
   "source": [
    "! forml model list"
   ]
  },
  {
   "cell_type": "code",
   "execution_count": 5,
   "id": "693543a0-c6d5-4f46-bfab-42bd66239c46",
   "metadata": {
    "tags": []
   },
   "outputs": [
    {
     "name": "stdout",
     "output_type": "stream",
     "text": [
      "0.1  \n"
     ]
    }
   ],
   "source": [
    "! forml model list forml-solution-avazuctr"
   ]
  },
  {
   "cell_type": "code",
   "execution_count": 6,
   "id": "5faa8491-5718-47e5-9665-ce63366b8031",
   "metadata": {
    "tags": []
   },
   "outputs": [],
   "source": [
    "! forml model list forml-solution-avazuctr 0.1"
   ]
  },
  {
   "cell_type": "markdown",
   "id": "31201201-2057-4782-83d5-12d769be4ff2",
   "metadata": {},
   "source": [
    "The release `0.1` is now in the model registry but it has no trained _generations_ yet."
   ]
  },
  {
   "cell_type": "code",
   "execution_count": 7,
   "id": "7b44fdc3-d1ae-4037-86c2-d6b63eb58e1c",
   "metadata": {
    "tags": []
   },
   "outputs": [
    {
     "name": "stdout",
     "output_type": "stream",
     "text": [
      "\u001b[01;34m/opt/forml/assets/registry/forml-solution-avazuctr\u001b[00m\n",
      "└── \u001b[01;34m0.1\u001b[00m\n",
      "    └── package.4ml\n",
      "\n",
      "1 directory, 1 file\n"
     ]
    }
   ],
   "source": [
    "! tree /opt/forml/assets/registry/forml-solution-avazuctr"
   ]
  },
  {
   "cell_type": "markdown",
   "id": "ed046925-cfa3-4fc0-b402-9e5a5f911cb5",
   "metadata": {
    "slideshow": {
     "slide_type": "subslide"
    },
    "tags": []
   },
   "source": [
    "### Training\n",
    "\n",
    "Let's pretend the current time is `2014-10-21 03:00:00` and train a model with data up to that _now_ point:"
   ]
  },
  {
   "cell_type": "code",
   "execution_count": 8,
   "id": "49bdce5f-c022-4e88-81c1-e150e1a9643b",
   "metadata": {
    "tags": []
   },
   "outputs": [],
   "source": [
    "! forml model train forml-solution-avazuctr \\\n",
    "    --upper '2014-10-21 03:00:00' "
   ]
  },
  {
   "cell_type": "code",
   "execution_count": 9,
   "id": "ec28ed64-4382-41e5-bb1f-adbdfcba2f56",
   "metadata": {
    "tags": []
   },
   "outputs": [
    {
     "name": "stdout",
     "output_type": "stream",
     "text": [
      "1  \n"
     ]
    }
   ],
   "source": [
    "! forml model list forml-solution-avazuctr 0.1"
   ]
  },
  {
   "cell_type": "code",
   "execution_count": 10,
   "id": "4c8c11a4-13a3-4eec-a405-343bfa9d2baa",
   "metadata": {
    "tags": []
   },
   "outputs": [
    {
     "name": "stdout",
     "output_type": "stream",
     "text": [
      "\u001b[01;34m/opt/forml/assets/registry/forml-solution-avazuctr\u001b[00m\n",
      "└── \u001b[01;34m0.1\u001b[00m\n",
      "    ├── \u001b[01;34m1\u001b[00m\n",
      "    │   ├── 0444977f-94e0-41af-95cc-bc73c7d4190e.bin\n",
      "    │   ├── 13459cdb-6c85-4899-a516-f814d5b2bda2.bin\n",
      "    │   ├── 32e05554-5eed-44dd-b53d-23b8807562a3.bin\n",
      "    │   ├── 38442d05-75ce-4a00-954e-aef27cacd4e7.bin\n",
      "    │   ├── 4cb2c4c6-7cd2-47b6-a37d-daf15119e46f.bin\n",
      "    │   ├── 66ab3016-2baa-4864-915f-13ab9163ce60.bin\n",
      "    │   ├── 83ed1abf-4086-4d05-9ad4-4e9f086c5d68.bin\n",
      "    │   ├── 8b94be64-ea35-4642-b26a-f98a6317be20.bin\n",
      "    │   ├── 8c736b7e-6fc6-4918-815a-4badc0d63af8.bin\n",
      "    │   └── tag.toml\n",
      "    └── package.4ml\n",
      "\n",
      "2 directories, 11 files\n"
     ]
    }
   ],
   "source": [
    "! tree /opt/forml/assets/registry/forml-solution-avazuctr"
   ]
  },
  {
   "cell_type": "markdown",
   "id": "563c5a14-c0ff-430e-ad0b-f6014fabe663",
   "metadata": {
    "slideshow": {
     "slide_type": "slide"
    },
    "tags": []
   },
   "source": [
    "## Deployment & Serving\n",
    "\n",
    "Serving our published model means exposing its task graph in the _apply mode_ for prediction requests.\n",
    "\n",
    "To quickly remind ourselves what this task graph looks like:"
   ]
  },
  {
   "cell_type": "code",
   "execution_count": 11,
   "id": "f8ff28a1-feaa-4d13-8dcb-c0ba82dcfb5d",
   "metadata": {
    "tags": []
   },
   "outputs": [],
   "source": [
    "! forml model -R graphviz apply forml-solution-avazuctr"
   ]
  },
  {
   "cell_type": "markdown",
   "id": "7580ca6b-6389-4632-b88b-84351120ff30",
   "metadata": {
    "tags": []
   },
   "source": [
    "_forml-solution-avazuctr/forml.dot.svg_:\n",
    "[![Apply Task Graph](img/apply.svg)](img/apply.svg)"
   ]
  },
  {
   "cell_type": "markdown",
   "id": "ed60bad8-5668-426a-9f15-82196d3d49c3",
   "metadata": {
    "slideshow": {
     "slide_type": "subslide"
    },
    "tags": []
   },
   "source": [
    "### Serving Gateways\n",
    "\n",
    "On top of the published models, ForML adds an additional layer for controlling all sorts of model serving aspects. This brings forth the concept of [applications](https://docs.forml.io/en/latest/application.html) and [serving gateways](https://docs.forml.io/en/latest/serving.html).\n",
    "\n",
    "Let's start the default serving gateway. Since it is a server process, launch it in a **separate terminal** using the following command:\n",
    "\n",
    "```shell\n",
    "$ forml application serve\n",
    "```\n",
    "\n",
    "We can now issue a request to the gateway targetting the (not-yet-deployed) app `forml-solution-avazuctr`:"
   ]
  },
  {
   "cell_type": "code",
   "execution_count": 12,
   "id": "2d926050-4b2f-4c08-9c69-990255146c2b",
   "metadata": {
    "tags": []
   },
   "outputs": [
    {
     "name": "stdout",
     "output_type": "stream",
     "text": [
      "Application forml-solution-avazuctr not found in Dispatch-registry"
     ]
    }
   ],
   "source": [
    "! curl -X POST http://127.0.0.1:8000/forml-solution-avazuctr"
   ]
  },
  {
   "cell_type": "markdown",
   "id": "af9ec840-c21e-4746-afa0-c74656464932",
   "metadata": {},
   "source": [
    "As expected, this results in `404` until the application is actually deployed."
   ]
  },
  {
   "cell_type": "markdown",
   "id": "8c419d27-a5e0-40ec-a0a0-a9f31897361a",
   "metadata": {
    "slideshow": {
     "slide_type": "subslide"
    },
    "tags": []
   },
   "source": [
    "### Application\n",
    "\n",
    "Applications are defined through an _application descriptor_ responsible for:\n",
    "* **decoding and extracting** the prediction request\n",
    "* **selecting a model** for serving the prediction request\n",
    "* **assembling and encoding** the prediction response\n",
    "\n",
    "Let's implement a simple application descriptor for our scenario:"
   ]
  },
  {
   "cell_type": "code",
   "execution_count": 13,
   "id": "3a45afaf-f342-464f-89b4-d8eeb8c825f1",
   "metadata": {
    "tags": []
   },
   "outputs": [],
   "source": [
    "! touch application.py"
   ]
  },
  {
   "cell_type": "markdown",
   "id": "475746e5-5d54-416e-a4b8-65e43387789c",
   "metadata": {},
   "source": [
    "Now, add the generic application descriptor code to the [application.py](forml-solution-avazuctr/application.py):\n",
    "\n",
    "1. Open the [application.py](forml-solution-avazuctr/application.py) component.\n",
    "2. Update it with the code below registering the generic application descriptor:\n",
    "```python\n",
    "from forml import application\n",
    "\n",
    "application.setup(application.Generic('forml-solution-avazuctr'))\n",
    "```\n",
    "3. **SAVE THE [application.py](forml-solution-avazuctr/application.py) FILE!**"
   ]
  },
  {
   "cell_type": "code",
   "execution_count": 14,
   "id": "fa2a3afb-18ba-4a3d-ae2b-d9439cab6a5c",
   "metadata": {
    "tags": []
   },
   "outputs": [],
   "source": [
    "! git add application.py"
   ]
  },
  {
   "cell_type": "markdown",
   "id": "72d2dc28-2f27-439e-ad8e-e6d2cafa84ab",
   "metadata": {
    "slideshow": {
     "slide_type": "subslide"
    },
    "tags": []
   },
   "source": [
    "The application gets deployed by pushing its descriptor to the _application inventory_:"
   ]
  },
  {
   "cell_type": "code",
   "execution_count": 15,
   "id": "de3d2ac6-6893-4c58-8ccf-ed195307f453",
   "metadata": {
    "tags": []
   },
   "outputs": [
    {
     "name": "stdout",
     "output_type": "stream",
     "text": [
      "forml-solution-avazuctr  \n"
     ]
    }
   ],
   "source": [
    "! forml application put application.py\n",
    "! forml application list"
   ]
  },
  {
   "cell_type": "markdown",
   "id": "3242f9e9-07b4-4b9e-b50a-26731cd26680",
   "metadata": {},
   "source": [
    "Now we can issue a prediction request:"
   ]
  },
  {
   "cell_type": "code",
   "execution_count": 16,
   "id": "3d08d84b-3783-4a7e-b8d3-9a293235854a",
   "metadata": {
    "tags": []
   },
   "outputs": [
    {
     "name": "stdout",
     "output_type": "stream",
     "text": [
      "[{\"c0\":0.1618960089}]"
     ]
    }
   ],
   "source": [
    "! curl -H 'Content-Type: application/json' -d '[{ \\\n",
    "    \"hour\": \"2014-10-21 03:00:00\", \\\n",
    "    \"banner_pos\": \"0\", \\\n",
    "    \"site_id\": \"887a4754\", \"site_domain\": \"e3d9ca35\", \\\n",
    "    \"site_category\": \"50e219e0\", \\\n",
    "    \"app_id\": \"ecad2386\", \"app_domain\": \"7801e8d9\", \\\n",
    "    \"app_category\": \"07d7df22\", \\\n",
    "    \"device_id\": \"0e79d423\", \"device_ip\": \"9f423918\", \\\n",
    "    \"device_model\": \"fc10a0d3\", \\\n",
    "    \"device_type\": \"0\", \"device_conn_type\": \"0\", \\\n",
    "    \"C1\": \"1002\", \"C14\": \"22701\", \"C15\": \"320\", \"C16\": \"50\", \\\n",
    "    \"C17\": \"2624\", \"C18\": \"0\", \"C19\": \"35\", \"C20\": \"-1\", \"C21\": \"221\" \\\n",
    "}]' http://127.0.0.1:8000/forml-solution-avazuctr"
   ]
  }
 ],
 "metadata": {
  "kernelspec": {
   "display_name": "Python 3 (ipykernel)",
   "language": "python",
   "name": "python3"
  },
  "language_info": {
   "codemirror_mode": {
    "name": "ipython",
    "version": 3
   },
   "file_extension": ".py",
   "mimetype": "text/x-python",
   "name": "python",
   "nbconvert_exporter": "python",
   "pygments_lexer": "ipython3",
   "version": "3.10.11"
  }
 },
 "nbformat": 4,
 "nbformat_minor": 5
}

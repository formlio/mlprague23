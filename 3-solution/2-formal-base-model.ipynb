{
 "cells": [
  {
   "cell_type": "markdown",
   "id": "028c3710-1849-4abd-9b0e-43586010ffb3",
   "metadata": {
    "slideshow": {
     "slide_type": "slide"
    },
    "tags": []
   },
   "source": [
    "# Formal Base Model\n",
    "\n",
    "After the initial exploration, we are going to write down all the pieces of our base pipeline as proper project components."
   ]
  },
  {
   "cell_type": "code",
   "execution_count": 1,
   "id": "0e583f0e-0da7-40e9-83c4-f2e549e531ff",
   "metadata": {
    "slideshow": {
     "slide_type": "skip"
    },
    "tags": []
   },
   "outputs": [
    {
     "name": "stdout",
     "output_type": "stream",
     "text": [
      "/opt/forml/workspace/3-solution/forml-solution-avazuctr\n"
     ]
    }
   ],
   "source": [
    "%cd forml-solution-avazuctr"
   ]
  },
  {
   "cell_type": "markdown",
   "id": "92b5071b-0db0-4759-9fc9-939c9609f2ac",
   "metadata": {},
   "source": [
    "Updating the Project Code Base\n",
    "------------------------------\n",
    "Let's start with the pipeline code produced on-the-fly during our [exploration](1-setup-and-exploration.ipynb)."
   ]
  },
  {
   "cell_type": "markdown",
   "id": "38576ebe-8883-4884-87c7-49f9261c357d",
   "metadata": {
    "slideshow": {
     "slide_type": "slide"
    },
    "tags": []
   },
   "source": [
    "### Adding TimeExtractor to Source.py\n",
    "\n",
    "Since the `TimeExtractor` is a *stateless* *row-wise* operator, it is possible to move it already to [avazuctr/source.py](forml-solution-avazuctr/avazuctr/source.py) where it gets applied before any splitting:\n",
    "\n",
    "1. Open the [avazuctr/source.py](forml-solution-avazuctr/avazuctr/source.py) component.\n",
    "2. Add the `TimeExtractor` operator definition and the relevant imports:\n",
    "```python\n",
    "import pandas\n",
    "from forml import project\n",
    "from forml.pipeline import payload, wrap\n",
    "from openschema import kaggle as schema\n",
    "\n",
    "\n",
    "@wrap.Operator.mapper\n",
    "@wrap.Actor.apply\n",
    "def TimeExtractor(features: pandas.DataFrame) -> pandas.DataFrame:\n",
    "    \"\"\"Transformer extracting temporal features from the original ``hour`` column.\"\"\"\n",
    "    assert \"hour\" in features.columns, \"Missing column: hour\"\n",
    "    time = features[\"hour\"]\n",
    "    features[\"dayofweek\"] = time.dt.dayofweek\n",
    "    features[\"day\"] = time.dt.day\n",
    "    features[\"hour\"] = time.dt.hour  # replacing the original column\n",
    "    features[\"month\"] = time.dt.month\n",
    "    return features\n",
    "```"
   ]
  },
  {
   "cell_type": "markdown",
   "id": "7416af75-aa53-4238-a552-e6d424b888ee",
   "metadata": {
    "slideshow": {
     "slide_type": "subslide"
    },
    "tags": []
   },
   "source": [
    "3. Apply the `TimeExtractor` to the `SOURCE`:\n",
    "```python\n",
    "OUTCOMES = ...   # Keep original\n",
    "ORDINAL = ...    # Keep original\n",
    "STATEMENT = ...  # Keep original\n",
    "\n",
    "# Setting up the source descriptor:\n",
    "SOURCE = (\n",
    "    project.Source.query(STATEMENT, OUTCOMES, ordinal=ORDINAL)\n",
    "    >> payload.ToPandas()\n",
    "    >> TimeExtractor()  # Applying the temporal feature extraction\n",
    ")\n",
    "\n",
    "# Registering the descriptor\n",
    "project.setup(SOURCE)\n",
    "```\n",
    "4. **SAVE THE [avazuctr/source.py](forml-solution-avazuctr/avazuctr/source.py) FILE!**"
   ]
  },
  {
   "cell_type": "code",
   "execution_count": 2,
   "id": "b4e7fea9-4d81-480d-be75-0daedac4dc1b",
   "metadata": {
    "tags": []
   },
   "outputs": [],
   "source": [
    "! git add avazuctr/source.py"
   ]
  },
  {
   "cell_type": "markdown",
   "id": "3b63f66b-6833-4e34-8f11-ba27ce13ae7e",
   "metadata": {
    "slideshow": {
     "slide_type": "slide"
    },
    "tags": []
   },
   "source": [
    "### Adding the Base Model to Pipeline.py\n",
    "\n",
    "Add the base model pipeline code to the [avazuctr/pipeline.py](forml-solution-avazuctr/avazuctr/pipeline.py):\n",
    "\n",
    "1. Open the [avazuctr/pipeline.py](forml-solution-avazuctr/avazuctr/pipeline.py) component.\n",
    "2. Add all the required imports:\n",
    "```python\n",
    "from forml import project\n",
    "from forml.pipeline import wrap\n",
    "\n",
    "with wrap.importer():\n",
    "    from category_encoders import TargetEncoder\n",
    "    from sklearn.linear_model import LogisticRegression\n",
    "    from sklearn.preprocessing import MinMaxScaler\n",
    "```"
   ]
  },
  {
   "cell_type": "markdown",
   "id": "e6298c16-3f57-449e-a191-f2ce1c9c4823",
   "metadata": {
    "slideshow": {
     "slide_type": "subslide"
    },
    "tags": []
   },
   "source": [
    "3. Enlist the categorical columns and compose the pipeline:\n",
    "```python\n",
    "CATEGORICAL_COLUMNS = [\n",
    "    \"C1\", \"banner_pos\", \"site_id\", \"site_domain\",\n",
    "    \"site_category\", \"app_id\", \"app_domain\", \"app_category\",\n",
    "    \"device_model\", \"device_type\", \"device_conn_type\",\n",
    "    \"C14\", \"C15\", \"C16\", \"C17\", \"C18\", \"C19\", \"C20\", \"C21\"\n",
    "]\n",
    "\n",
    "PIPELINE = (\n",
    "    TargetEncoder(cols=CATEGORICAL_COLUMNS)\n",
    "    >> MinMaxScaler()\n",
    "    >> LogisticRegression(max_iter=1000, random_state=42)\n",
    ")\n",
    "\n",
    "# Registering the pipeline\n",
    "project.setup(PIPELINE)\n",
    "```\n",
    "4. **SAVE THE [avazuctr/pipeline.py](forml-solution-avazuctr/avazuctr/pipeline.py) FILE!**"
   ]
  },
  {
   "cell_type": "code",
   "execution_count": 3,
   "id": "1cde43b2-5aad-4487-89c5-c9f774d6d9e5",
   "metadata": {
    "tags": []
   },
   "outputs": [],
   "source": [
    "! git add avazuctr/pipeline.py"
   ]
  },
  {
   "cell_type": "markdown",
   "id": "1bf43d14-b793-4058-805b-2172f563ce74",
   "metadata": {
    "slideshow": {
     "slide_type": "slide"
    },
    "tags": []
   },
   "source": [
    "### Perform the Development Evaluation\n",
    "\n",
    "To confirm we filled-in the project with the same implementation we got to during our initial exploration, let's perform the project evaluation and compare the reported metric:"
   ]
  },
  {
   "cell_type": "code",
   "execution_count": 4,
   "id": "2ddb2683-c233-4ea9-8362-5f384c0b24d6",
   "metadata": {
    "tags": []
   },
   "outputs": [
    {
     "name": "stdout",
     "output_type": "stream",
     "text": [
      "running eval\n",
      "0.39313604609251457\n"
     ]
    }
   ],
   "source": [
    "! forml project eval"
   ]
  },
  {
   "cell_type": "markdown",
   "id": "f9b0b437-7aae-4940-8500-c3ca545137c5",
   "metadata": {},
   "source": [
    "Bingo!"
   ]
  },
  {
   "cell_type": "markdown",
   "id": "2025430b-2c30-4b1b-be81-46052a506611",
   "metadata": {
    "slideshow": {
     "slide_type": "slide"
    },
    "tags": []
   },
   "source": [
    "Adding Unit Test for TimeExtractor\n",
    "----------------------------------"
   ]
  },
  {
   "cell_type": "code",
   "execution_count": 5,
   "id": "3169137d-f0b5-4c31-a040-c0f1e4f13aab",
   "metadata": {
    "tags": []
   },
   "outputs": [],
   "source": [
    "! touch tests/test_source.py"
   ]
  },
  {
   "cell_type": "markdown",
   "id": "ec9f2c65-0bc5-41b2-890b-ba7efb36d857",
   "metadata": {},
   "source": [
    "Edit the created [test_source.py](forml-solution-avazuctr/tests/test_source.py) and implement the unit test:\n",
    "\n",
    "1. Open the [test_source.py](forml-solution-avazuctr/tests/test_source.py).\n",
    "2. Add all the required imports:\n",
    "```python\n",
    "import pandas\n",
    "from forml import testing\n",
    "\n",
    "from avazuctr import source\n",
    "```"
   ]
  },
  {
   "cell_type": "markdown",
   "id": "095cb263-2da6-4971-bd6d-5e0ca8e608c9",
   "metadata": {
    "slideshow": {
     "slide_type": "subslide"
    },
    "tags": []
   },
   "source": [
    "3. Provide the `TestTimeExtractor` unit test implementation:\n",
    "```python\n",
    "class TestTimeExtractor(testing.operator(source.TimeExtractor)):\n",
    "    \"\"\"Unit testing the stateless TimeExtractor transformer.\"\"\"\n",
    "\n",
    "    # Dataset fixtures\n",
    "    EMPTY = pandas.DataFrame()\n",
    "    INPUT = pandas.DataFrame({\"hour\": [\n",
    "        pandas.Timestamp(\"2023-02-01 14:12:10\"),\n",
    "        pandas.Timestamp(\"2023-03-04 06:13:27\"),\n",
    "        pandas.Timestamp(\"2023-04-10 12:00:00\")\n",
    "    ]})\n",
    "    EXPECTED = pandas.DataFrame({\n",
    "        \"hour\": [14, 6, 12], \"dayofweek\": [2, 5, 0],\n",
    "        \"day\": [1, 4, 10], \"month\": [2, 3, 4]\n",
    "    }).astype(\"int32\")\n",
    "\n",
    "    # Test scenarios\n",
    "    missing_column = (\n",
    "        testing.Case().apply(EMPTY).raises(AssertionError, \"Missing column: hour\")\n",
    "    )\n",
    "    valid_extraction = (\n",
    "        testing.Case().apply(INPUT).returns(EXPECTED, testing.pandas_equals)\n",
    "    )\n",
    "```\n",
    "4. **SAVE THE [test_source.py](forml-solution-avazuctr/tests/test_source.py) FILE!**"
   ]
  },
  {
   "cell_type": "code",
   "execution_count": 6,
   "id": "7a3a5c5f-30f5-4246-8a47-2f89acc85be6",
   "metadata": {
    "tags": []
   },
   "outputs": [],
   "source": [
    "! git add tests/test_source.py"
   ]
  },
  {
   "cell_type": "markdown",
   "id": "665739ed-3918-4499-9468-a53118bbfd80",
   "metadata": {
    "slideshow": {
     "slide_type": "subslide"
    },
    "tags": []
   },
   "source": [
    "Let's trigger the project tests:"
   ]
  },
  {
   "cell_type": "code",
   "execution_count": 7,
   "id": "045928fa-ad18-40ed-b5ac-6c69be97ccf0",
   "metadata": {
    "tags": []
   },
   "outputs": [
    {
     "name": "stdout",
     "output_type": "stream",
     "text": [
      "Traceback (most recent call last):\n",
      "  File \"/usr/local/lib/python3.10/site-packages/forml/flow/_code/target/__init__.py\", line 56, in __call__\n",
      "    result = self.execute(*args)\n",
      "  File \"/usr/local/lib/python3.10/site-packages/forml/flow/_code/target/user.py\", line 196, in execute\n",
      "    return self.action(self.builder(), *args)\n",
      "  File \"/usr/local/lib/python3.10/site-packages/forml/flow/_code/target/user.py\", line 150, in __call__\n",
      "    result = actor.apply(*args)\n",
      "  File \"/usr/local/lib/python3.10/site-packages/forml/pipeline/wrap/_actor.py\", line 166, in apply\n",
      "    return self.Apply(*features, **self._kwargs)\n",
      "  File \"/opt/forml/workspace/3-solution/forml-solution-avazuctr/avazuctr/source.py\", line 11, in TimeExtractor\n",
      "    assert \"hour\" in features.columns, \"Missing column: hour\"\n",
      "AssertionError: Missing column: hour\n",
      "ok\n",
      "test_valid_extraction (tests.test_source.TestTimeExtractor)\n",
      "Test of Valid Extraction ... ok\n",
      "\n",
      "----------------------------------------------------------------------\n",
      "Ran 2 tests in 3.565s\n",
      "\n",
      "OK\n"
     ]
    }
   ],
   "source": [
    "! forml project test 2>&1 | tail -n 20"
   ]
  }
 ],
 "metadata": {
  "kernelspec": {
   "display_name": "Python 3 (ipykernel)",
   "language": "python",
   "name": "python3"
  },
  "language_info": {
   "codemirror_mode": {
    "name": "ipython",
    "version": 3
   },
   "file_extension": ".py",
   "mimetype": "text/x-python",
   "name": "python",
   "nbconvert_exporter": "python",
   "pygments_lexer": "ipython3",
   "version": "3.10.11"
  }
 },
 "nbformat": 4,
 "nbformat_minor": 5
}

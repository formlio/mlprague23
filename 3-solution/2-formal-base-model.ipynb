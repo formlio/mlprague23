{
 "cells": [
  {
   "cell_type": "markdown",
   "id": "028c3710-1849-4abd-9b0e-43586010ffb3",
   "metadata": {},
   "source": [
    "Solution: Formal Base Model\n",
    "==========================="
   ]
  },
  {
   "cell_type": "code",
   "execution_count": 1,
   "id": "0e583f0e-0da7-40e9-83c4-f2e549e531ff",
   "metadata": {
    "slideshow": {
     "slide_type": "skip"
    },
    "tags": []
   },
   "outputs": [
    {
     "name": "stdout",
     "output_type": "stream",
     "text": [
      "/opt/forml/workspace/3-solution/forml-solution-avazuctr\n"
     ]
    }
   ],
   "source": [
    "%cd forml-solution-avazuctr"
   ]
  },
  {
   "cell_type": "markdown",
   "id": "92b5071b-0db0-4759-9fc9-939c9609f2ac",
   "metadata": {},
   "source": [
    "Updating the Project Code Base\n",
    "------------------------------\n",
    "Let's now add the pipeline code produced on-the-fly during our [exploration](1-setup-and-exploration.ipynb) as the formal project component."
   ]
  },
  {
   "cell_type": "markdown",
   "id": "38576ebe-8883-4884-87c7-49f9261c357d",
   "metadata": {},
   "source": [
    "### Adding TimeExtractor to Source.py\n",
    "\n",
    "Since the `TimeExtractor` is a *stateless* operator working on *per-row* basis, it is possible to move it already to [avazuctr/source.py](forml-solution-avazuctr/avazuctr/source.py) where it gets applied on the dataset before any splitting:\n",
    "\n",
    "1. Open the [avazuctr/source.py](forml-solution-avazuctr/avazuctr/source.py) component.\n",
    "2. Update it with the code below engaging the `TimeExtractor` operator.\n",
    "3. Save the file!\n",
    "\n",
    "```python\n",
    "import pandas\n",
    "\n",
    "from forml import project\n",
    "from forml.pipeline import payload, wrap\n",
    "from openschema import kaggle as schema\n",
    "\n",
    "# Using the ForML DSL to specify the data source:\n",
    "FEATURES = (\n",
    "    schema.Avazu.select(\n",
    "        schema.Avazu.hour,\n",
    "        schema.Avazu.C1,\n",
    "        schema.Avazu.banner_pos,\n",
    "        schema.Avazu.site_id,\n",
    "        schema.Avazu.site_domain,\n",
    "        schema.Avazu.site_category,\n",
    "        schema.Avazu.app_id,\n",
    "        schema.Avazu.app_domain,\n",
    "        schema.Avazu.app_category,\n",
    "        schema.Avazu.device_id,\n",
    "        schema.Avazu.device_ip,\n",
    "        schema.Avazu.device_model,\n",
    "        schema.Avazu.device_type,\n",
    "        schema.Avazu.device_conn_type,\n",
    "        schema.Avazu.C14,\n",
    "        schema.Avazu.C15,\n",
    "        schema.Avazu.C16,\n",
    "        schema.Avazu.C17,\n",
    "        schema.Avazu.C18,\n",
    "        schema.Avazu.C19,\n",
    "        schema.Avazu.C20,\n",
    "        schema.Avazu.C21,\n",
    "    )\n",
    "    .orderby(schema.Avazu.hour)\n",
    "    .limit(500000)\n",
    ")\n",
    "OUTCOMES = schema.Avazu.click\n",
    "\n",
    "\n",
    "@wrap.Operator.mapper\n",
    "@wrap.Actor.apply\n",
    "def TimeExtractor(features: pandas.DataFrame) -> pandas.DataFrame:\n",
    "    \"\"\"Transformer extracting temporal features from the original ``hour`` column.\"\"\"\n",
    "    assert \"hour\" in features.columns, \"Missing column: hour\"\n",
    "    time = features[\"hour\"]\n",
    "    features[\"dayofweek\"] = time.dt.dayofweek\n",
    "    features[\"day\"] = time.dt.day\n",
    "    features[\"hour\"] = time.dt.hour  # replacing the original column\n",
    "    features[\"month\"] = time.dt.month\n",
    "    return features\n",
    "\n",
    "\n",
    "# Setting up the source descriptor:\n",
    "SOURCE = (\n",
    "    project.Source.query(FEATURES, OUTCOMES, ordinal=schema.Avazu.hour)\n",
    "    >> payload.ToPandas()\n",
    "    >> TimeExtractor()\n",
    ")\n",
    "\n",
    "# Registering the descriptor\n",
    "project.setup(SOURCE)\n",
    "```\n",
    "\n",
    "**SAVE THE [avazuctr/source.py](forml-solution-avazuctr/avazuctr/source.py) FILE!**"
   ]
  },
  {
   "cell_type": "code",
   "execution_count": 5,
   "id": "b4e7fea9-4d81-480d-be75-0daedac4dc1b",
   "metadata": {
    "tags": []
   },
   "outputs": [],
   "source": [
    "! git add avazuctr/source.py"
   ]
  },
  {
   "cell_type": "markdown",
   "id": "3b63f66b-6833-4e34-8f11-ba27ce13ae7e",
   "metadata": {},
   "source": [
    "### Adding the Base Model to Pipeline.py\n",
    "\n",
    "Add the base model pipeline code to the [avazuctr/pipeline.py](forml-solution-avazuctr/avazuctr/pipeline.py):\n",
    "\n",
    "1. Open the [avazuctr/pipeline.py](forml-solution-avazuctr/avazuctr/pipeline.py) component.\n",
    "2. Update it with the code below specifying the base model pipeline.\n",
    "3. Save the file!\n",
    "\n",
    "```python\n",
    "from forml import project\n",
    "from forml.pipeline import wrap\n",
    "\n",
    "with wrap.importer():\n",
    "    from category_encoders import TargetEncoder\n",
    "    from sklearn.linear_model import LogisticRegression\n",
    "    from sklearn.preprocessing import StandardScaler\n",
    "\n",
    "\n",
    "CATEGORICAL_COLUMNS = [\n",
    "    \"C1\",\n",
    "    \"banner_pos\",\n",
    "    \"site_id\",\n",
    "    \"site_domain\",\n",
    "    \"site_category\",\n",
    "    \"app_id\",\n",
    "    \"app_domain\",\n",
    "    \"app_category\",\n",
    "    \"device_id\",\n",
    "    \"device_ip\",\n",
    "    \"device_model\",\n",
    "    \"device_type\",\n",
    "    \"device_conn_type\",\n",
    "    \"C14\",\n",
    "    \"C15\",\n",
    "    \"C16\",\n",
    "    \"C17\",\n",
    "    \"C18\",\n",
    "    \"C19\",\n",
    "    \"C20\",\n",
    "    \"C21\",\n",
    "]\n",
    "\n",
    "PIPELINE = (\n",
    "    TargetEncoder(cols=CATEGORICAL_COLUMNS)\n",
    "    >> StandardScaler()\n",
    "    >> LogisticRegression(warm_start=True, random_state=42)\n",
    ")\n",
    "\n",
    "# Registering the pipeline\n",
    "project.setup(PIPELINE)\n",
    "```\n",
    "\n",
    "**SAVE THE [avazuctr/pipeline.py](forml-solution-avazuctr/avazuctr/pipeline.py) FILE!**"
   ]
  },
  {
   "cell_type": "code",
   "execution_count": 6,
   "id": "1cde43b2-5aad-4487-89c5-c9f774d6d9e5",
   "metadata": {
    "tags": []
   },
   "outputs": [],
   "source": [
    "! git add avazuctr/pipeline.py"
   ]
  },
  {
   "cell_type": "code",
   "execution_count": 7,
   "id": "2ddb2683-c233-4ea9-8362-5f384c0b24d6",
   "metadata": {
    "tags": []
   },
   "outputs": [
    {
     "name": "stdout",
     "output_type": "stream",
     "text": [
      "running eval\n",
      "0.45063007802414795\n"
     ]
    }
   ],
   "source": [
    "! forml project eval"
   ]
  },
  {
   "cell_type": "markdown",
   "id": "2025430b-2c30-4b1b-be81-46052a506611",
   "metadata": {},
   "source": [
    "Adding Unit Test for TimeExtractor\n",
    "----------------------------------"
   ]
  },
  {
   "cell_type": "code",
   "execution_count": 8,
   "id": "3169137d-f0b5-4c31-a040-c0f1e4f13aab",
   "metadata": {
    "tags": []
   },
   "outputs": [],
   "source": [
    "! touch tests/test_source.py"
   ]
  },
  {
   "cell_type": "markdown",
   "id": "ec9f2c65-0bc5-41b2-890b-ba7efb36d857",
   "metadata": {},
   "source": [
    "Edit the created [test_source.py](forml-solution-avazuctr/tests/test_source.py) and implement the unit test:\n",
    "\n",
    "1. Open the [test_source.py](forml-solution-avazuctr/tests/test_source.py).\n",
    "2. Update it with the code below providing the `TestTimeExtractor` unit test implementation.\n",
    "3. Save the file!\n",
    "\n",
    "```python\n",
    "import pandas\n",
    "from forml import testing\n",
    "\n",
    "from avazuctr import source\n",
    "\n",
    "\n",
    "class TestTimeExtractor(testing.operator(source.TimeExtractor)):\n",
    "    \"\"\"Unit testing the stateless TimeExtractor transformer.\"\"\"\n",
    "\n",
    "    # Dataset fixtures\n",
    "    EMPTY = pandas.DataFrame()\n",
    "    INPUT = pandas.DataFrame(\n",
    "        {\n",
    "            'hour': [\n",
    "                pandas.Timestamp('2023-02-01 14:12:10'),\n",
    "                pandas.Timestamp('2023-03-04 06:13:27'),\n",
    "                pandas.Timestamp('2023-04-10 12:00:00'),\n",
    "            ]\n",
    "        }\n",
    "    )\n",
    "    EXPECTED = pandas.DataFrame(\n",
    "        {\n",
    "            'hour': [14, 6, 12],\n",
    "            'dayofweek': [2, 5, 0],\n",
    "            'day': [1, 4, 10],\n",
    "            'month': [2, 3, 4],\n",
    "        }\n",
    "    ).astype('int32')\n",
    "\n",
    "    # Test scenarios\n",
    "    missing_column = (\n",
    "        testing.Case().apply(EMPTY).raises(AssertionError, 'Missing column: hour')\n",
    "    )\n",
    "    valid_extraction = (\n",
    "        testing.Case().apply(INPUT).returns(EXPECTED, testing.pandas_equals)\n",
    "    )\n",
    "```\n",
    "\n",
    "**SAVE THE [test_source.py](forml-solution-avazuctr/tests/test_source.py) FILE!**"
   ]
  },
  {
   "cell_type": "code",
   "execution_count": 9,
   "id": "7a3a5c5f-30f5-4246-8a47-2f89acc85be6",
   "metadata": {
    "tags": []
   },
   "outputs": [],
   "source": [
    "! git add tests/test_source.py"
   ]
  },
  {
   "cell_type": "code",
   "execution_count": 10,
   "id": "045928fa-ad18-40ed-b5ac-6c69be97ccf0",
   "metadata": {
    "tags": []
   },
   "outputs": [
    {
     "name": "stdout",
     "output_type": "stream",
     "text": [
      "running test\n",
      "WARNING: Testing via this command is deprecated and will be removed in a future version. Users looking for a generic test entry point independent of test runner are encouraged to use tox.\n",
      "running egg_info\n",
      "creating forml_solution_avazuctr.egg-info\n",
      "writing forml_solution_avazuctr.egg-info/PKG-INFO\n",
      "writing dependency_links to forml_solution_avazuctr.egg-info/dependency_links.txt\n",
      "writing requirements to forml_solution_avazuctr.egg-info/requires.txt\n",
      "writing top-level names to forml_solution_avazuctr.egg-info/top_level.txt\n",
      "writing manifest file 'forml_solution_avazuctr.egg-info/SOURCES.txt'\n",
      "reading manifest file 'forml_solution_avazuctr.egg-info/SOURCES.txt'\n",
      "writing manifest file 'forml_solution_avazuctr.egg-info/SOURCES.txt'\n",
      "running build_ext\n",
      "test_missing_column (tests.test_source.TestTimeExtractor)\n",
      "Test of Missing Column ... ERROR: 2023-05-11 15:29:38,249: __init__: Instruction TimeExtractor.apply failed when processing arguments: Empty DataFrame\n",
      "Columns: []\n",
      "Index: []\n",
      "Traceback (most recent call last):\n",
      "  File \"/usr/local/lib/python3.10/site-packages/forml/flow/_code/target/__init__.py\", line 56, in __call__\n",
      "    result = self.execute(*args)\n",
      "  File \"/usr/local/lib/python3.10/site-packages/forml/flow/_code/target/user.py\", line 196, in execute\n",
      "    return self.action(self.builder(), *args)\n",
      "  File \"/usr/local/lib/python3.10/site-packages/forml/flow/_code/target/user.py\", line 150, in __call__\n",
      "    result = actor.apply(*args)\n",
      "  File \"/usr/local/lib/python3.10/site-packages/forml/pipeline/wrap/_actor.py\", line 166, in apply\n",
      "    return self.Apply(*features, **self._kwargs)\n",
      "  File \"/opt/forml/workspace/3-solution/forml-solution-avazuctr/avazuctr/source.py\", line 43, in TimeExtractor\n",
      "    assert \"hour\" in features.columns, \"Missing column: hour\"\n",
      "AssertionError: Missing column: hour\n",
      "ok\n",
      "test_valid_extraction (tests.test_source.TestTimeExtractor)\n",
      "Test of Valid Extraction ... ok\n",
      "\n",
      "----------------------------------------------------------------------\n",
      "Ran 2 tests in 3.381s\n",
      "\n",
      "OK\n"
     ]
    }
   ],
   "source": [
    "! forml project test"
   ]
  }
 ],
 "metadata": {
  "kernelspec": {
   "display_name": "Python 3 (ipykernel)",
   "language": "python",
   "name": "python3"
  },
  "language_info": {
   "codemirror_mode": {
    "name": "ipython",
    "version": 3
   },
   "file_extension": ".py",
   "mimetype": "text/x-python",
   "name": "python",
   "nbconvert_exporter": "python",
   "pygments_lexer": "ipython3",
   "version": "3.10.11"
  }
 },
 "nbformat": 4,
 "nbformat_minor": 5
}

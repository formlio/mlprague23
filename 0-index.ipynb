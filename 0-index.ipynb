{
 "cells": [
  {
   "cell_type": "markdown",
   "id": "df47518d-5c90-42c6-921f-36bc24573235",
   "metadata": {
    "slideshow": {
     "slide_type": "slide"
    },
    "tags": []
   },
   "source": [
    "# Reproducible, Portable, and Distributable ML Solutions in Python"
   ]
  },
  {
   "cell_type": "markdown",
   "id": "131f602c-49ab-4a37-a0df-50a5e24bebd2",
   "metadata": {
    "slideshow": {
     "slide_type": "skip"
    },
    "tags": []
   },
   "source": [
    "This content is also [available in form of slides](0-index.slides.html) (best to browse your filesystem to open it outside of Jupyter)."
   ]
  },
  {
   "cell_type": "markdown",
   "id": "61f78e60-0e14-4b37-851c-1c6c219eef8e",
   "metadata": {
    "slideshow": {
     "slide_type": "slide"
    },
    "tags": []
   },
   "source": [
    "## Agenda\n",
    "\n",
    "| Block                   | Chapters                                                                    |\n",
    "|-------------------------|-----------------------------------------------------------------------------|\n",
    "| 1. Introduction         | Motivation, Context, Definitions                                            |\n",
    "|                         | Domain Model Properties                                                     |\n",
    "|                         | ML Lifecycle Patterns                                                       |\n",
    "|                         | Tooling Comparison                                                          |\n",
    "| 2. ForML Tutorial       | [Data Abstraction](2-tutorial/1-data-abstraction.ipynb)                     |\n",
    "|                         | [Task Dependency Management](2-tutorial/2-task-dependency-management.ipynb) |\n",
    "|                         | [Evaluation](2-tutorial/3-evaluation.ipynb)                                 |\n",
    "|                         | [Project Management](2-tutorial/4-project-management.ipynb)                 |\n",
    "| 3. Avazu CTR Solution   | [Setup & Exploration](3-solution/1-setup-and-exploration.ipynb)             |\n",
    "|                         | [Formal Base Model](3-solution/2-formal-base-model.ipynb)                   |\n",
    "|                         | [Pipeline Enhancements](3-solution/3-pipeline-enhancements.ipynb)           |\n",
    "|                         | [Release & Deployment](3-solution/4-release-and-deployment.ipynb)           |\n",
    "|                         | [Production Lifecycle Iterations](3-solution/5-lifecycle-iterations.ipynb)  |"
   ]
  },
  {
   "cell_type": "markdown",
   "id": "b066b2d2-441f-4316-bf94-06a6ca038f71",
   "metadata": {
    "slideshow": {
     "slide_type": "slide"
    },
    "tags": []
   },
   "source": [
    "## Setup\n",
    "\n",
    "1. Clone the [workshop repository](https://github.com/formlio/mlprague23):\n",
    "\n",
    "```shell\n",
    "$ git clone git@github.com:formlio/mlprague23.git\n",
    "$ cd mlprague23\n",
    "```\n",
    "2. [Install Docker Engine](https://docs.docker.com/engine/install/) along with the [Docker Compose plugin](https://docs.docker.com/compose/install/) (should be already part of any recent docker engine version).\n",
    "3. Spin up the workspace container from within the `mlprague23` project root directory (this will need to bind ports `8888`, `8000` and `4040` on your machine):\n",
    "```shell\n",
    "$ docker compose up -d\n",
    "```\n",
    "4. Load the workspace notebook interface at [http://127.0.0.1:8888/lab](http://127.0.0.1:8888/lab) using your browser."
   ]
  },
  {
   "cell_type": "markdown",
   "id": "51d232df-e09b-43ac-ac6f-8ddee921800d",
   "metadata": {
    "slideshow": {
     "slide_type": "slide"
    },
    "tags": []
   },
   "source": [
    "## Opening Remarks\n",
    "* To demonstrate all the core principles, we are going to use the opensource tool [ForML](https://github.com/formlio/forml).\n",
    "    * It's a development framework and MLOps platform for the lifecycle management of data science projects.\n",
    "    * **Give it a Star on [GitHub](https://github.com/formlio/forml)!**\n",
    "* For practical reasons, we choose to use a couple of traditional tools (Pandas, Scikit-learn) - they are by no means essential to any of the demonstrated principles.\n",
    "* Participants are encouraged to follow with hands-on engaging in the practical exercises.\n",
    "* We are using JupyterLab environment which works great (not only) for an interactive tutorial even though it doesn't shine in terms of reproducibility (see  the [famous talk at JupyterCon 2018 by Joel Grus](https://conferences.oreilly.com/jupyter/jup-ny/public/schedule/detail/68282.html)).\n",
    "* Alternatively, feel free to follow the content in the form of [slides](0-index.slides.html) (though they sometimes overflow with bulky output content)."
   ]
  }
 ],
 "metadata": {
  "kernelspec": {
   "display_name": "Python 3 (ipykernel)",
   "language": "python",
   "name": "python3"
  },
  "language_info": {
   "codemirror_mode": {
    "name": "ipython",
    "version": 3
   },
   "file_extension": ".py",
   "mimetype": "text/x-python",
   "name": "python",
   "nbconvert_exporter": "python",
   "pygments_lexer": "ipython3",
   "version": "3.10.11"
  }
 },
 "nbformat": 4,
 "nbformat_minor": 5
}

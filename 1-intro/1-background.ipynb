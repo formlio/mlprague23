{
 "cells": [
  {
   "cell_type": "markdown",
   "id": "9b8c06e8-ef18-41e2-9e1c-8cf98d1bf437",
   "metadata": {
    "slideshow": {
     "slide_type": "slide"
    },
    "tags": []
   },
   "source": [
    "Introduction: Background\n",
    "========================\n",
    "\n",
    "Reproducibility across all scientific domains has long been a major problem. The common solution is to firmly capture all inputs, parameters, procedures, conditions, and environments and provide it as part of the presented results. Conceptually, this overcomes the main reproducibility issue of scientific research, but _applied fields_ typically come with additional (in a certain way even conflicting) requirement - _portability_ - in order to achieve (not only) _distributability_ of the particular ML solution.\n",
    "\n",
    "In this worksop, we focus not so much on the problems of the general scientific research but primarily on the practical aspects of delivering ML solutions."
   ]
  },
  {
   "cell_type": "markdown",
   "id": "cd1928fe-c0bb-4786-bd91-5af36433b576",
   "metadata": {
    "slideshow": {
     "slide_type": "slide"
    },
    "tags": []
   },
   "source": [
    "Definitions\n",
    "-----------\n",
    "\n",
    "### Solution\n",
    "\n",
    "> An ML solution is the complete set of procedures to model a particular problem using machine learning so that it can predict results that meet the expected performance.\n",
    "\n",
    "The term _model_ is often used interchangeably in two different meanings:\n",
    "* the actual **trained model** (i.e. the learned weights/parameters) generalizing the patterns found in the data\n",
    "* the **logical model** - the particular choice of algorithms setup in a way (in form of a pipeline) to learn these patterns when exposed to the data\n",
    "\n",
    "The scope of this workshop is constrained to Python-based solutions only."
   ]
  },
  {
   "cell_type": "markdown",
   "id": "4153845d-43e6-4cd8-9b35-6b7aab4578ce",
   "metadata": {
    "slideshow": {
     "slide_type": "slide"
    },
    "tags": []
   },
   "source": [
    "### Reproducibility\n",
    "    \n",
    "[Reproducibility and Replicability in Science, page 46](https://nap.nationalacademies.org/read/25303/chapter/6#46):\n",
    "    \n",
    "> Reproducibility is the capacity to obtain consistent results using the **same inputs** (data, hyperparameters) and the **same processing** (code + hardware).\n",
    "\n",
    "Alternative/related definitions:\n",
    "* Replicability - when using conceptually same but otherwise completely _independently obtained_ instances of the original datasets\n",
    "* Repeatability - when performing ongoing (repeated) experimentation in the scope of the (same) project research"
   ]
  },
  {
   "cell_type": "markdown",
   "id": "b62a6251-4a59-4ff0-9b0f-baf824a510ef",
   "metadata": {
    "slideshow": {
     "slide_type": "slide"
    },
    "tags": []
   },
   "source": [
    "### Portability\n",
    "\n",
    "> Portability is the ability to operate the same solution within alternative environments.\n",
    "\n",
    "This can relate to a number of different _layers_ of the implementing stack:\n",
    "* different **executors** (e.g. Local vs Dask vs PySpark)\n",
    "* different script **interpreter/virtual machine** (e.g. Python (ABI) version)\n",
    "* different **Operating Systems**\n",
    "* different **HW architectures** (e.g. i386 vs arm64)\n",
    "\n",
    "Different levels of portability can be achieved depending on which of the two mentioned model definitions we consider:\n",
    "* the logical model - the pipeline (code) - can be fairly portable across all the different layers\n",
    "* portability of the physical trained model is generally much more difficult across different architectures and/or different Python (ABI) versions; that can be achieved only with specific model algorithms (through the support of special formats like [PMML](https://en.wikipedia.org/wiki/Predictive_Model_Markup_Language) and [ONNX](https://en.wikipedia.org/wiki/Open_Neural_Network_Exchange))\n",
    "\n",
    "The key principle in achieving portability is _abstraction_ of the required functionality which can then be delivered through a number of alternative providers."
   ]
  },
  {
   "cell_type": "markdown",
   "id": "0a00a805-277f-4889-92a6-9fd9629ab64f",
   "metadata": {
    "slideshow": {
     "slide_type": "slide"
    },
    "tags": []
   },
   "source": [
    "### Distributability\n",
    "\n",
    "> Distributability refers to the ease and flexibility with which an ML solution can be provided to, and operated by a third party.\n",
    "\n",
    "Distribution artifacts delivering an ML solution need to supply (at least):\n",
    "* the solution code\n",
    "* its dependencies\n",
    "* configuration\n",
    "* model files\n",
    "\n",
    "Distributability is the fruit of reproducibility and portability."
   ]
  },
  {
   "cell_type": "markdown",
   "id": "0e5f43df-4d98-4b91-b41c-1f61870c0760",
   "metadata": {
    "slideshow": {
     "slide_type": "slide"
    },
    "tags": []
   },
   "source": [
    "Motivation\n",
    "----------\n",
    "\n",
    "Pursuing reproducibility, portability and distributability brings the following rewards:"
   ]
  },
  {
   "cell_type": "markdown",
   "id": "21018884-287f-42c6-8001-98d224c982f8",
   "metadata": {
    "slideshow": {
     "slide_type": "slide"
    },
    "tags": []
   },
   "source": [
    "### Sharing, Reuse & Collaboration\n",
    "\n",
    "* allowing others to build on existing work and expand upon it\n",
    "* saving resources by avoiding the need to reinvent existing solutions (efficiency)\n",
    "* introducing a concept of ML solution marketplaces ([Hugging Face](https://huggingface.co/models), [BigML](https://bigml.com/gallery/models), ...)"
   ]
  },
  {
   "cell_type": "markdown",
   "id": "b10504c4-0805-4fb8-b17d-cf8513b8a1e7",
   "metadata": {
    "slideshow": {
     "slide_type": "slide"
    },
    "tags": []
   },
   "source": [
    "### Verification, Error Detection, Troubleshooting\n",
    "\n",
    "* helping to verify results and identifying errors in the particular solution (ability to reproduce an error is the key to fix it)\n",
    "* reproducibility is in principle the inherent foundation for the necessary internal consistency between the train/predict modes of any (supervised) ML solution"
   ]
  },
  {
   "cell_type": "markdown",
   "id": "9a47beb7-9724-4530-b934-25bad6e73c07",
   "metadata": {
    "slideshow": {
     "slide_type": "slide"
    },
    "tags": []
   },
   "source": [
    "### Cross-function Engagement\n",
    "\n",
    "* allowing to switch between technolgies that are optimal for different operational modes (which might themselves have conflicting requirements - e.g. using low latency engines for prediction serving vs large throughput platforms for training)\n",
    "* simplifying the research-to-production transition"
   ]
  },
  {
   "cell_type": "markdown",
   "id": "8e9aeba0-c230-4373-9cab-b3edba59e5a5",
   "metadata": {
    "slideshow": {
     "slide_type": "slide"
    },
    "tags": []
   },
   "source": [
    "### Failure Prevention\n",
    "\n",
    "* cure to the [Replication Crisis](https://en.wikipedia.org/wiki/Replication_crisis) (acording to the [Nature survey](https://www.nature.com/articles/533452a), more than 50% researchers failed to reproduce their own experiments)\n",
    "* research fraud (deliberately avoiding reproducibility with malicious intent - e.g. just to get 15 minutes of glory)\n",
    "* examples of reproducibility failures:\n",
    "    * [change of the popular ImagNet dataset](https://www.wired.com/story/researchers-blur-faces-launched-thousand-algorithms/) rendered all previously published models irreproducible\n",
    "    * from our own experience: _\"utf encoding\"_ (incompatible train/predict implementations)"
   ]
  },
  {
   "cell_type": "markdown",
   "id": "ec8c657a-afad-4989-b28d-bb850c2107b9",
   "metadata": {
    "slideshow": {
     "slide_type": "slide"
    },
    "tags": []
   },
   "source": [
    "What's Stopping it?\n",
    "-------------------\n",
    "\n",
    "* extra effort (i.e. in short-term seems rather as additional and unjustified cost)\n",
    "* little credit (i.e. not recognized as an obvious business value of the ML solution)"
   ]
  }
 ],
 "metadata": {
  "kernelspec": {
   "display_name": "Python 3 (ipykernel)",
   "language": "python",
   "name": "python3"
  },
  "language_info": {
   "codemirror_mode": {
    "name": "ipython",
    "version": 3
   },
   "file_extension": ".py",
   "mimetype": "text/x-python",
   "name": "python",
   "nbconvert_exporter": "python",
   "pygments_lexer": "ipython3",
   "version": "3.10.11"
  }
 },
 "nbformat": 4,
 "nbformat_minor": 5
}

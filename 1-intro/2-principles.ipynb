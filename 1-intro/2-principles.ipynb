{
 "cells": [
  {
   "cell_type": "markdown",
   "id": "87f12654-4f65-40b5-a293-2b32e7cc70c1",
   "metadata": {
    "slideshow": {
     "slide_type": "slide"
    },
    "tags": []
   },
   "source": [
    "Introduction: Principles\n",
    "========================\n",
    "\n",
    "To achieve reproducibility, portability, and distributability in a ML solution, it is essential to implement specific principles across all key layers of the solution's architecture. Let's focus on these principles in more detail."
   ]
  },
  {
   "cell_type": "markdown",
   "id": "5e91ea62-a95b-4b26-9ef8-ee854da3ccd1",
   "metadata": {
    "slideshow": {
     "slide_type": "slide"
    },
    "tags": []
   },
   "source": [
    "### Project Structure\n",
    "Organizing project structure so that it is intuitively easy to understand (no just by other people but also programmatically). Structure reflects the logical components of the solution:\n",
    "\n",
    "* data sourcing\n",
    "* data preprocessing\n",
    "* model training\n",
    "* model evaluation\n",
    "* tests\n",
    "* docs\n",
    "* notebooks\n",
    "* CI/CD\n",
    "\n",
    "Examples:\n",
    "* [Cookiecutter Data Science](https://drivendata.github.io/cookiecutter-data-science/)\n",
    "* [ML Project Best Practices](https://neptune.ai/blog/how-to-organize-deep-learning-projects-best-practices)"
   ]
  },
  {
   "cell_type": "markdown",
   "id": "08cdb2f4-eda0-4731-a9c7-605b8715fa56",
   "metadata": {
    "slideshow": {
     "slide_type": "slide"
    },
    "tags": []
   },
   "source": [
    "### Software Dependencies\n",
    "\n",
    "ML solutions are typically built using a number of 3rd party libraries and frameworks. This exact setup (including the individual versions) needs to be captured to allow reproducible reintegration.\n",
    "\n",
    "The special case of dependency is the version of the Python intepreter itself.\n",
    "\n",
    "Standard tools:\n",
    "\n",
    "* [Pipenv](https://github.com/pypa/pipenv)\n",
    "* [Conda](https://docs.conda.io/en/latest/)\n",
    "* [Docker](https://docs.docker.com/)"
   ]
  },
  {
   "cell_type": "markdown",
   "id": "13806116-27c1-499b-b71a-c47b23e7b80d",
   "metadata": {
    "slideshow": {
     "slide_type": "slide"
    },
    "tags": []
   },
   "source": [
    "### Hardware Factor\n",
    "\n",
    "Hardware - at least within the same architecture family - is the foremost subject to the main portability expectations. It's the role of the system stack to abstract the hardware layer well enough so that it generally doesn't have to be considered a factor. This is not necessarily the case for ML solutions due to their dominant use of floating-point arithmetic that's intrinsically prone to discrepancies thus affecting reproducibility."
   ]
  },
  {
   "cell_type": "markdown",
   "id": "3c37a2c4-4cdb-48be-b807-ff4602a5ed09",
   "metadata": {
    "slideshow": {
     "slide_type": "slide"
    },
    "tags": []
   },
   "source": [
    "### Non-deterministic Operations\n",
    "\n",
    "Stochastic processes are at the heart of many ML techniques thus posing a major reproducibility challenge.\n",
    "\n",
    "Common practice is to explicitly set the **seed** used by the random generators within:\n",
    "\n",
    "* the actual **algorithms** depending on randomization \n",
    "* core **libraries** themselves:\n",
    "    * `random.seed()`\n",
    "    * `torch.manual_seed()`\n",
    "    * `tensorflow.set_random_seed()`\n",
    "    * `numpy.random.seed()`\n",
    "\n",
    "Note, however, the choice of the seed numbers might have considerable impact on the results. It's advised to run a couple of experiments with different values to assess the particular effect.\n",
    "\n",
    "In addition, some of the popular libraries allow to explicitly disable internal use of non-deterministic algorithms:\n",
    "\n",
    "* `torch.use_deterministic_algorithms(True)`\n",
    "* `tfdeterminism.patch()`"
   ]
  },
  {
   "cell_type": "markdown",
   "id": "a1bc82ff-6568-43cc-94ac-f0381cf07f20",
   "metadata": {
    "slideshow": {
     "slide_type": "slide"
    },
    "tags": []
   },
   "source": [
    "### Source Code Implementation\n",
    "\n",
    "ML solutions are implemented as series of data-processing steps. Capturing these exact steps is essential for true reproducibility. In practice, this can be provided in form of:\n",
    "\n",
    "* **plain scripts** performing the steps directly upon execution (limited portability)\n",
    "* robust **task dependency management** systems separating the stage of the task graph assembly from its scheduling and execution; this concept allows to:\n",
    "    * transcode workflows for execution using **different runners**\n",
    "    * **derive secondary workflows** from primary definitions (e.g. _evaluation_ workflow can be potentially derived from _train_ and _predict_ workflows)\n",
    "    * transparently **manage (model) state persistence**\n",
    "\n",
    "Note the implementor is responsible to maintain logical **consistency between the training and predicting modes** (e.g. matching transformations to be applied in the scope of pre-processing etc.).\n",
    "\n",
    "The general **code quality** is a major aspect of its direct usability and thus reproducibility. Therfore standard clean-code development practice is the base guideline to follow:\n",
    "\n",
    "* code **linting** ([Pylint](https://github.com/pylint-dev/pylint), [Pyflakes](https://github.com/PyCQA/pyflakes))\n",
    "* code **formatting** ([Black](https://github.com/psf/black), [isort](https://pycqa.github.io/isort/), [PyCln](https://hadialqattan.github.io/pycln/#/), [pyupgrade](https://github.com/asottile/pyupgrade), ...)\n",
    "* automated (unit) **testing** ([Pytest](https://docs.pytest.org/))"
   ]
  },
  {
   "cell_type": "markdown",
   "id": "0668031c-ce8c-4da2-adec-c9b74b3129f8",
   "metadata": {
    "slideshow": {
     "slide_type": "slide"
    },
    "tags": []
   },
   "source": [
    "### Source Code Version Control\n",
    "\n",
    "The use of version control system for managing the code base and parameters of a ML solution is necessary to:\n",
    "\n",
    "* track and review changes made over time\n",
    "* enabling better collaboration and teamwork\n",
    "* identifying and fixing changes leading to bugs\n",
    "* possibly as part of experiment tracking \n"
   ]
  },
  {
   "cell_type": "markdown",
   "id": "de9e2bb4-89ba-4d28-9a57-c1f3e6527e15",
   "metadata": {
    "slideshow": {
     "slide_type": "slide"
    },
    "tags": []
   },
   "source": [
    "### Dataset Management\n",
    "\n",
    "Effective dataset management is absolutely critical for ensuring reliability of any data-driven solution.\n",
    " \n",
    "The key mechanisms related to reproducible dataset management are:\n",
    "\n",
    "* data **versioning** - tracking changes made to data over time and allowing to access their particular revision:\n",
    "    * [Pachyderm](https://www.pachyderm.com/blog/what-is-data-lineage/)\n",
    "    * [git-lfs](https://git-lfs.com/)\n",
    "    * [git-annex](https://git-annex.branchable.com/)\n",
    "* data **lineage tracking** - capturing the history of data as it moves through the various stages within the system:\n",
    "    * [DataHub](https://datahubproject.io/docs/lineage/lineage-feature-guide/)\n",
    "\n",
    "From portability perspective, ML solution shouldn't be hardcoding related parameters like explicit datasource location, their physical data formats or encodings. This relates to a couple of additional concepts:\n",
    "\n",
    "* dataset **abstraction** - decoupling solutions from physical datasets using their **schemas as data proxies**\n",
    "* specifying data requirements within portable solutions using runtime-interpretable **queries**"
   ]
  },
  {
   "cell_type": "markdown",
   "id": "c4815321-36ea-42fa-9727-5df17e647512",
   "metadata": {
    "slideshow": {
     "slide_type": "slide"
    },
    "tags": []
   },
   "source": [
    "### Experiment Tracking\n",
    "\n",
    "Keeping track of experiments during the ML solution research is the key mechanism for ensuring its _repeatability_ (see our original [definitions](1-background.ipynb)).\n",
    "\n",
    "Existing tools for experiment tracking:\n",
    "\n",
    "* in the simplest form can be implemented just using plain version control\n",
    "* number of available dedicated high-level tools:\n",
    "    * [MLflow](https://mlflow.org/docs/latest/tracking.html)\n",
    "    * [Neptune](https://neptune.ai/product/experiment-tracking)"
   ]
  },
  {
   "cell_type": "markdown",
   "id": "41e0c97e-08af-49ae-8623-bd90433bc416",
   "metadata": {
    "slideshow": {
     "slide_type": "slide"
    },
    "tags": []
   },
   "source": [
    "### Model Persistence\n",
    "\n",
    "Central component of the production lifecycle is the **model registry** used to persist the internal **state** of trained models and their related **artifacts**. This allows to _distribute_ the models across different teams and environments and also contributes to reproducibility by tracking the model versions, their code and hyperparameters.\n",
    "\n",
    "I contrast to special model formats of certain algorithms, the popular generic approach for persisting any model states in Python is their serialization using the [Pickle protocol](https://docs.python.org/3/library/pickle.html). Since this is notoriously insecure, only trusted models persisted this way should ever be loaded (possibly armed with security checksums).\n",
    "\n",
    "Few examples of model registry implementations are:\n",
    "* [MLflow](https://medium.com/ochrona/python-pickle-is-notoriously-insecure-d6651f1974c9)\n",
    "* [Neptune](https://neptune.ai/product/model-registry)"
   ]
  },
  {
   "cell_type": "markdown",
   "id": "52717bb1-3497-48e5-8e96-b4562ebda682",
   "metadata": {
    "slideshow": {
     "slide_type": "slide"
    },
    "tags": []
   },
   "source": [
    "### Lifecycle Management, Orchestration and CI/CD\n",
    "\n",
    "Eliminating manual steps when performing any of the (particularly production) lifecycle actions is a necessary practice for achieving reproducibility.\n",
    "\n",
    "The main lifecycle steps that need to be handled non-interactively are:\n",
    "\n",
    "* releasing/artifact packaging\n",
    "* training\n",
    "* tuning\n",
    "* evaluation\n",
    "* deployment\n",
    "\n",
    "This is typically implemented through:\n",
    "\n",
    "* integration with standard CI/CD tools and version control systems\n",
    "* using task scheduling platforms for any periodic actions (model retraining/refreshing, serving performance evaluation/monitoring)\n"
   ]
  },
  {
   "cell_type": "markdown",
   "id": "2cc17732-22e4-47a1-ad2d-0dd8489c00e0",
   "metadata": {
    "slideshow": {
     "slide_type": "slide"
    },
    "tags": []
   },
   "source": [
    "### Documentation\n",
    "\n",
    "Good documentation is the corner stone of successful reproducibility. \n",
    "\n",
    "The documentation can come in a number of different forms (and their combinations):\n",
    "\n",
    "* code itself and its docstrings\n",
    "* [Jupyter](https://jupyter.org/) notebooks\n",
    "* simple `README` files\n",
    "* specialized documentation tools:\n",
    "    * [mkdocs](https://www.mkdocs.org/)\n",
    "    * [Sphinx](https://www.sphinx-doc.org/en/master/)\n",
    "* in case of scientific research this should be the published paper itself"
   ]
  }
 ],
 "metadata": {
  "kernelspec": {
   "display_name": "Python 3 (ipykernel)",
   "language": "python",
   "name": "python3"
  },
  "language_info": {
   "codemirror_mode": {
    "name": "ipython",
    "version": 3
   },
   "file_extension": ".py",
   "mimetype": "text/x-python",
   "name": "python",
   "nbconvert_exporter": "python",
   "pygments_lexer": "ipython3",
   "version": "3.10.11"
  }
 },
 "nbformat": 4,
 "nbformat_minor": 5
}

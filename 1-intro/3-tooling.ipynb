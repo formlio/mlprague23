{
 "cells": [
  {
   "cell_type": "markdown",
   "id": "0916771b-5eea-434a-9903-509717b69baa",
   "metadata": {
    "tags": []
   },
   "source": [
    "Introduction: Tooling\n",
    "=====================\n",
    "\n",
    "This page presents a brief overview of the available tools allowing to implement ML solutions in reproducible, portable and distributable way."
   ]
  },
  {
   "cell_type": "markdown",
   "id": "12736f6a-7e95-4dde-a55b-c728a3df5b07",
   "metadata": {
    "slideshow": {
     "slide_type": "slide"
    },
    "tags": []
   },
   "source": [
    "Overview\n",
    "--------\n",
    "\n",
    "TODO: complete me\n",
    "\n",
    "Some resources:\n",
    " \n",
    "* https://www.datacamp.com/blog/top-mlops-tools\n",
    "* https://neptune.ai/blog/best-mlops-tools\n",
    "* https://mlops.neptune.ai/\n",
    "* https://neptune.ai/blog/end-to-end-mlops-platforms\n",
    "* https://github.com/thoughtworks/mlops-platforms\n",
    "\n",
    "### MLflow\n",
    "### Kedro\n",
    "### DVC\n",
    "### Pachyderm\n",
    "### Kubeflow\n",
    "### Polyaxon\n",
    "### Seldon\n",
    "### BentoML\n",
    "### Cortex\n",
    "### Comet ML\n",
    "### Prefect\n",
    "### Metaflow\n",
    "### ForML"
   ]
  },
  {
   "cell_type": "markdown",
   "id": "6410c659-6d19-4128-b145-3e0f1fc74ed6",
   "metadata": {
    "slideshow": {
     "slide_type": "slide"
    },
    "tags": []
   },
   "source": [
    "Comparison Matrix\n",
    "-----------------\n",
    "\n",
    "TODO: complete me\n",
    "\n",
    "|           | Project Management | SW Dependencies | Native Workflows | Dataset Versioning | Dataset Lineage | Dataset Abstraction | Experiment Tracking | Model Registry | Evaluation | Tuning | Serving |\n",
    "|-----------|--------------------|-----------------|------------------|--------------------|-----------------|---------------------|---------------------|----------------|------------|--------|---------|\n",
    "| MLflow    |      yes/no        |     yes/no      |     yes/no       |      yes/no        |     yes/no      |       yes/no        |      yes/no         |     yes/no     |   yes/no   | yes/no | yes/no  |\n",
    "| Kedro     |      yes/no        |     yes/no      |     yes/no       |      yes/no        |     yes/no      |       yes/no        |      yes/no         |     yes/no     |   yes/no   | yes/no | yes/no  |\n",
    "| DVC       |      yes/no        |     yes/no      |     yes/no       |      yes/no        |     yes/no      |       yes/no        |      yes/no         |     yes/no     |   yes/no   | yes/no | yes/no  |\n",
    "| Pachyderm |      yes/no        |     yes/no      |     yes/no       |      yes/no        |     yes/no      |       yes/no        |      yes/no         |     yes/no     |   yes/no   | yes/no | yes/no  |\n",
    "| Kubeflow  |      yes/no        |     yes/no      |     yes/no       |      yes/no        |     yes/no      |       yes/no        |      yes/no         |     yes/no     |   yes/no   | yes/no | yes/no  |\n",
    "| Polyaxon  |      yes/no        |     yes/no      |     yes/no       |      yes/no        |     yes/no      |       yes/no        |      yes/no         |     yes/no     |   yes/no   | yes/no | yes/no  |\n",
    "| Seldon    |      yes/no        |     yes/no      |     yes/no       |      yes/no        |     yes/no      |       yes/no        |      yes/no         |     yes/no     |   yes/no   | yes/no | yes/no  |\n",
    "| BentoML   |      yes/no        |     yes/no      |     yes/no       |      yes/no        |     yes/no      |       yes/no        |      yes/no         |     yes/no     |   yes/no   | yes/no | yes/no  |\n",
    "| Cortex    |      yes/no        |     yes/no      |     yes/no       |      yes/no        |     yes/no      |       yes/no        |      yes/no         |     yes/no     |   yes/no   | yes/no | yes/no  |\n",
    "| Comet ML  |      yes/no        |     yes/no      |     yes/no       |      yes/no        |     yes/no      |       yes/no        |      yes/no         |     yes/no     |   yes/no   | yes/no | yes/no  |\n",
    "| Prefect   |      yes/no        |     yes/no      |     yes/no       |      yes/no        |     yes/no      |       yes/no        |      yes/no         |     yes/no     |   yes/no   | yes/no | yes/no  |\n",
    "| Metaflow  |      yes/no        |     yes/no      |     yes/no       |      yes/no        |     yes/no      |       yes/no        |      yes/no         |     yes/no     |   yes/no   | yes/no | yes/no  |\n",
    "| ForML     |      yes/no        |     yes/no      |     yes/no       |      yes/no        |     yes/no      |       yes/no        |      yes/no         |     yes/no     |   yes/no   | yes/no | yes/no  "
   ]
  }
 ],
 "metadata": {
  "kernelspec": {
   "display_name": "Python 3 (ipykernel)",
   "language": "python",
   "name": "python3"
  },
  "language_info": {
   "codemirror_mode": {
    "name": "ipython",
    "version": 3
   },
   "file_extension": ".py",
   "mimetype": "text/x-python",
   "name": "python",
   "nbconvert_exporter": "python",
   "pygments_lexer": "ipython3",
   "version": "3.10.11"
  }
 },
 "nbformat": 4,
 "nbformat_minor": 5
}

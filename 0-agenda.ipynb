{
 "cells": [
  {
   "cell_type": "markdown",
   "id": "df47518d-5c90-42c6-921f-36bc24573235",
   "metadata": {
    "slideshow": {
     "slide_type": "slide"
    },
    "tags": []
   },
   "source": [
    "Reproducible, Portable, and Distributable ML Solutions in Python\n",
    "================================================================\n",
    "\n",
    "* Stepan Kadlec, stepan.kadlec@gmail.com\n",
    "* Mike Pearmain, michael.pearmain@gmail.com"
   ]
  },
  {
   "cell_type": "markdown",
   "id": "61f78e60-0e14-4b37-851c-1c6c219eef8e",
   "metadata": {
    "slideshow": {
     "slide_type": "slide"
    },
    "tags": []
   },
   "source": [
    "Agenda\n",
    "------\n",
    "\n",
    "| Time          | Block                   | Chapters                                                                    |\n",
    "|---------------|-------------------------|-----------------------------------------------------------------------------|\n",
    "| 9:00 - 9:45   | Introduction            | [Background](1-intro/1-background.ipynb)                                    |\n",
    "|               |                         | [Principles](1-intro/2-principles.ipynb)                                    |\n",
    "|               |                         | [Tooling](1-intro/3-tooling.ipynb)                                          |\n",
    "| 9:45 - 10:30  | Tutorial                | [Data Abstraction](2-tutorial/1-data-abstraction.ipynb)                     |\n",
    "|               |                         | [Task Dependency Management](2-tutorial/2-task-dependency-management.ipynb) |\n",
    "|               |                         | [Evaluation](2-tutorial/3-evaluation.ipynb)                                 |\n",
    "| 10:30 - 11:00 | Cofee Break             |                                                                             |\n",
    "| 11:00 - 11:45 | Tutorial Continued      | [Project Management](2-tutorial/4-project-management.ipynb)                 |\n",
    "| 11:45 - 12:30 | Avazu CTR Solution      | [Setup & Exploration](3-solution/1-setup-and-exploration.ipynb)             |\n",
    "|               |                         | [Formal Base Model](3-solution/2-formal-base-model.ipynb)                   |\n",
    "|               |                         | [Pipeline Enhancements](3-solution/3-pipeline-enhancements.ipynb)           |\n",
    "|               |                         | [Release & Deployment](3-solution/4-release-and-deployment.ipynb)           |\n",
    "|               |                         | [Lifecycle Iterations](3-solution/5-lifecycle-iterations.ipynb)             |"
   ]
  },
  {
   "cell_type": "markdown",
   "id": "b066b2d2-441f-4316-bf94-06a6ca038f71",
   "metadata": {
    "slideshow": {
     "slide_type": "slide"
    },
    "tags": []
   },
   "source": [
    "Setup\n",
    "-----\n",
    "\n",
    "1. Clone the [workshop repository](https://github.com/formlio/mlprague23):\n",
    "\n",
    "```shell\n",
    "$ git clone git@github.com:formlio/mlprague23.git\n",
    "$ cd mlprague23\n",
    "```\n",
    "2. [Install Docker Engine](https://docs.docker.com/engine/install/) along with the [Docker Compose plugin](https://docs.docker.com/compose/install/).\n",
    "3. Spin up the workspace container from within the `mlprague23` project root directory:\n",
    "```shell\n",
    "$ docker compose up -d\n",
    "```\n",
    "4. Load the [workspace notebook interface](http://127.0.0.1:8888/lab) using your browser.\n"
   ]
  }
 ],
 "metadata": {
  "kernelspec": {
   "display_name": "Python 3 (ipykernel)",
   "language": "python",
   "name": "python3"
  },
  "language_info": {
   "codemirror_mode": {
    "name": "ipython",
    "version": 3
   },
   "file_extension": ".py",
   "mimetype": "text/x-python",
   "name": "python",
   "nbconvert_exporter": "python",
   "pygments_lexer": "ipython3",
   "version": "3.10.11"
  }
 },
 "nbformat": 4,
 "nbformat_minor": 5
}
